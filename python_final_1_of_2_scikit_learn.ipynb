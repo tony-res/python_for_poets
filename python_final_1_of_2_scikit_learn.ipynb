{
 "cells": [
  {
   "cell_type": "markdown",
   "id": "f69689d1",
   "metadata": {},
   "source": [
    "# Data Science 101\n",
    "## [Classifier Models](https://scikit-learn.org/stable/modules/tree.html#classification)\n",
    "\n",
    "We'll use [scikit-learn](https://scikit-learn.org/stable/) to create a model that classifies some data (just created randomly) into 3 classes. This will be a good mockup of our cGMP datasets for the biosciences.\n",
    "\n",
    "A classifier model separates 2 or more classes. For example, the blue and red lines below separate the filled circles from the empty circles. Each line would be a unique classifier (some are better than others as you can see).\n",
    "\n",
    "![classifier image](https://upload.wikimedia.org/wikipedia/commons/thumb/2/20/Svm_separating_hyperplanes.png/1024px-Svm_separating_hyperplanes.png)"
   ]
  },
  {
   "cell_type": "code",
   "execution_count": 1,
   "id": "ea911e26",
   "metadata": {},
   "outputs": [],
   "source": [
    "import numpy as np\n",
    "import pandas as pd\n",
    "\n",
    "import csv"
   ]
  },
  {
   "cell_type": "code",
   "execution_count": 2,
   "id": "38e050ef",
   "metadata": {},
   "outputs": [],
   "source": [
    "import sklearn   # %pip install scikit-learn"
   ]
  },
  {
   "cell_type": "code",
   "execution_count": 3,
   "id": "37962c00",
   "metadata": {},
   "outputs": [],
   "source": [
    "from sklearn.datasets import make_classification"
   ]
  },
  {
   "cell_type": "markdown",
   "id": "18248b2f",
   "metadata": {},
   "source": [
    "## Create some data for a classification model\n",
    "\n",
    "`scikit-learn` has a nice helper function to generate classification datasets. We'll use this to create our toy dataset. There will be 3 classes and 8 features (variables)."
   ]
  },
  {
   "cell_type": "code",
   "execution_count": 4,
   "id": "fb011afd",
   "metadata": {},
   "outputs": [],
   "source": [
    "np.random.seed(816)  # Make sure we get the same random sequence whenever we run it"
   ]
  },
  {
   "cell_type": "code",
   "execution_count": 5,
   "id": "2549a5e9",
   "metadata": {},
   "outputs": [],
   "source": [
    "X, Y = make_classification(n_samples=605923, n_features=8, n_classes=3, n_informative=5)"
   ]
  },
  {
   "cell_type": "markdown",
   "id": "52656a1e",
   "metadata": {},
   "source": [
    "## Put the data into a DataFrame\n",
    "\n",
    "DataFrames make it easy to organize and massage our datasets. "
   ]
  },
  {
   "cell_type": "code",
   "execution_count": 6,
   "id": "76a67624",
   "metadata": {},
   "outputs": [],
   "source": [
    "feature_names = np.array(\n",
    "    [\n",
    "        \"pH\",\n",
    "        \"concentration (μg/ml)\",\n",
    "        \"molarity (mol/L)\",\n",
    "        \"temperature (°C)\",\n",
    "        \"lipophilicity\",\n",
    "        \"volume (ml)\",\n",
    "        \"turbidity (NTU)\",\n",
    "        \"elapsed time (secs)\",\n",
    "    ]\n",
    ")\n",
    "\n",
    "df = pd.DataFrame(X, columns=feature_names)"
   ]
  },
  {
   "cell_type": "code",
   "execution_count": 7,
   "id": "03022032",
   "metadata": {},
   "outputs": [
    {
     "data": {
      "text/html": [
       "<div>\n",
       "<style scoped>\n",
       "    .dataframe tbody tr th:only-of-type {\n",
       "        vertical-align: middle;\n",
       "    }\n",
       "\n",
       "    .dataframe tbody tr th {\n",
       "        vertical-align: top;\n",
       "    }\n",
       "\n",
       "    .dataframe thead th {\n",
       "        text-align: right;\n",
       "    }\n",
       "</style>\n",
       "<table border=\"1\" class=\"dataframe\">\n",
       "  <thead>\n",
       "    <tr style=\"text-align: right;\">\n",
       "      <th></th>\n",
       "      <th>pH</th>\n",
       "      <th>concentration (μg/ml)</th>\n",
       "      <th>molarity (mol/L)</th>\n",
       "      <th>temperature (°C)</th>\n",
       "      <th>lipophilicity</th>\n",
       "      <th>volume (ml)</th>\n",
       "      <th>turbidity (NTU)</th>\n",
       "      <th>elapsed time (secs)</th>\n",
       "    </tr>\n",
       "  </thead>\n",
       "  <tbody>\n",
       "    <tr>\n",
       "      <th>0</th>\n",
       "      <td>0.725232</td>\n",
       "      <td>1.945323</td>\n",
       "      <td>-1.430745</td>\n",
       "      <td>-1.478135</td>\n",
       "      <td>-1.881911</td>\n",
       "      <td>2.051609</td>\n",
       "      <td>-0.437596</td>\n",
       "      <td>-1.738268</td>\n",
       "    </tr>\n",
       "    <tr>\n",
       "      <th>1</th>\n",
       "      <td>1.177159</td>\n",
       "      <td>1.386740</td>\n",
       "      <td>-1.742781</td>\n",
       "      <td>1.535979</td>\n",
       "      <td>-2.805019</td>\n",
       "      <td>-4.131702</td>\n",
       "      <td>0.595392</td>\n",
       "      <td>0.132199</td>\n",
       "    </tr>\n",
       "    <tr>\n",
       "      <th>2</th>\n",
       "      <td>0.390952</td>\n",
       "      <td>-0.892718</td>\n",
       "      <td>-0.377981</td>\n",
       "      <td>0.032222</td>\n",
       "      <td>1.035891</td>\n",
       "      <td>0.472194</td>\n",
       "      <td>0.548471</td>\n",
       "      <td>0.350795</td>\n",
       "    </tr>\n",
       "    <tr>\n",
       "      <th>3</th>\n",
       "      <td>-0.235868</td>\n",
       "      <td>1.776299</td>\n",
       "      <td>-0.150960</td>\n",
       "      <td>-0.686130</td>\n",
       "      <td>-1.907406</td>\n",
       "      <td>-2.756324</td>\n",
       "      <td>-0.596668</td>\n",
       "      <td>-1.010278</td>\n",
       "    </tr>\n",
       "    <tr>\n",
       "      <th>4</th>\n",
       "      <td>0.657548</td>\n",
       "      <td>0.003453</td>\n",
       "      <td>1.185180</td>\n",
       "      <td>-0.189665</td>\n",
       "      <td>-0.302958</td>\n",
       "      <td>-1.250753</td>\n",
       "      <td>-0.042773</td>\n",
       "      <td>-0.540640</td>\n",
       "    </tr>\n",
       "  </tbody>\n",
       "</table>\n",
       "</div>"
      ],
      "text/plain": [
       "         pH  concentration (μg/ml)  molarity (mol/L)  temperature (°C)  \\\n",
       "0  0.725232               1.945323         -1.430745         -1.478135   \n",
       "1  1.177159               1.386740         -1.742781          1.535979   \n",
       "2  0.390952              -0.892718         -0.377981          0.032222   \n",
       "3 -0.235868               1.776299         -0.150960         -0.686130   \n",
       "4  0.657548               0.003453          1.185180         -0.189665   \n",
       "\n",
       "   lipophilicity  volume (ml)  turbidity (NTU)  elapsed time (secs)  \n",
       "0      -1.881911     2.051609        -0.437596            -1.738268  \n",
       "1      -2.805019    -4.131702         0.595392             0.132199  \n",
       "2       1.035891     0.472194         0.548471             0.350795  \n",
       "3      -1.907406    -2.756324        -0.596668            -1.010278  \n",
       "4      -0.302958    -1.250753        -0.042773            -0.540640  "
      ]
     },
     "execution_count": 7,
     "metadata": {},
     "output_type": "execute_result"
    }
   ],
   "source": [
    "df.head(5)"
   ]
  },
  {
   "cell_type": "markdown",
   "id": "724b838d",
   "metadata": {},
   "source": [
    "### Scale and shift to make the data seem realistic\n",
    "\n",
    "I'm just randomly chosing values to scale and shift the data so that the values \"make sense\" for the parameter they represent. For example, concentrations and elapsed time should be positive numbers."
   ]
  },
  {
   "cell_type": "code",
   "execution_count": 8,
   "id": "3f347eca",
   "metadata": {},
   "outputs": [],
   "source": [
    "# Add the minimum value to everything but the 3rd column (temperature)\n",
    "# This makes those values all positive numbers.\n",
    "for column in feature_names[np.arange(len(feature_names)) != 3]:\n",
    "    df[column] += abs(df[column].min())\n",
    "\n",
    "# It's random data so let's just get it\n",
    "#       looking correctly for the feature\n",
    "df[\"temperature (°C)\"] *= 10\n",
    "df[\"temperature (°C)\"] += 5.4\n",
    "df[\"volume (ml)\"] *= 1e4\n",
    "df[\"concentration (μg/ml)\"] /= 1e4\n",
    "df[\"elapsed time (secs)\"] += 227\n",
    "df[\"elapsed time (secs)\"] *= 10"
   ]
  },
  {
   "cell_type": "code",
   "execution_count": 9,
   "id": "31ba2980",
   "metadata": {},
   "outputs": [
    {
     "data": {
      "text/html": [
       "<div>\n",
       "<style scoped>\n",
       "    .dataframe tbody tr th:only-of-type {\n",
       "        vertical-align: middle;\n",
       "    }\n",
       "\n",
       "    .dataframe tbody tr th {\n",
       "        vertical-align: top;\n",
       "    }\n",
       "\n",
       "    .dataframe thead th {\n",
       "        text-align: right;\n",
       "    }\n",
       "</style>\n",
       "<table border=\"1\" class=\"dataframe\">\n",
       "  <thead>\n",
       "    <tr style=\"text-align: right;\">\n",
       "      <th></th>\n",
       "      <th>pH</th>\n",
       "      <th>concentration (μg/ml)</th>\n",
       "      <th>molarity (mol/L)</th>\n",
       "      <th>temperature (°C)</th>\n",
       "      <th>lipophilicity</th>\n",
       "      <th>volume (ml)</th>\n",
       "      <th>turbidity (NTU)</th>\n",
       "      <th>elapsed time (secs)</th>\n",
       "    </tr>\n",
       "  </thead>\n",
       "  <tbody>\n",
       "    <tr>\n",
       "      <th>0</th>\n",
       "      <td>5.744047</td>\n",
       "      <td>0.000787</td>\n",
       "      <td>5.234648</td>\n",
       "      <td>-9.381354</td>\n",
       "      <td>12.528551</td>\n",
       "      <td>93655.444937</td>\n",
       "      <td>7.631413</td>\n",
       "      <td>2345.429022</td>\n",
       "    </tr>\n",
       "    <tr>\n",
       "      <th>1</th>\n",
       "      <td>6.195974</td>\n",
       "      <td>0.000732</td>\n",
       "      <td>4.922611</td>\n",
       "      <td>20.759788</td>\n",
       "      <td>11.605443</td>\n",
       "      <td>31822.339160</td>\n",
       "      <td>8.664401</td>\n",
       "      <td>2364.133690</td>\n",
       "    </tr>\n",
       "    <tr>\n",
       "      <th>2</th>\n",
       "      <td>5.409767</td>\n",
       "      <td>0.000504</td>\n",
       "      <td>6.287411</td>\n",
       "      <td>5.722223</td>\n",
       "      <td>15.446353</td>\n",
       "      <td>77861.300135</td>\n",
       "      <td>8.617480</td>\n",
       "      <td>2366.319655</td>\n",
       "    </tr>\n",
       "    <tr>\n",
       "      <th>3</th>\n",
       "      <td>4.782947</td>\n",
       "      <td>0.000771</td>\n",
       "      <td>6.514433</td>\n",
       "      <td>-1.461302</td>\n",
       "      <td>12.503056</td>\n",
       "      <td>45576.113138</td>\n",
       "      <td>7.472341</td>\n",
       "      <td>2352.708926</td>\n",
       "    </tr>\n",
       "    <tr>\n",
       "      <th>4</th>\n",
       "      <td>5.676364</td>\n",
       "      <td>0.000593</td>\n",
       "      <td>7.850572</td>\n",
       "      <td>3.503352</td>\n",
       "      <td>14.107504</td>\n",
       "      <td>60631.825191</td>\n",
       "      <td>8.026235</td>\n",
       "      <td>2357.405303</td>\n",
       "    </tr>\n",
       "    <tr>\n",
       "      <th>...</th>\n",
       "      <td>...</td>\n",
       "      <td>...</td>\n",
       "      <td>...</td>\n",
       "      <td>...</td>\n",
       "      <td>...</td>\n",
       "      <td>...</td>\n",
       "      <td>...</td>\n",
       "      <td>...</td>\n",
       "    </tr>\n",
       "    <tr>\n",
       "      <th>605918</th>\n",
       "      <td>6.331137</td>\n",
       "      <td>0.000859</td>\n",
       "      <td>6.351610</td>\n",
       "      <td>-8.360471</td>\n",
       "      <td>8.022953</td>\n",
       "      <td>81362.104250</td>\n",
       "      <td>9.834977</td>\n",
       "      <td>2305.514459</td>\n",
       "    </tr>\n",
       "    <tr>\n",
       "      <th>605919</th>\n",
       "      <td>5.127211</td>\n",
       "      <td>0.000445</td>\n",
       "      <td>7.143865</td>\n",
       "      <td>-0.092239</td>\n",
       "      <td>15.190061</td>\n",
       "      <td>57069.762130</td>\n",
       "      <td>9.665127</td>\n",
       "      <td>2353.064857</td>\n",
       "    </tr>\n",
       "    <tr>\n",
       "      <th>605920</th>\n",
       "      <td>6.676017</td>\n",
       "      <td>0.000845</td>\n",
       "      <td>6.818992</td>\n",
       "      <td>-2.759908</td>\n",
       "      <td>12.436351</td>\n",
       "      <td>67069.699844</td>\n",
       "      <td>6.266615</td>\n",
       "      <td>2355.959926</td>\n",
       "    </tr>\n",
       "    <tr>\n",
       "      <th>605921</th>\n",
       "      <td>3.071569</td>\n",
       "      <td>0.000594</td>\n",
       "      <td>6.693396</td>\n",
       "      <td>13.432805</td>\n",
       "      <td>14.681529</td>\n",
       "      <td>84802.051315</td>\n",
       "      <td>7.508070</td>\n",
       "      <td>2373.199376</td>\n",
       "    </tr>\n",
       "    <tr>\n",
       "      <th>605922</th>\n",
       "      <td>5.263818</td>\n",
       "      <td>0.000395</td>\n",
       "      <td>3.902334</td>\n",
       "      <td>-3.057376</td>\n",
       "      <td>15.414881</td>\n",
       "      <td>96116.563337</td>\n",
       "      <td>11.204406</td>\n",
       "      <td>2348.976253</td>\n",
       "    </tr>\n",
       "  </tbody>\n",
       "</table>\n",
       "<p>605923 rows × 8 columns</p>\n",
       "</div>"
      ],
      "text/plain": [
       "              pH  concentration (μg/ml)  molarity (mol/L)  temperature (°C)  \\\n",
       "0       5.744047               0.000787          5.234648         -9.381354   \n",
       "1       6.195974               0.000732          4.922611         20.759788   \n",
       "2       5.409767               0.000504          6.287411          5.722223   \n",
       "3       4.782947               0.000771          6.514433         -1.461302   \n",
       "4       5.676364               0.000593          7.850572          3.503352   \n",
       "...          ...                    ...               ...               ...   \n",
       "605918  6.331137               0.000859          6.351610         -8.360471   \n",
       "605919  5.127211               0.000445          7.143865         -0.092239   \n",
       "605920  6.676017               0.000845          6.818992         -2.759908   \n",
       "605921  3.071569               0.000594          6.693396         13.432805   \n",
       "605922  5.263818               0.000395          3.902334         -3.057376   \n",
       "\n",
       "        lipophilicity   volume (ml)  turbidity (NTU)  elapsed time (secs)  \n",
       "0           12.528551  93655.444937         7.631413          2345.429022  \n",
       "1           11.605443  31822.339160         8.664401          2364.133690  \n",
       "2           15.446353  77861.300135         8.617480          2366.319655  \n",
       "3           12.503056  45576.113138         7.472341          2352.708926  \n",
       "4           14.107504  60631.825191         8.026235          2357.405303  \n",
       "...               ...           ...              ...                  ...  \n",
       "605918       8.022953  81362.104250         9.834977          2305.514459  \n",
       "605919      15.190061  57069.762130         9.665127          2353.064857  \n",
       "605920      12.436351  67069.699844         6.266615          2355.959926  \n",
       "605921      14.681529  84802.051315         7.508070          2373.199376  \n",
       "605922      15.414881  96116.563337        11.204406          2348.976253  \n",
       "\n",
       "[605923 rows x 8 columns]"
      ]
     },
     "execution_count": 9,
     "metadata": {},
     "output_type": "execute_result"
    }
   ],
   "source": [
    "df"
   ]
  },
  {
   "cell_type": "markdown",
   "id": "79b07907",
   "metadata": {},
   "source": [
    "### Pandas makes plotting lots of columns easy"
   ]
  },
  {
   "cell_type": "code",
   "execution_count": 10,
   "id": "221a02d6",
   "metadata": {
    "scrolled": false
   },
   "outputs": [
    {
     "data": {
      "image/png": "[encoded data removed]",
      "text/plain": [
       "<Figure size 2000x1500 with 9 Axes>"
      ]
     },
     "metadata": {},
     "output_type": "display_data"
    }
   ],
   "source": [
    "df.hist(figsize=(20,15));"
   ]
  },
  {
   "cell_type": "code",
   "execution_count": 11,
   "id": "d48353d8",
   "metadata": {},
   "outputs": [
    {
     "data": {
      "text/html": [
       "<div>\n",
       "<style scoped>\n",
       "    .dataframe tbody tr th:only-of-type {\n",
       "        vertical-align: middle;\n",
       "    }\n",
       "\n",
       "    .dataframe tbody tr th {\n",
       "        vertical-align: top;\n",
       "    }\n",
       "\n",
       "    .dataframe thead th {\n",
       "        text-align: right;\n",
       "    }\n",
       "</style>\n",
       "<table border=\"1\" class=\"dataframe\">\n",
       "  <thead>\n",
       "    <tr style=\"text-align: right;\">\n",
       "      <th></th>\n",
       "      <th>pH</th>\n",
       "      <th>concentration (μg/ml)</th>\n",
       "      <th>molarity (mol/L)</th>\n",
       "      <th>temperature (°C)</th>\n",
       "      <th>lipophilicity</th>\n",
       "      <th>volume (ml)</th>\n",
       "      <th>turbidity (NTU)</th>\n",
       "      <th>elapsed time (secs)</th>\n",
       "    </tr>\n",
       "  </thead>\n",
       "  <tbody>\n",
       "    <tr>\n",
       "      <th>count</th>\n",
       "      <td>605923.000000</td>\n",
       "      <td>605923.000000</td>\n",
       "      <td>605923.000000</td>\n",
       "      <td>605923.000000</td>\n",
       "      <td>605923.000000</td>\n",
       "      <td>605923.000000</td>\n",
       "      <td>605923.000000</td>\n",
       "      <td>605923.000000</td>\n",
       "    </tr>\n",
       "    <tr>\n",
       "      <th>mean</th>\n",
       "      <td>5.017745</td>\n",
       "      <td>0.000626</td>\n",
       "      <td>6.997431</td>\n",
       "      <td>2.089461</td>\n",
       "      <td>13.850906</td>\n",
       "      <td>76470.110018</td>\n",
       "      <td>8.006114</td>\n",
       "      <td>2356.158802</td>\n",
       "    </tr>\n",
       "    <tr>\n",
       "      <th>std</th>\n",
       "      <td>1.001131</td>\n",
       "      <td>0.000158</td>\n",
       "      <td>1.665213</td>\n",
       "      <td>16.492694</td>\n",
       "      <td>2.264557</td>\n",
       "      <td>17076.304671</td>\n",
       "      <td>1.781705</td>\n",
       "      <td>15.200348</td>\n",
       "    </tr>\n",
       "    <tr>\n",
       "      <th>min</th>\n",
       "      <td>0.000000</td>\n",
       "      <td>0.000000</td>\n",
       "      <td>0.000000</td>\n",
       "      <td>-84.096259</td>\n",
       "      <td>0.000000</td>\n",
       "      <td>0.000000</td>\n",
       "      <td>0.000000</td>\n",
       "      <td>2270.000000</td>\n",
       "    </tr>\n",
       "    <tr>\n",
       "      <th>25%</th>\n",
       "      <td>4.342642</td>\n",
       "      <td>0.000516</td>\n",
       "      <td>5.797549</td>\n",
       "      <td>-9.284253</td>\n",
       "      <td>12.506152</td>\n",
       "      <td>64699.857456</td>\n",
       "      <td>6.768615</td>\n",
       "      <td>2346.132154</td>\n",
       "    </tr>\n",
       "    <tr>\n",
       "      <th>50%</th>\n",
       "      <td>5.017004</td>\n",
       "      <td>0.000631</td>\n",
       "      <td>6.965851</td>\n",
       "      <td>2.122003</td>\n",
       "      <td>13.942072</td>\n",
       "      <td>76797.404903</td>\n",
       "      <td>8.064196</td>\n",
       "      <td>2355.513485</td>\n",
       "    </tr>\n",
       "    <tr>\n",
       "      <th>75%</th>\n",
       "      <td>5.692343</td>\n",
       "      <td>0.000737</td>\n",
       "      <td>8.143590</td>\n",
       "      <td>13.750541</td>\n",
       "      <td>15.292081</td>\n",
       "      <td>88355.852928</td>\n",
       "      <td>9.289894</td>\n",
       "      <td>2365.817968</td>\n",
       "    </tr>\n",
       "    <tr>\n",
       "      <th>max</th>\n",
       "      <td>9.513773</td>\n",
       "      <td>0.001448</td>\n",
       "      <td>15.863927</td>\n",
       "      <td>71.341922</td>\n",
       "      <td>27.976120</td>\n",
       "      <td>156922.597691</td>\n",
       "      <td>16.366807</td>\n",
       "      <td>2440.762676</td>\n",
       "    </tr>\n",
       "  </tbody>\n",
       "</table>\n",
       "</div>"
      ],
      "text/plain": [
       "                  pH  concentration (μg/ml)  molarity (mol/L)  \\\n",
       "count  605923.000000          605923.000000     605923.000000   \n",
       "mean        5.017745               0.000626          6.997431   \n",
       "std         1.001131               0.000158          1.665213   \n",
       "min         0.000000               0.000000          0.000000   \n",
       "25%         4.342642               0.000516          5.797549   \n",
       "50%         5.017004               0.000631          6.965851   \n",
       "75%         5.692343               0.000737          8.143590   \n",
       "max         9.513773               0.001448         15.863927   \n",
       "\n",
       "       temperature (°C)  lipophilicity    volume (ml)  turbidity (NTU)  \\\n",
       "count     605923.000000  605923.000000  605923.000000    605923.000000   \n",
       "mean           2.089461      13.850906   76470.110018         8.006114   \n",
       "std           16.492694       2.264557   17076.304671         1.781705   \n",
       "min          -84.096259       0.000000       0.000000         0.000000   \n",
       "25%           -9.284253      12.506152   64699.857456         6.768615   \n",
       "50%            2.122003      13.942072   76797.404903         8.064196   \n",
       "75%           13.750541      15.292081   88355.852928         9.289894   \n",
       "max           71.341922      27.976120  156922.597691        16.366807   \n",
       "\n",
       "       elapsed time (secs)  \n",
       "count        605923.000000  \n",
       "mean           2356.158802  \n",
       "std              15.200348  \n",
       "min            2270.000000  \n",
       "25%            2346.132154  \n",
       "50%            2355.513485  \n",
       "75%            2365.817968  \n",
       "max            2440.762676  "
      ]
     },
     "execution_count": 11,
     "metadata": {},
     "output_type": "execute_result"
    }
   ],
   "source": [
    "df.describe()"
   ]
  },
  {
   "cell_type": "markdown",
   "id": "cc36db85",
   "metadata": {},
   "source": [
    "## Add the classification label to the DataFrame\n",
    "\n",
    "We'll call this `Antibody affinity` to make it seem realistic."
   ]
  },
  {
   "cell_type": "code",
   "execution_count": 12,
   "id": "ae5366f4",
   "metadata": {},
   "outputs": [],
   "source": [
    "def class_name(value):\n",
    "    \"\"\"Assign a class name based on the value\n",
    "    \n",
    "    We've assume 3 classes (low, medium, and high)\n",
    "    \"\"\"\n",
    "\n",
    "    if value == 0:\n",
    "        return \"Low\"\n",
    "    elif value == 1:\n",
    "        return \"Medium\"\n",
    "    else:\n",
    "        return \"High\""
   ]
  },
  {
   "cell_type": "code",
   "execution_count": 13,
   "id": "9de41fed",
   "metadata": {},
   "outputs": [],
   "source": [
    "prediction_name = \"Antibody affinity\"\n",
    "df[prediction_name] = list(map(class_name, Y))"
   ]
  },
  {
   "cell_type": "code",
   "execution_count": 14,
   "id": "1c61a07c",
   "metadata": {},
   "outputs": [
    {
     "data": {
      "text/html": [
       "<div>\n",
       "<style scoped>\n",
       "    .dataframe tbody tr th:only-of-type {\n",
       "        vertical-align: middle;\n",
       "    }\n",
       "\n",
       "    .dataframe tbody tr th {\n",
       "        vertical-align: top;\n",
       "    }\n",
       "\n",
       "    .dataframe thead th {\n",
       "        text-align: right;\n",
       "    }\n",
       "</style>\n",
       "<table border=\"1\" class=\"dataframe\">\n",
       "  <thead>\n",
       "    <tr style=\"text-align: right;\">\n",
       "      <th></th>\n",
       "      <th>pH</th>\n",
       "      <th>concentration (μg/ml)</th>\n",
       "      <th>molarity (mol/L)</th>\n",
       "      <th>temperature (°C)</th>\n",
       "      <th>lipophilicity</th>\n",
       "      <th>volume (ml)</th>\n",
       "      <th>turbidity (NTU)</th>\n",
       "      <th>elapsed time (secs)</th>\n",
       "      <th>Antibody affinity</th>\n",
       "    </tr>\n",
       "  </thead>\n",
       "  <tbody>\n",
       "    <tr>\n",
       "      <th>0</th>\n",
       "      <td>5.744047</td>\n",
       "      <td>0.000787</td>\n",
       "      <td>5.234648</td>\n",
       "      <td>-9.381354</td>\n",
       "      <td>12.528551</td>\n",
       "      <td>93655.444937</td>\n",
       "      <td>7.631413</td>\n",
       "      <td>2345.429022</td>\n",
       "      <td>Low</td>\n",
       "    </tr>\n",
       "    <tr>\n",
       "      <th>1</th>\n",
       "      <td>6.195974</td>\n",
       "      <td>0.000732</td>\n",
       "      <td>4.922611</td>\n",
       "      <td>20.759788</td>\n",
       "      <td>11.605443</td>\n",
       "      <td>31822.339160</td>\n",
       "      <td>8.664401</td>\n",
       "      <td>2364.133690</td>\n",
       "      <td>High</td>\n",
       "    </tr>\n",
       "    <tr>\n",
       "      <th>2</th>\n",
       "      <td>5.409767</td>\n",
       "      <td>0.000504</td>\n",
       "      <td>6.287411</td>\n",
       "      <td>5.722223</td>\n",
       "      <td>15.446353</td>\n",
       "      <td>77861.300135</td>\n",
       "      <td>8.617480</td>\n",
       "      <td>2366.319655</td>\n",
       "      <td>Low</td>\n",
       "    </tr>\n",
       "    <tr>\n",
       "      <th>3</th>\n",
       "      <td>4.782947</td>\n",
       "      <td>0.000771</td>\n",
       "      <td>6.514433</td>\n",
       "      <td>-1.461302</td>\n",
       "      <td>12.503056</td>\n",
       "      <td>45576.113138</td>\n",
       "      <td>7.472341</td>\n",
       "      <td>2352.708926</td>\n",
       "      <td>Medium</td>\n",
       "    </tr>\n",
       "    <tr>\n",
       "      <th>4</th>\n",
       "      <td>5.676364</td>\n",
       "      <td>0.000593</td>\n",
       "      <td>7.850572</td>\n",
       "      <td>3.503352</td>\n",
       "      <td>14.107504</td>\n",
       "      <td>60631.825191</td>\n",
       "      <td>8.026235</td>\n",
       "      <td>2357.405303</td>\n",
       "      <td>Medium</td>\n",
       "    </tr>\n",
       "    <tr>\n",
       "      <th>...</th>\n",
       "      <td>...</td>\n",
       "      <td>...</td>\n",
       "      <td>...</td>\n",
       "      <td>...</td>\n",
       "      <td>...</td>\n",
       "      <td>...</td>\n",
       "      <td>...</td>\n",
       "      <td>...</td>\n",
       "      <td>...</td>\n",
       "    </tr>\n",
       "    <tr>\n",
       "      <th>605918</th>\n",
       "      <td>6.331137</td>\n",
       "      <td>0.000859</td>\n",
       "      <td>6.351610</td>\n",
       "      <td>-8.360471</td>\n",
       "      <td>8.022953</td>\n",
       "      <td>81362.104250</td>\n",
       "      <td>9.834977</td>\n",
       "      <td>2305.514459</td>\n",
       "      <td>Medium</td>\n",
       "    </tr>\n",
       "    <tr>\n",
       "      <th>605919</th>\n",
       "      <td>5.127211</td>\n",
       "      <td>0.000445</td>\n",
       "      <td>7.143865</td>\n",
       "      <td>-0.092239</td>\n",
       "      <td>15.190061</td>\n",
       "      <td>57069.762130</td>\n",
       "      <td>9.665127</td>\n",
       "      <td>2353.064857</td>\n",
       "      <td>Medium</td>\n",
       "    </tr>\n",
       "    <tr>\n",
       "      <th>605920</th>\n",
       "      <td>6.676017</td>\n",
       "      <td>0.000845</td>\n",
       "      <td>6.818992</td>\n",
       "      <td>-2.759908</td>\n",
       "      <td>12.436351</td>\n",
       "      <td>67069.699844</td>\n",
       "      <td>6.266615</td>\n",
       "      <td>2355.959926</td>\n",
       "      <td>Medium</td>\n",
       "    </tr>\n",
       "    <tr>\n",
       "      <th>605921</th>\n",
       "      <td>3.071569</td>\n",
       "      <td>0.000594</td>\n",
       "      <td>6.693396</td>\n",
       "      <td>13.432805</td>\n",
       "      <td>14.681529</td>\n",
       "      <td>84802.051315</td>\n",
       "      <td>7.508070</td>\n",
       "      <td>2373.199376</td>\n",
       "      <td>Low</td>\n",
       "    </tr>\n",
       "    <tr>\n",
       "      <th>605922</th>\n",
       "      <td>5.263818</td>\n",
       "      <td>0.000395</td>\n",
       "      <td>3.902334</td>\n",
       "      <td>-3.057376</td>\n",
       "      <td>15.414881</td>\n",
       "      <td>96116.563337</td>\n",
       "      <td>11.204406</td>\n",
       "      <td>2348.976253</td>\n",
       "      <td>Low</td>\n",
       "    </tr>\n",
       "  </tbody>\n",
       "</table>\n",
       "<p>605923 rows × 9 columns</p>\n",
       "</div>"
      ],
      "text/plain": [
       "              pH  concentration (μg/ml)  molarity (mol/L)  temperature (°C)  \\\n",
       "0       5.744047               0.000787          5.234648         -9.381354   \n",
       "1       6.195974               0.000732          4.922611         20.759788   \n",
       "2       5.409767               0.000504          6.287411          5.722223   \n",
       "3       4.782947               0.000771          6.514433         -1.461302   \n",
       "4       5.676364               0.000593          7.850572          3.503352   \n",
       "...          ...                    ...               ...               ...   \n",
       "605918  6.331137               0.000859          6.351610         -8.360471   \n",
       "605919  5.127211               0.000445          7.143865         -0.092239   \n",
       "605920  6.676017               0.000845          6.818992         -2.759908   \n",
       "605921  3.071569               0.000594          6.693396         13.432805   \n",
       "605922  5.263818               0.000395          3.902334         -3.057376   \n",
       "\n",
       "        lipophilicity   volume (ml)  turbidity (NTU)  elapsed time (secs)  \\\n",
       "0           12.528551  93655.444937         7.631413          2345.429022   \n",
       "1           11.605443  31822.339160         8.664401          2364.133690   \n",
       "2           15.446353  77861.300135         8.617480          2366.319655   \n",
       "3           12.503056  45576.113138         7.472341          2352.708926   \n",
       "4           14.107504  60631.825191         8.026235          2357.405303   \n",
       "...               ...           ...              ...                  ...   \n",
       "605918       8.022953  81362.104250         9.834977          2305.514459   \n",
       "605919      15.190061  57069.762130         9.665127          2353.064857   \n",
       "605920      12.436351  67069.699844         6.266615          2355.959926   \n",
       "605921      14.681529  84802.051315         7.508070          2373.199376   \n",
       "605922      15.414881  96116.563337        11.204406          2348.976253   \n",
       "\n",
       "       Antibody affinity  \n",
       "0                    Low  \n",
       "1                   High  \n",
       "2                    Low  \n",
       "3                 Medium  \n",
       "4                 Medium  \n",
       "...                  ...  \n",
       "605918            Medium  \n",
       "605919            Medium  \n",
       "605920            Medium  \n",
       "605921               Low  \n",
       "605922               Low  \n",
       "\n",
       "[605923 rows x 9 columns]"
      ]
     },
     "execution_count": 14,
     "metadata": {},
     "output_type": "execute_result"
    }
   ],
   "source": [
    "df"
   ]
  },
  {
   "cell_type": "markdown",
   "id": "a1cf68f8",
   "metadata": {},
   "source": [
    "## Save the data to a CSV file\n",
    "\n",
    "Realistically you'll get data as a CSV. In some cases, you'll have enough memory to load in the whole CSV. Nevertheless, I'll show how to create a data loader that will scale with whatever size dataset you use (and can be parallelized across compute)."
   ]
  },
  {
   "cell_type": "code",
   "execution_count": 15,
   "id": "b6618649",
   "metadata": {},
   "outputs": [],
   "source": [
    "csv_filename = \"toy_cGMP_dataset.csv\" \n",
    "df.to_csv(csv_filename, index=False)"
   ]
  },
  {
   "cell_type": "code",
   "execution_count": 16,
   "id": "9851990c",
   "metadata": {},
   "outputs": [
    {
     "name": "stdout",
     "output_type": "stream",
     "text": [
      "pH,concentration (μg/ml),molarity (mol/L),temperature (°C),lipophilicity,volume (ml),turbidity (NTU),elapsed time (secs),Antibody affinity\r\n",
      "5.744046917034562,0.0007874893859659413,5.234647589904735,-9.381354161554542,12.528550546588875,93655.44493728782,7.631412915799664,2345.429022336766,Low\r\n",
      "6.195974069133236,0.0007316310797757877,4.9226113990165565,20.759787752823108,11.605442862909678,31822.339159810548,8.664400898822246,2364.1336895249647,High\r\n",
      "5.409766788724181,0.0005036852507149984,6.287411437851176,5.722223439345846,15.446353001978782,77861.30013459167,8.61747954184812,2366.3196550277926,Low\r\n",
      "4.7829470760548825,0.0007705869671046501,6.514432619808776,-1.4613023978987307,12.503055902615785,45576.11313756699,7.472340890764882,2352.708925680164,Medium\r\n",
      "5.676363633556237,0.0005933024407799599,7.85057187038264,3.503351517122042,14.10750405510838,60631.825190692725,8.026235278506693,2357.405303106366,Medium\r\n",
      "4.544998786858278,0.000788394916575371,5.481094500400836,-0.3232518740276795,13.756432596856978,75680.8244571045,6.369683833549491,2367.8928694102597,Low\r\n",
      "5.939616075448547,0.000814733582089522,4.238695463345631,-22.893694959643042,12.537542981404743,84508.73683900294,8.064849605529005,2335.52970504125,Low\r\n",
      "6.365931660735418,0.00025506965375256827,5.239360063963112,-0.31268862746232884,17.42507153180413,116707.60469952963,10.938264905364626,2358.6339363457787,Low\r\n",
      "4.2916408536519155,0.0008355366483480559,5.659683329326514,-34.3703583588642,12.151614876563121,108993.6407748543,7.807293129018748,2319.644261796635,High\r\n",
      "5.110047833685457,0.00045482915795870565,8.738286940262444,-11.044930793268511,18.48034299250719,57767.68687060997,6.705757417135921,2375.774747843454,Medium\r\n",
      "6.255375702973213,0.0006433699724276163,6.566685523150818,23.285370120293912,13.743397149608523,70146.66696462227,7.356433032722675,2378.3104848155654,Low\r\n",
      "6.4886355403658555,0.0008941176822537592,5.3151589523319265,-4.931340780069444,12.014525116717623,85771.32545141233,6.38796320300999,2353.971011396756,Low\r\n",
      "4.169116090456363,0.001069513866748022,5.5181141887624765,4.3083429924285355,8.887489484952615,97022.48004700358,5.931978315445862,2345.1603282859637,High\r\n",
      "5.508270912661684,0.000402971248530904,5.717589700252887,0.9237256898221329,16.10430078903139,91111.09622313606,9.811913685680711,2359.5843874224684,Low\r\n"
     ]
    }
   ],
   "source": [
    "!head -15 $csv_filename"
   ]
  },
  {
   "cell_type": "code",
   "execution_count": 17,
   "id": "6c9e5660",
   "metadata": {},
   "outputs": [
    {
     "name": "stdout",
     "output_type": "stream",
     "text": [
      "90M\ttoy_cGMP_dataset.csv\r\n"
     ]
    }
   ],
   "source": [
    "# Size of the file\n",
    "!du -h $csv_filename"
   ]
  },
  {
   "cell_type": "markdown",
   "id": "878a8084",
   "metadata": {},
   "source": [
    "## Let's create our own data loader\n",
    "\n",
    "Data loaders are [generators](https://wiki.python.org/moin/Generators). Note the use of the `yield` command here. It allows the program execution to return to the line that called it and proceed. When the generator is called again, then it picks up where it left off. So it is giving us just one line at a time (or we can have it give us a few lines at a time).\n",
    "\n",
    "Data loaders are great because they just load in a batch at a time. This allows us to work on massively-sized datasets. It also allows us to spread our compute over many computers if we want."
   ]
  },
  {
   "cell_type": "code",
   "execution_count": 18,
   "id": "3478d6fe",
   "metadata": {},
   "outputs": [],
   "source": [
    "def get_data(filename):\n",
    "    \"\"\"Gets data from CSV\"\"\"\n",
    "    \n",
    "    with open(filename, \"r\") as csvfile:\n",
    "        \n",
    "        reader = csv.DictReader(csvfile)\n",
    "        for row in reader:\n",
    "            yield row\n",
    "            "
   ]
  },
  {
   "cell_type": "code",
   "execution_count": 19,
   "id": "cc6d87af",
   "metadata": {},
   "outputs": [],
   "source": [
    "data_loader = get_data(csv_filename)"
   ]
  },
  {
   "cell_type": "code",
   "execution_count": 20,
   "id": "ff2391eb",
   "metadata": {},
   "outputs": [
    {
     "data": {
      "text/plain": [
       "<generator object get_data at 0x7f60b484ab90>"
      ]
     },
     "execution_count": 20,
     "metadata": {},
     "output_type": "execute_result"
    }
   ],
   "source": [
    "data_loader"
   ]
  },
  {
   "cell_type": "markdown",
   "id": "ab22efe9",
   "metadata": {},
   "source": [
    "### First call gets us the first 5 lines of the CSV file"
   ]
  },
  {
   "cell_type": "code",
   "execution_count": 21,
   "id": "6f118ae0",
   "metadata": {
    "scrolled": false
   },
   "outputs": [
    {
     "name": "stdout",
     "output_type": "stream",
     "text": [
      "{'pH': '5.744046917034562', 'concentration (μg/ml)': '0.0007874893859659413', 'molarity (mol/L)': '5.234647589904735', 'temperature (°C)': '-9.381354161554542', 'lipophilicity': '12.528550546588875', 'volume (ml)': '93655.44493728782', 'turbidity (NTU)': '7.631412915799664', 'elapsed time (secs)': '2345.429022336766', 'Antibody affinity': 'Low'}\n",
      "{'pH': '6.195974069133236', 'concentration (μg/ml)': '0.0007316310797757877', 'molarity (mol/L)': '4.9226113990165565', 'temperature (°C)': '20.759787752823108', 'lipophilicity': '11.605442862909678', 'volume (ml)': '31822.339159810548', 'turbidity (NTU)': '8.664400898822246', 'elapsed time (secs)': '2364.1336895249647', 'Antibody affinity': 'High'}\n",
      "{'pH': '5.409766788724181', 'concentration (μg/ml)': '0.0005036852507149984', 'molarity (mol/L)': '6.287411437851176', 'temperature (°C)': '5.722223439345846', 'lipophilicity': '15.446353001978782', 'volume (ml)': '77861.30013459167', 'turbidity (NTU)': '8.61747954184812', 'elapsed time (secs)': '2366.3196550277926', 'Antibody affinity': 'Low'}\n",
      "{'pH': '4.7829470760548825', 'concentration (μg/ml)': '0.0007705869671046501', 'molarity (mol/L)': '6.514432619808776', 'temperature (°C)': '-1.4613023978987307', 'lipophilicity': '12.503055902615785', 'volume (ml)': '45576.11313756699', 'turbidity (NTU)': '7.472340890764882', 'elapsed time (secs)': '2352.708925680164', 'Antibody affinity': 'Medium'}\n",
      "{'pH': '5.676363633556237', 'concentration (μg/ml)': '0.0005933024407799599', 'molarity (mol/L)': '7.85057187038264', 'temperature (°C)': '3.503351517122042', 'lipophilicity': '14.10750405510838', 'volume (ml)': '60631.825190692725', 'turbidity (NTU)': '8.026235278506693', 'elapsed time (secs)': '2357.405303106366', 'Antibody affinity': 'Medium'}\n"
     ]
    }
   ],
   "source": [
    "rows = []\n",
    "for idx, row in enumerate(data_loader):\n",
    "    \n",
    "    print(row)\n",
    "    rows.append(row[\"pH\"])\n",
    "    \n",
    "    if idx >= 4:\n",
    "        break"
   ]
  },
  {
   "cell_type": "code",
   "execution_count": 22,
   "id": "1f145839",
   "metadata": {},
   "outputs": [
    {
     "name": "stdout",
     "output_type": "stream",
     "text": [
      "['5.744046917034562', '6.195974069133236', '5.409766788724181', '4.7829470760548825', '5.676363633556237']\n"
     ]
    }
   ],
   "source": [
    "print(rows)"
   ]
  },
  {
   "cell_type": "markdown",
   "id": "813a3183",
   "metadata": {},
   "source": [
    "#### Sanity check\n",
    "Our values should be something like this"
   ]
  },
  {
   "cell_type": "markdown",
   "id": "df466ca6",
   "metadata": {},
   "source": [
    "5.744046917034562,0.0007874893859659413,5.234647589904735,-9.381354161554542,12.528550546588875,93655.44493728782,7.631412915799664,2345.429022336766,Low\n",
    "6.195974069133236,0.0007316310797757877,4.9226113990165565,20.759787752823108,11.605442862909678,31822.339159810548,8.664400898822246,2364.1336895249647,High\n",
    "5.409766788724181,0.0005036852507149984,6.287411437851176,5.722223439345846,15.446353001978782,77861.30013459167,8.61747954184812,2366.3196550277926,Low\n",
    "4.7829470760548825,0.0007705869671046501,6.514432619808776,-1.4613023978987307,12.503055902615785,45576.11313756699,7.472340890764882,2352.708925680164,Medium\n",
    "5.676363633556237,0.0005933024407799599,7.85057187038264,3.503351517122042,14.10750405510838,60631.825190692725,8.026235278506693,2357.405303106366,Medium"
   ]
  },
  {
   "cell_type": "code",
   "execution_count": 23,
   "id": "29591ddb",
   "metadata": {},
   "outputs": [
    {
     "name": "stdout",
     "output_type": "stream",
     "text": [
      "5.744046917034562,0.0007874893859659413,5.234647589904735,-9.381354161554542,12.528550546588875,93655.44493728782,7.631412915799664,2345.429022336766,Low\r\n",
      "6.195974069133236,0.0007316310797757877,4.9226113990165565,20.759787752823108,11.605442862909678,31822.339159810548,8.664400898822246,2364.1336895249647,High\r\n",
      "5.409766788724181,0.0005036852507149984,6.287411437851176,5.722223439345846,15.446353001978782,77861.30013459167,8.61747954184812,2366.3196550277926,Low\r\n",
      "4.7829470760548825,0.0007705869671046501,6.514432619808776,-1.4613023978987307,12.503055902615785,45576.11313756699,7.472340890764882,2352.708925680164,Medium\r\n",
      "5.676363633556237,0.0005933024407799599,7.85057187038264,3.503351517122042,14.10750405510838,60631.825190692725,8.026235278506693,2357.405303106366,Medium\r\n"
     ]
    }
   ],
   "source": [
    "!head -6 $csv_filename | tail -5   # 6 because we skip the header line"
   ]
  },
  {
   "cell_type": "markdown",
   "id": "49c1b68f",
   "metadata": {},
   "source": [
    "### We can continue with other code if we want"
   ]
  },
  {
   "cell_type": "code",
   "execution_count": 24,
   "id": "9ffa2c40",
   "metadata": {},
   "outputs": [
    {
     "name": "stdout",
     "output_type": "stream",
     "text": [
      "3\n"
     ]
    }
   ],
   "source": [
    "a = 1\n",
    "b = 2\n",
    "c = a + b\n",
    "\n",
    "print(c)"
   ]
  },
  {
   "cell_type": "markdown",
   "id": "a250b55d",
   "metadata": {},
   "source": [
    "### Second call gets us the next 5 lines of the CSV file"
   ]
  },
  {
   "cell_type": "code",
   "execution_count": 25,
   "id": "c7c09fc3",
   "metadata": {},
   "outputs": [
    {
     "name": "stdout",
     "output_type": "stream",
     "text": [
      "{'pH': '4.544998786858278', 'concentration (μg/ml)': '0.000788394916575371', 'molarity (mol/L)': '5.481094500400836', 'temperature (°C)': '-0.3232518740276795', 'lipophilicity': '13.756432596856978', 'volume (ml)': '75680.8244571045', 'turbidity (NTU)': '6.369683833549491', 'elapsed time (secs)': '2367.8928694102597', 'Antibody affinity': 'Low'}\n",
      "{'pH': '5.939616075448547', 'concentration (μg/ml)': '0.000814733582089522', 'molarity (mol/L)': '4.238695463345631', 'temperature (°C)': '-22.893694959643042', 'lipophilicity': '12.537542981404743', 'volume (ml)': '84508.73683900294', 'turbidity (NTU)': '8.064849605529005', 'elapsed time (secs)': '2335.52970504125', 'Antibody affinity': 'Low'}\n",
      "{'pH': '6.365931660735418', 'concentration (μg/ml)': '0.00025506965375256827', 'molarity (mol/L)': '5.239360063963112', 'temperature (°C)': '-0.31268862746232884', 'lipophilicity': '17.42507153180413', 'volume (ml)': '116707.60469952963', 'turbidity (NTU)': '10.938264905364626', 'elapsed time (secs)': '2358.6339363457787', 'Antibody affinity': 'Low'}\n",
      "{'pH': '4.2916408536519155', 'concentration (μg/ml)': '0.0008355366483480559', 'molarity (mol/L)': '5.659683329326514', 'temperature (°C)': '-34.3703583588642', 'lipophilicity': '12.151614876563121', 'volume (ml)': '108993.6407748543', 'turbidity (NTU)': '7.807293129018748', 'elapsed time (secs)': '2319.644261796635', 'Antibody affinity': 'High'}\n",
      "{'pH': '5.110047833685457', 'concentration (μg/ml)': '0.00045482915795870565', 'molarity (mol/L)': '8.738286940262444', 'temperature (°C)': '-11.044930793268511', 'lipophilicity': '18.48034299250719', 'volume (ml)': '57767.68687060997', 'turbidity (NTU)': '6.705757417135921', 'elapsed time (secs)': '2375.774747843454', 'Antibody affinity': 'Medium'}\n"
     ]
    }
   ],
   "source": [
    "rows = []\n",
    "for idx, row in enumerate(data_loader):\n",
    "    \n",
    "    print(row)\n",
    "    rows.append(row[\"pH\"])\n",
    "    \n",
    "    if idx >= 4:\n",
    "        break"
   ]
  },
  {
   "cell_type": "code",
   "execution_count": 26,
   "id": "49f816c4",
   "metadata": {},
   "outputs": [
    {
     "name": "stdout",
     "output_type": "stream",
     "text": [
      "['4.544998786858278', '5.939616075448547', '6.365931660735418', '4.2916408536519155', '5.110047833685457']\n"
     ]
    }
   ],
   "source": [
    "print(rows)"
   ]
  },
  {
   "cell_type": "markdown",
   "id": "f6007861",
   "metadata": {},
   "source": [
    "#### Sanity check\n",
    "Our values should be something like this"
   ]
  },
  {
   "cell_type": "markdown",
   "id": "5c834e01",
   "metadata": {},
   "source": [
    "4.544998786858278,0.000788394916575371,5.481094500400836,-0.3232518740276795,13.756432596856978,75680.8244571045,6.369683833549491,2367.8928694102597,Low\n",
    "5.939616075448547,0.000814733582089522,4.238695463345631,-22.893694959643042,12.537542981404743,84508.73683900294,8.064849605529005,2335.52970504125,Low\n",
    "6.365931660735418,0.00025506965375256827,5.239360063963112,-0.31268862746232884,17.42507153180413,116707.60469952963,10.938264905364626,2358.6339363457787,Low\n",
    "4.2916408536519155,0.0008355366483480559,5.659683329326514,-34.3703583588642,12.151614876563121,108993.6407748543,7.807293129018748,2319.644261796635,High\n",
    "5.110047833685457,0.00045482915795870565,8.738286940262444,-11.044930793268511,18.48034299250719,57767.68687060997,6.705757417135921,2375.774747843454,Medium"
   ]
  },
  {
   "cell_type": "code",
   "execution_count": 27,
   "id": "1071bb9d",
   "metadata": {},
   "outputs": [
    {
     "name": "stdout",
     "output_type": "stream",
     "text": [
      "4.544998786858278,0.000788394916575371,5.481094500400836,-0.3232518740276795,13.756432596856978,75680.8244571045,6.369683833549491,2367.8928694102597,Low\r\n",
      "5.939616075448547,0.000814733582089522,4.238695463345631,-22.893694959643042,12.537542981404743,84508.73683900294,8.064849605529005,2335.52970504125,Low\r\n",
      "6.365931660735418,0.00025506965375256827,5.239360063963112,-0.31268862746232884,17.42507153180413,116707.60469952963,10.938264905364626,2358.6339363457787,Low\r\n",
      "4.2916408536519155,0.0008355366483480559,5.659683329326514,-34.3703583588642,12.151614876563121,108993.6407748543,7.807293129018748,2319.644261796635,High\r\n",
      "5.110047833685457,0.00045482915795870565,8.738286940262444,-11.044930793268511,18.48034299250719,57767.68687060997,6.705757417135921,2375.774747843454,Medium\r\n"
     ]
    }
   ],
   "source": [
    "!head -11 $csv_filename | tail -5  # 11 because we skip the header line"
   ]
  },
  {
   "cell_type": "markdown",
   "id": "7731accc",
   "metadata": {},
   "source": [
    "### Third call gets us the next 5 lines of the CSV file"
   ]
  },
  {
   "cell_type": "code",
   "execution_count": 28,
   "id": "2b19992c",
   "metadata": {},
   "outputs": [
    {
     "name": "stdout",
     "output_type": "stream",
     "text": [
      "{'pH': '6.255375702973213', 'concentration (μg/ml)': '0.0006433699724276163', 'molarity (mol/L)': '6.566685523150818', 'temperature (°C)': '23.285370120293912', 'lipophilicity': '13.743397149608523', 'volume (ml)': '70146.66696462227', 'turbidity (NTU)': '7.356433032722675', 'elapsed time (secs)': '2378.3104848155654', 'Antibody affinity': 'Low'}\n",
      "{'pH': '6.4886355403658555', 'concentration (μg/ml)': '0.0008941176822537592', 'molarity (mol/L)': '5.3151589523319265', 'temperature (°C)': '-4.931340780069444', 'lipophilicity': '12.014525116717623', 'volume (ml)': '85771.32545141233', 'turbidity (NTU)': '6.38796320300999', 'elapsed time (secs)': '2353.971011396756', 'Antibody affinity': 'Low'}\n",
      "{'pH': '4.169116090456363', 'concentration (μg/ml)': '0.001069513866748022', 'molarity (mol/L)': '5.5181141887624765', 'temperature (°C)': '4.3083429924285355', 'lipophilicity': '8.887489484952615', 'volume (ml)': '97022.48004700358', 'turbidity (NTU)': '5.931978315445862', 'elapsed time (secs)': '2345.1603282859637', 'Antibody affinity': 'High'}\n",
      "{'pH': '5.508270912661684', 'concentration (μg/ml)': '0.000402971248530904', 'molarity (mol/L)': '5.717589700252887', 'temperature (°C)': '0.9237256898221329', 'lipophilicity': '16.10430078903139', 'volume (ml)': '91111.09622313606', 'turbidity (NTU)': '9.811913685680711', 'elapsed time (secs)': '2359.5843874224684', 'Antibody affinity': 'Low'}\n",
      "{'pH': '5.754263641061878', 'concentration (μg/ml)': '0.0005844853548741785', 'molarity (mol/L)': '5.727444243408503', 'temperature (°C)': '-6.781310265361496', 'lipophilicity': '14.304511492122353', 'volume (ml)': '75674.00466460997', 'turbidity (NTU)': '8.975531032483827', 'elapsed time (secs)': '2349.4343846434704', 'Antibody affinity': 'Low'}\n"
     ]
    }
   ],
   "source": [
    "rows = []\n",
    "for idx, row in enumerate(data_loader):\n",
    "    \n",
    "    print(row)\n",
    "    rows.append(row[\"pH\"])\n",
    "    \n",
    "    if idx >= 4:\n",
    "        break"
   ]
  },
  {
   "cell_type": "code",
   "execution_count": 29,
   "id": "e9acaf55",
   "metadata": {},
   "outputs": [
    {
     "name": "stdout",
     "output_type": "stream",
     "text": [
      "['6.255375702973213', '6.4886355403658555', '4.169116090456363', '5.508270912661684', '5.754263641061878']\n"
     ]
    }
   ],
   "source": [
    "print(rows)"
   ]
  },
  {
   "cell_type": "markdown",
   "id": "aacdc699",
   "metadata": {},
   "source": [
    "#### Sanity check\n",
    "Our values should be something like this"
   ]
  },
  {
   "cell_type": "markdown",
   "id": "5b64207d",
   "metadata": {},
   "source": [
    "6.255375702973213,0.0006433699724276163,6.566685523150818,23.285370120293912,13.743397149608523,70146.66696462227,7.356433032722675,2378.3104848155654,Low\n",
    "6.4886355403658555,0.0008941176822537592,5.3151589523319265,-4.931340780069444,12.014525116717623,85771.32545141233,6.38796320300999,2353.971011396756,Low\n",
    "4.169116090456363,0.001069513866748022,5.5181141887624765,4.3083429924285355,8.887489484952615,97022.48004700358,5.931978315445862,2345.1603282859637,High\n",
    "5.508270912661684,0.000402971248530904,5.717589700252887,0.9237256898221329,16.10430078903139,91111.09622313606,9.811913685680711,2359.5843874224684,Low\n",
    "5.754263641061878,0.0005844853548741785,5.727444243408503,-6.781310265361496,14.304511492122353,75674.00466460997,8.975531032483827,2349.4343846434704,Low"
   ]
  },
  {
   "cell_type": "code",
   "execution_count": 30,
   "id": "79569063",
   "metadata": {
    "scrolled": true
   },
   "outputs": [
    {
     "name": "stdout",
     "output_type": "stream",
     "text": [
      "6.255375702973213,0.0006433699724276163,6.566685523150818,23.285370120293912,13.743397149608523,70146.66696462227,7.356433032722675,2378.3104848155654,Low\r\n",
      "6.4886355403658555,0.0008941176822537592,5.3151589523319265,-4.931340780069444,12.014525116717623,85771.32545141233,6.38796320300999,2353.971011396756,Low\r\n",
      "4.169116090456363,0.001069513866748022,5.5181141887624765,4.3083429924285355,8.887489484952615,97022.48004700358,5.931978315445862,2345.1603282859637,High\r\n",
      "5.508270912661684,0.000402971248530904,5.717589700252887,0.9237256898221329,16.10430078903139,91111.09622313606,9.811913685680711,2359.5843874224684,Low\r\n",
      "5.754263641061878,0.0005844853548741785,5.727444243408503,-6.781310265361496,14.304511492122353,75674.00466460997,8.975531032483827,2349.4343846434704,Low\r\n"
     ]
    }
   ],
   "source": [
    "!head -16 $csv_filename | tail -5  # 16 because we skip the header line"
   ]
  },
  {
   "cell_type": "markdown",
   "id": "bbd7cb22",
   "metadata": {},
   "source": [
    "## Putting it altogether\n",
    "\n",
    "Let's get a data loader generator that grabs one batch at a time.\n",
    "\n",
    "Note that although this data loader is specific to loading from a CSV we could easily add code to use the CSV data to load other files and then serve those to the generator. For example, our CSV could be a list of filenames and classes. \n",
    "\n",
    "```\n",
    "filename,class type\n",
    "path1/path2/image123.tif,dna\n",
    "path3/image234.jpg,rna\n",
    "image789.jpg,protein\n",
    "...\n",
    "path7/path8/path9/image999.jpg,antibody\n",
    "```\n",
    "\n",
    "We would just construct the `x_values` in the `yield` statement to be loaded images using the filenames from the CSV.\n",
    "\n",
    "`x_values.append(load_image(row[\"filename\"]))` where `load_image()` is our code for loading images based on the filename."
   ]
  },
  {
   "cell_type": "code",
   "execution_count": 31,
   "id": "81374c08",
   "metadata": {},
   "outputs": [],
   "source": [
    "feature_names = np.array(\n",
    "    [\n",
    "        \"pH\",\n",
    "        \"concentration (μg/ml)\",\n",
    "        \"molarity (mol/L)\",\n",
    "        \"temperature (°C)\",\n",
    "        \"lipophilicity\",\n",
    "        \"volume (ml)\",\n",
    "        \"turbidity (NTU)\",\n",
    "        \"elapsed time (secs)\",\n",
    "    ]\n",
    ")\n",
    "\n",
    "prediction_name = \"Antibody affinity\""
   ]
  },
  {
   "cell_type": "code",
   "execution_count": 32,
   "id": "ce9ecd25",
   "metadata": {},
   "outputs": [],
   "source": [
    "class my_great_data_loader(object):\n",
    "    \"\"\"A data loader for our CSV files\"\"\"\n",
    "\n",
    "    def __init__(\n",
    "        self,\n",
    "        filename: str,\n",
    "        batch_size: int = 32,\n",
    "        feature_names=feature_names,\n",
    "        prediction_name:str=prediction_name,\n",
    "        rows_to_use=None\n",
    "    ):\n",
    "        \"\"\"Initializer. This is called once at the instantiation of the object\n",
    "\n",
    "        Args:\n",
    "            filename(str): Name of the csv file\n",
    "            batch_size(int): Size of one batch (default=32 samples)\n",
    "            feature_names(List[str]): List of strings\n",
    "            prediction_name(str): The name of the column to predict\n",
    "            rows_to_use: List of indexes to use (for train/test/validation)\n",
    "        \"\"\"\n",
    "\n",
    "        self.filename = filename\n",
    "        self.batch_size = batch_size\n",
    "        self.total_rows = self.calculate_total_number_of_rows()\n",
    "        self.total_num_batches = self.calculate_total_number_of_batches()\n",
    "        self.feature_names = feature_names\n",
    "        self.prediction_name = prediction_name\n",
    "        \n",
    "        # For train/test/validation splits we may want \n",
    "        #    to specify which rows are used\n",
    "        if rows_to_use is None:\n",
    "            self.rows_to_use = np.arange(self.total_rows)\n",
    "        else:\n",
    "            self.rows_to_use = rows_to_use\n",
    "            \n",
    "        self.current_row = 0\n",
    "\n",
    "        self.reader = self.set_reader()\n",
    "\n",
    "    def __iter__(self):\n",
    "        return self\n",
    "\n",
    "    def __next__(self):\n",
    "        \"\"\"Get next batch\"\"\"\n",
    "        \n",
    "        return self.get_next_batch()\n",
    "\n",
    "    def __len__(self):\n",
    "        \"\"\"Return length of dataset (number of samples)\"\"\"\n",
    "        return self.get_total_number_of_batches()\n",
    "\n",
    "    def calculate_total_number_of_rows(self):\n",
    "        \"\"\"Gets the total number of rows in the data file\"\"\"\n",
    "\n",
    "        row_count = 0\n",
    "\n",
    "        # iterating through the whole file\n",
    "        for row in open(self.filename, \"r\"):\n",
    "            row_count += 1\n",
    "\n",
    "        return row_count\n",
    "\n",
    "    def get_batch_size(self):\n",
    "        \"\"\"Getter for batch size\"\"\"\n",
    "        return self.batch_size\n",
    "\n",
    "    def get_total_number_of_rows(self):\n",
    "        \"\"\"Getter function for total rows\"\"\"\n",
    "        return self.total_rows\n",
    "    \n",
    "    def get_rows_to_use(self):\n",
    "        \"\"\"Getter function for rows to use\"\"\"\n",
    "        return self.rows_to_use\n",
    "\n",
    "    def calculate_total_number_of_batches(self):\n",
    "        \"\"\"Number of batches in our dataset\"\"\"\n",
    "\n",
    "        return self.get_total_number_of_rows() // self.get_batch_size()\n",
    "\n",
    "    def get_total_number_of_batches(self):\n",
    "        \"\"\"Getter function for number of total batches\"\"\"\n",
    "        return self.total_num_batches\n",
    "\n",
    "    def get_feature_names(self):\n",
    "        \"\"\"Getter function for feature names\"\"\"\n",
    "        return self.feature_names\n",
    "    \n",
    "    def get_prediction_name(self):\n",
    "        \"\"\"Getter for prediction name\"\"\"\n",
    "        return self.prediction_name\n",
    "    \n",
    "    def get_current_row(self):\n",
    "        \"\"\"Getter for current row\"\"\"\n",
    "        return self.current_row\n",
    "    \n",
    "    def set_reader(self):\n",
    "        \"\"\"Set the csv reader\"\"\"\n",
    "\n",
    "        csvfile = open(self.filename, \"r\")\n",
    "\n",
    "        reader = csv.DictReader(csvfile)\n",
    "\n",
    "        return reader\n",
    "\n",
    "    def get_reader(self):\n",
    "        \"\"\"Get reader\"\"\"\n",
    "        return self.reader\n",
    "    \n",
    "    def map_output(self, value:str):\n",
    "        \"\"\"Map to one hot encoding\"\"\"\n",
    "        \n",
    "        if value == \"Low\":\n",
    "            return np.array([0.,0.,1.])\n",
    "        elif value == \"Medium\":\n",
    "            return np.array([0.,1.,0.])\n",
    "        elif value == \"High\":\n",
    "            return np.array([1.,0.,0.])\n",
    "        else:\n",
    "            raise Error(f\"Class '{value}' not found\")\n",
    "\n",
    "    def get_next_batch(self):\n",
    "        \"\"\"Get next batch\"\"\"\n",
    "\n",
    "        x_values = []\n",
    "        y_values = []\n",
    "        \n",
    "        batch_id = 0\n",
    "        \n",
    "        while batch_id < self.get_batch_size():\n",
    "\n",
    "            \n",
    "            # Convert row (which is currently as dictionary into list)\n",
    "            row = next(self.get_reader())\n",
    "\n",
    "            if self.get_current_row() in self.get_rows_to_use():\n",
    "                \"\"\"\n",
    "                Note: If our CSV file was referring to other files then\n",
    "                we can load them here and serve them.\n",
    "                For example, maybe the CSV file is:\n",
    "\n",
    "                    filename,Antibody affinity\n",
    "                    path1/path2/image123.tif,low\n",
    "                    path3/image234.jpg,high\n",
    "                    image789.jpg,medium\n",
    "                    ...\n",
    "                    path7/path8/path9/image999.jpg,low\n",
    "\n",
    "                With this we can just load in the image files directly\n",
    "                using the CSV row values. So this same code can\n",
    "                be re-used for every type of dataset.\n",
    "\n",
    "                \"\"\"\n",
    "                # Get everything but the last column\n",
    "                values = []\n",
    "\n",
    "                for feature in self.get_feature_names():\n",
    "                    values.append(float(row[feature]))\n",
    "\n",
    "                x_values.append(values)\n",
    "\n",
    "                # Get the last column\n",
    "                y_values.append(self.map_output(row[self.get_prediction_name()]))\n",
    "                \n",
    "                batch_id += 1\n",
    "                \n",
    "            self.current_row += 1\n",
    "\n",
    "        yield (np.array(x_values), np.array(y_values))"
   ]
  },
  {
   "cell_type": "code",
   "execution_count": 33,
   "id": "31bc9d4b",
   "metadata": {},
   "outputs": [],
   "source": [
    "data_loader2 = my_great_data_loader(\n",
    "    filename=csv_filename, batch_size=5, feature_names=feature_names\n",
    ")"
   ]
  },
  {
   "cell_type": "markdown",
   "id": "6e0bbe91",
   "metadata": {},
   "source": [
    "### __len__()\n",
    "\n",
    "The length command `len()` is actually the function we defined in `__len__()`!"
   ]
  },
  {
   "cell_type": "code",
   "execution_count": 34,
   "id": "7159b90a",
   "metadata": {},
   "outputs": [
    {
     "data": {
      "text/plain": [
       "121184"
      ]
     },
     "execution_count": 34,
     "metadata": {},
     "output_type": "execute_result"
    }
   ],
   "source": [
    "len(data_loader2)"
   ]
  },
  {
   "cell_type": "code",
   "execution_count": 35,
   "id": "857e54be",
   "metadata": {
    "scrolled": true
   },
   "outputs": [
    {
     "data": {
      "text/plain": [
       "605924"
      ]
     },
     "execution_count": 35,
     "metadata": {},
     "output_type": "execute_result"
    }
   ],
   "source": [
    "data_loader2.get_total_number_of_rows()"
   ]
  },
  {
   "cell_type": "code",
   "execution_count": 36,
   "id": "e6326a13",
   "metadata": {},
   "outputs": [
    {
     "data": {
      "text/plain": [
       "121184"
      ]
     },
     "execution_count": 36,
     "metadata": {},
     "output_type": "execute_result"
    }
   ],
   "source": [
    "data_loader2.get_total_number_of_batches()"
   ]
  },
  {
   "cell_type": "code",
   "execution_count": 37,
   "id": "51f84869",
   "metadata": {},
   "outputs": [
    {
     "data": {
      "text/plain": [
       "array(['pH', 'concentration (μg/ml)', 'molarity (mol/L)',\n",
       "       'temperature (°C)', 'lipophilicity', 'volume (ml)',\n",
       "       'turbidity (NTU)', 'elapsed time (secs)'], dtype='<U21')"
      ]
     },
     "execution_count": 37,
     "metadata": {},
     "output_type": "execute_result"
    }
   ],
   "source": [
    "data_loader2.get_feature_names()"
   ]
  },
  {
   "cell_type": "code",
   "execution_count": 38,
   "id": "113e853f",
   "metadata": {},
   "outputs": [
    {
     "name": "stdout",
     "output_type": "stream",
     "text": [
      "['pH' 'concentration (μg/ml)' 'molarity (mol/L)' 'temperature (°C)'\n",
      " 'lipophilicity' 'volume (ml)' 'turbidity (NTU)' 'elapsed time (secs)'] values = [[ 5.74404692e+00  7.87489386e-04  5.23464759e+00 -9.38135416e+00\n",
      "   1.25285505e+01  9.36554449e+04  7.63141292e+00  2.34542902e+03]\n",
      " [ 6.19597407e+00  7.31631080e-04  4.92261140e+00  2.07597878e+01\n",
      "   1.16054429e+01  3.18223392e+04  8.66440090e+00  2.36413369e+03]\n",
      " [ 5.40976679e+00  5.03685251e-04  6.28741144e+00  5.72222344e+00\n",
      "   1.54463530e+01  7.78613001e+04  8.61747954e+00  2.36631966e+03]\n",
      " [ 4.78294708e+00  7.70586967e-04  6.51443262e+00 -1.46130240e+00\n",
      "   1.25030559e+01  4.55761131e+04  7.47234089e+00  2.35270893e+03]\n",
      " [ 5.67636363e+00  5.93302441e-04  7.85057187e+00  3.50335152e+00\n",
      "   1.41075041e+01  6.06318252e+04  8.02623528e+00  2.35740530e+03]]\n",
      "X Shape = (5, 8)\n",
      "\n",
      "\n",
      "Antibody affinity values = [[0. 0. 1.]\n",
      " [1. 0. 0.]\n",
      " [0. 0. 1.]\n",
      " [0. 1. 0.]\n",
      " [0. 1. 0.]]\n",
      "y Shape = (5, 3)\n",
      "\n",
      "\n"
     ]
    }
   ],
   "source": [
    "for x, y in next(data_loader2):\n",
    "\n",
    "    print(f\"{data_loader2.get_feature_names()} values = {x}\")\n",
    "    print(f\"X Shape = {x.shape}\\n\\n\")\n",
    "\n",
    "    print(f\"{data_loader2.get_prediction_name()} values = {y}\")\n",
    "    print(f\"y Shape = {y.shape}\\n\\n\")"
   ]
  },
  {
   "cell_type": "code",
   "execution_count": 39,
   "id": "fb6b1f1a",
   "metadata": {},
   "outputs": [
    {
     "name": "stdout",
     "output_type": "stream",
     "text": [
      "['pH' 'concentration (μg/ml)' 'molarity (mol/L)' 'temperature (°C)'\n",
      " 'lipophilicity' 'volume (ml)' 'turbidity (NTU)' 'elapsed time (secs)'] values = [[ 4.54499879e+00  7.88394917e-04  5.48109450e+00 -3.23251874e-01\n",
      "   1.37564326e+01  7.56808245e+04  6.36968383e+00  2.36789287e+03]\n",
      " [ 5.93961608e+00  8.14733582e-04  4.23869546e+00 -2.28936950e+01\n",
      "   1.25375430e+01  8.45087368e+04  8.06484961e+00  2.33552971e+03]\n",
      " [ 6.36593166e+00  2.55069654e-04  5.23936006e+00 -3.12688627e-01\n",
      "   1.74250715e+01  1.16707605e+05  1.09382649e+01  2.35863394e+03]\n",
      " [ 4.29164085e+00  8.35536648e-04  5.65968333e+00 -3.43703584e+01\n",
      "   1.21516149e+01  1.08993641e+05  7.80729313e+00  2.31964426e+03]\n",
      " [ 5.11004783e+00  4.54829158e-04  8.73828694e+00 -1.10449308e+01\n",
      "   1.84803430e+01  5.77676869e+04  6.70575742e+00  2.37577475e+03]]\n",
      "X Shape = (5, 8)\n",
      "\n",
      "\n",
      "Antibody affinity values = [[0. 0. 1.]\n",
      " [0. 0. 1.]\n",
      " [0. 0. 1.]\n",
      " [1. 0. 0.]\n",
      " [0. 1. 0.]]\n",
      "y Shape = (5, 3)\n",
      "\n",
      "\n"
     ]
    }
   ],
   "source": [
    "for x, y in next(data_loader2):\n",
    "\n",
    "    print(f\"{data_loader2.get_feature_names()} values = {x}\")\n",
    "    print(f\"X Shape = {x.shape}\\n\\n\")\n",
    "\n",
    "    print(f\"{data_loader2.get_prediction_name()} values = {y}\")\n",
    "    print(f\"y Shape = {y.shape}\\n\\n\")"
   ]
  },
  {
   "cell_type": "code",
   "execution_count": 40,
   "id": "06e94eb1",
   "metadata": {},
   "outputs": [
    {
     "name": "stdout",
     "output_type": "stream",
     "text": [
      "['pH' 'concentration (μg/ml)' 'molarity (mol/L)' 'temperature (°C)'\n",
      " 'lipophilicity' 'volume (ml)' 'turbidity (NTU)' 'elapsed time (secs)'] values = [[ 6.25537570e+00  6.43369972e-04  6.56668552e+00  2.32853701e+01\n",
      "   1.37433971e+01  7.01466670e+04  7.35643303e+00  2.37831048e+03]\n",
      " [ 6.48863554e+00  8.94117682e-04  5.31515895e+00 -4.93134078e+00\n",
      "   1.20145251e+01  8.57713255e+04  6.38796320e+00  2.35397101e+03]\n",
      " [ 4.16911609e+00  1.06951387e-03  5.51811419e+00  4.30834299e+00\n",
      "   8.88748948e+00  9.70224800e+04  5.93197832e+00  2.34516033e+03]\n",
      " [ 5.50827091e+00  4.02971249e-04  5.71758970e+00  9.23725690e-01\n",
      "   1.61043008e+01  9.11110962e+04  9.81191369e+00  2.35958439e+03]\n",
      " [ 5.75426364e+00  5.84485355e-04  5.72744424e+00 -6.78131027e+00\n",
      "   1.43045115e+01  7.56740047e+04  8.97553103e+00  2.34943438e+03]]\n",
      "X Shape = (5, 8)\n",
      "\n",
      "\n",
      "Antibody affinity values = [[0. 0. 1.]\n",
      " [0. 0. 1.]\n",
      " [1. 0. 0.]\n",
      " [0. 0. 1.]\n",
      " [0. 0. 1.]]\n",
      "y Shape = (5, 3)\n",
      "\n",
      "\n"
     ]
    }
   ],
   "source": [
    "for x, y in next(data_loader2):\n",
    "\n",
    "    print(f\"{data_loader2.get_feature_names()} values = {x}\")\n",
    "    print(f\"X Shape = {x.shape}\\n\\n\")\n",
    "\n",
    "    print(f\"{data_loader2.get_prediction_name()} values = {y}\")\n",
    "    print(f\"y Shape = {y.shape}\\n\\n\")"
   ]
  },
  {
   "cell_type": "markdown",
   "id": "ac250213",
   "metadata": {},
   "source": [
    "### We can even get a data loader with just some of our features"
   ]
  },
  {
   "cell_type": "code",
   "execution_count": 41,
   "id": "d19d4228",
   "metadata": {},
   "outputs": [],
   "source": [
    "data_loader3 = my_great_data_loader(\n",
    "    filename=csv_filename, batch_size=5, feature_names=[\"pH\", \"turbidity (NTU)\"]\n",
    ")"
   ]
  },
  {
   "cell_type": "code",
   "execution_count": 42,
   "id": "9b52e704",
   "metadata": {},
   "outputs": [
    {
     "data": {
      "text/plain": [
       "['pH', 'turbidity (NTU)']"
      ]
     },
     "execution_count": 42,
     "metadata": {},
     "output_type": "execute_result"
    }
   ],
   "source": [
    "data_loader3.get_feature_names()"
   ]
  },
  {
   "cell_type": "code",
   "execution_count": 43,
   "id": "1f35d7c6",
   "metadata": {},
   "outputs": [
    {
     "name": "stdout",
     "output_type": "stream",
     "text": [
      "['pH', 'turbidity (NTU)'] values = [[5.74404692 7.63141292]\n",
      " [6.19597407 8.6644009 ]\n",
      " [5.40976679 8.61747954]\n",
      " [4.78294708 7.47234089]\n",
      " [5.67636363 8.02623528]]\n",
      "X Shape = (5, 2)\n",
      "\n",
      "\n",
      "Antibody affinity values = [[0. 0. 1.]\n",
      " [1. 0. 0.]\n",
      " [0. 0. 1.]\n",
      " [0. 1. 0.]\n",
      " [0. 1. 0.]]\n",
      "y Shape = (5, 3)\n",
      "\n",
      "\n"
     ]
    }
   ],
   "source": [
    "for x, y in next(data_loader3):\n",
    "\n",
    "    print(f\"{data_loader3.get_feature_names()} values = {x}\")\n",
    "    print(f\"X Shape = {x.shape}\\n\\n\")\n",
    "\n",
    "    print(f\"{data_loader3.get_prediction_name()} values = {y}\")\n",
    "    print(f\"y Shape = {y.shape}\\n\\n\")"
   ]
  },
  {
   "cell_type": "code",
   "execution_count": 44,
   "id": "694f715f",
   "metadata": {},
   "outputs": [],
   "source": [
    "data_loader4 = my_great_data_loader(\n",
    "    filename=csv_filename,\n",
    "    batch_size=5,\n",
    "    feature_names=[\"pH\", \"turbidity (NTU)\"],\n",
    "    rows_to_use=[14, 223, 1234, 2222, 20222, 45123, 83456],\n",
    ")"
   ]
  },
  {
   "cell_type": "code",
   "execution_count": 45,
   "id": "fd24fdd5",
   "metadata": {},
   "outputs": [
    {
     "name": "stdout",
     "output_type": "stream",
     "text": [
      "['pH', 'turbidity (NTU)'] values = [[5.75426364 8.97553103]\n",
      " [6.65077974 2.21735753]\n",
      " [5.9008641  9.58502736]\n",
      " [3.39149966 7.6406676 ]\n",
      " [7.19851772 7.65204959]]\n",
      "X Shape = (5, 2)\n",
      "\n",
      "\n",
      "Antibody affinity values = [[0. 0. 1.]\n",
      " [0. 1. 0.]\n",
      " [0. 1. 0.]\n",
      " [0. 0. 1.]\n",
      " [0. 1. 0.]]\n",
      "y Shape = (5, 3)\n",
      "\n",
      "\n"
     ]
    }
   ],
   "source": [
    "for x, y in next(data_loader4):\n",
    "\n",
    "    print(f\"{data_loader4.get_feature_names()} values = {x}\")\n",
    "    print(f\"X Shape = {x.shape}\\n\\n\")\n",
    "\n",
    "    print(f\"{data_loader4.get_prediction_name()} values = {y}\")\n",
    "    print(f\"y Shape = {y.shape}\\n\\n\")"
   ]
  },
  {
   "cell_type": "code",
   "execution_count": 46,
   "id": "bbe218ee",
   "metadata": {},
   "outputs": [
    {
     "data": {
      "text/plain": [
       "[14, 223, 1234, 2222, 20222, 45123, 83456]"
      ]
     },
     "execution_count": 46,
     "metadata": {},
     "output_type": "execute_result"
    }
   ],
   "source": [
    "data_loader4.get_rows_to_use()"
   ]
  },
  {
   "cell_type": "markdown",
   "id": "bbfe4ddd",
   "metadata": {},
   "source": [
    "### Let's do our own train/test/split of the data\n",
    "\n",
    "To complete our data loader, we need to be able to [split the dataset](https://scikit-learn.org/stable/modules/generated/sklearn.model_selection.train_test_split.html) into 3 parts: a training set, a testing set, and a validation set. Usually the split is 80/10/10 (0.8/0.1/0.1). We'll do this by:\n",
    "\n",
    "* creating lists of the indices\n",
    "* randomizing that list\n",
    "* split the list into 3 sections at the desired indices\n",
    "* return the 3 lists (individually sorted)\n",
    "\n",
    "NOTE: These lists are just the indices (row numbers) not the actual data"
   ]
  },
  {
   "cell_type": "code",
   "execution_count": 47,
   "id": "489b365d",
   "metadata": {},
   "outputs": [],
   "source": [
    "def get_splits(filename, train_test_split:float=0.8, test_validation_split:float=0.5):\n",
    "    \"\"\"Calculates the indices for the train/test/validation split\n",
    "    \n",
    "    Args:\n",
    "        filename(str): The CSV filename\n",
    "        train_test_split(float): Number from 0 to 1 (Default 0.8 which is 80% split)\n",
    "        test_validation_split(float): Number from 0 to 1 (Default 0.5 which is 50% split)\n",
    "    \n",
    "    \"\"\"\n",
    "\n",
    "    # Make sure these are percentages\n",
    "    assert train_test_split >= 0\n",
    "    assert train_test_split <= 1\n",
    "    assert test_validation_split >= 0\n",
    "    assert test_validation_split <= 1\n",
    "    \n",
    "    total_rows = 0\n",
    "\n",
    "    # iterating through the whole file\n",
    "    for row in open(filename, \"r\"):\n",
    "        total_rows += 1\n",
    "\n",
    "    total_indicies = np.arange(total_rows)\n",
    "    np.random.shuffle(total_indicies)  # Recall we already seeded so this should be deterministic\n",
    "\n",
    "    last_train_idx = int(train_test_split * total_rows)\n",
    "\n",
    "    train_rows = np.sort(total_indicies[:last_train_idx])\n",
    "    remaining_rows = total_indicies[last_train_idx:]\n",
    "\n",
    "    last_validation_idx = int(test_validation_split * len(remaining_rows))\n",
    "    validation_rows = np.sort(remaining_rows[:last_validation_idx])\n",
    "    test_rows = np.sort(remaining_rows[last_validation_idx:])\n",
    "    \n",
    "    return train_rows, test_rows, validation_rows"
   ]
  },
  {
   "cell_type": "code",
   "execution_count": 48,
   "id": "a548b94e",
   "metadata": {},
   "outputs": [],
   "source": [
    "train_rows, test_rows, validation_rows = get_splits(csv_filename)"
   ]
  },
  {
   "cell_type": "code",
   "execution_count": 49,
   "id": "5421a84f",
   "metadata": {},
   "outputs": [
    {
     "data": {
      "text/plain": [
       "484739"
      ]
     },
     "execution_count": 49,
     "metadata": {},
     "output_type": "execute_result"
    }
   ],
   "source": [
    "len(train_rows)"
   ]
  },
  {
   "cell_type": "code",
   "execution_count": 50,
   "id": "1c27c7b5",
   "metadata": {},
   "outputs": [
    {
     "data": {
      "text/plain": [
       "60593"
      ]
     },
     "execution_count": 50,
     "metadata": {},
     "output_type": "execute_result"
    }
   ],
   "source": [
    "len(test_rows)"
   ]
  },
  {
   "cell_type": "code",
   "execution_count": 51,
   "id": "5a06cf2a",
   "metadata": {},
   "outputs": [
    {
     "data": {
      "text/plain": [
       "60592"
      ]
     },
     "execution_count": 51,
     "metadata": {},
     "output_type": "execute_result"
    }
   ],
   "source": [
    "len(validation_rows)"
   ]
  },
  {
   "cell_type": "markdown",
   "id": "dbe9ca15",
   "metadata": {},
   "source": [
    "### If we did it correctly, then each list is unique"
   ]
  },
  {
   "cell_type": "code",
   "execution_count": 52,
   "id": "1324fcbf",
   "metadata": {},
   "outputs": [
    {
     "data": {
      "text/plain": [
       "array([], dtype=int64)"
      ]
     },
     "execution_count": 52,
     "metadata": {},
     "output_type": "execute_result"
    }
   ],
   "source": [
    "np.intersect1d(train_rows, test_rows)  # There should be no overlapping rows"
   ]
  },
  {
   "cell_type": "code",
   "execution_count": 53,
   "id": "990ee65c",
   "metadata": {},
   "outputs": [
    {
     "data": {
      "text/plain": [
       "array([], dtype=int64)"
      ]
     },
     "execution_count": 53,
     "metadata": {},
     "output_type": "execute_result"
    }
   ],
   "source": [
    "np.intersect1d(validation_rows, test_rows)  # There should be no overlapping rows"
   ]
  },
  {
   "cell_type": "code",
   "execution_count": 54,
   "id": "f53db650",
   "metadata": {},
   "outputs": [
    {
     "data": {
      "text/plain": [
       "array([], dtype=int64)"
      ]
     },
     "execution_count": 54,
     "metadata": {},
     "output_type": "execute_result"
    }
   ],
   "source": [
    "np.intersect1d(train_rows, validation_rows)  # There should be no overlapping rows"
   ]
  },
  {
   "cell_type": "markdown",
   "id": "9b180e09",
   "metadata": {},
   "source": [
    "### Finally we can create 3 separate data loaders\n",
    "\n",
    "One for training data, one for testing data, and one for validation data"
   ]
  },
  {
   "cell_type": "code",
   "execution_count": 55,
   "id": "7e8c1596",
   "metadata": {},
   "outputs": [],
   "source": [
    "train_loader = my_great_data_loader(\n",
    "    filename=csv_filename,\n",
    "    batch_size=32,\n",
    "    rows_to_use=train_rows,\n",
    ")"
   ]
  },
  {
   "cell_type": "code",
   "execution_count": 56,
   "id": "39f7ba61",
   "metadata": {},
   "outputs": [],
   "source": [
    "test_loader = my_great_data_loader(\n",
    "    filename=csv_filename,\n",
    "    batch_size=32,\n",
    "    rows_to_use=test_rows,\n",
    ")"
   ]
  },
  {
   "cell_type": "code",
   "execution_count": 57,
   "id": "b09800b2",
   "metadata": {},
   "outputs": [],
   "source": [
    "validation_loader = my_great_data_loader(\n",
    "    filename=csv_filename,\n",
    "    batch_size=32,\n",
    "    rows_to_use=validation_rows,\n",
    ")"
   ]
  },
  {
   "cell_type": "code",
   "execution_count": 58,
   "id": "e01452ea",
   "metadata": {},
   "outputs": [
    {
     "name": "stdout",
     "output_type": "stream",
     "text": [
      "['pH' 'concentration (μg/ml)' 'molarity (mol/L)' 'temperature (°C)'\n",
      " 'lipophilicity' 'volume (ml)' 'turbidity (NTU)' 'elapsed time (secs)'] values = [[ 5.74404692e+00  7.87489386e-04  5.23464759e+00 -9.38135416e+00\n",
      "   1.25285505e+01  9.36554449e+04  7.63141292e+00  2.34542902e+03]\n",
      " [ 6.19597407e+00  7.31631080e-04  4.92261140e+00  2.07597878e+01\n",
      "   1.16054429e+01  3.18223392e+04  8.66440090e+00  2.36413369e+03]\n",
      " [ 5.40976679e+00  5.03685251e-04  6.28741144e+00  5.72222344e+00\n",
      "   1.54463530e+01  7.78613001e+04  8.61747954e+00  2.36631966e+03]\n",
      " [ 4.78294708e+00  7.70586967e-04  6.51443262e+00 -1.46130240e+00\n",
      "   1.25030559e+01  4.55761131e+04  7.47234089e+00  2.35270893e+03]\n",
      " [ 5.67636363e+00  5.93302441e-04  7.85057187e+00  3.50335152e+00\n",
      "   1.41075041e+01  6.06318252e+04  8.02623528e+00  2.35740530e+03]\n",
      " [ 4.54499879e+00  7.88394917e-04  5.48109450e+00 -3.23251874e-01\n",
      "   1.37564326e+01  7.56808245e+04  6.36968383e+00  2.36789287e+03]\n",
      " [ 5.93961608e+00  8.14733582e-04  4.23869546e+00 -2.28936950e+01\n",
      "   1.25375430e+01  8.45087368e+04  8.06484961e+00  2.33552971e+03]\n",
      " [ 6.36593166e+00  2.55069654e-04  5.23936006e+00 -3.12688627e-01\n",
      "   1.74250715e+01  1.16707605e+05  1.09382649e+01  2.35863394e+03]\n",
      " [ 4.29164085e+00  8.35536648e-04  5.65968333e+00 -3.43703584e+01\n",
      "   1.21516149e+01  1.08993641e+05  7.80729313e+00  2.31964426e+03]\n",
      " [ 5.11004783e+00  4.54829158e-04  8.73828694e+00 -1.10449308e+01\n",
      "   1.84803430e+01  5.77676869e+04  6.70575742e+00  2.37577475e+03]\n",
      " [ 6.48863554e+00  8.94117682e-04  5.31515895e+00 -4.93134078e+00\n",
      "   1.20145251e+01  8.57713255e+04  6.38796320e+00  2.35397101e+03]\n",
      " [ 4.16911609e+00  1.06951387e-03  5.51811419e+00  4.30834299e+00\n",
      "   8.88748948e+00  9.70224800e+04  5.93197832e+00  2.34516033e+03]\n",
      " [ 5.75426364e+00  5.84485355e-04  5.72744424e+00 -6.78131027e+00\n",
      "   1.43045115e+01  7.56740047e+04  8.97553103e+00  2.34943438e+03]\n",
      " [ 4.79041357e+00  6.85169840e-04  9.23499682e+00  1.28825079e+01\n",
      "   1.42787109e+01  6.79109051e+04  5.75171830e+00  2.37503213e+03]\n",
      " [ 5.10101329e+00  7.67520387e-04  8.09306676e+00  2.69005516e+01\n",
      "   1.10617599e+01  6.79461979e+04  7.07817771e+00  2.36363652e+03]\n",
      " [ 2.92440776e+00  8.17825429e-04  4.11655812e+00 -1.58603353e+01\n",
      "   1.28707369e+01  9.14419323e+04  7.53297715e+00  2.34608294e+03]\n",
      " [ 5.55006916e+00  4.98359936e-04  5.29002294e+00 -1.20161493e+01\n",
      "   1.54278402e+01  7.30114247e+04  9.65035159e+00  2.34892897e+03]\n",
      " [ 5.08518290e+00  7.07904030e-04  8.53336018e+00 -1.70380312e+01\n",
      "   1.50760255e+01  6.18195905e+04  6.02831095e+00  2.35614997e+03]\n",
      " [ 3.75511822e+00  6.20212111e-04  7.99495623e+00  1.25660100e+01\n",
      "   1.27751629e+01  7.56639475e+04  8.27385463e+00  2.35418579e+03]\n",
      " [ 6.79350995e+00  7.37581408e-04  7.96280461e+00 -1.66846072e+01\n",
      "   1.32742815e+01  5.28938633e+04  7.27423309e+00  2.34119119e+03]\n",
      " [ 6.18222904e+00  9.71920726e-04  7.54758512e+00 -2.14498471e+01\n",
      "   1.06699916e+01  1.01473954e+05  6.00664436e+00  2.32772394e+03]\n",
      " [ 5.72513839e+00  7.46088614e-04  7.85749435e+00  6.56326795e+00\n",
      "   1.42306196e+01  7.92405470e+04  5.53275606e+00  2.37403715e+03]\n",
      " [ 5.27291525e+00  4.03175544e-04  8.01585596e+00  1.07707890e+01\n",
      "   1.42618102e+01  7.56826325e+04  1.02500955e+01  2.34918171e+03]\n",
      " [ 6.76366550e+00  6.85966007e-04  7.50098686e+00  1.37499105e+01\n",
      "   1.37563622e+01  5.17979450e+04  6.82243821e+00  2.37261866e+03]\n",
      " [ 4.18389433e+00  6.96726664e-04  7.70290659e+00  1.40531520e+01\n",
      "   1.38474880e+01  7.02950691e+04  6.40975622e+00  2.37382846e+03]\n",
      " [ 4.41929970e+00  8.65897277e-04  6.96134891e+00 -1.93285251e+00\n",
      "   1.36847986e+01  6.31131166e+04  4.92659719e+00  2.37156196e+03]\n",
      " [ 5.49448713e+00  5.99417838e-04  8.51201180e+00  2.45420525e+01\n",
      "   1.46213943e+01  6.61800492e+04  6.59500970e+00  2.38354075e+03]\n",
      " [ 5.86098159e+00  4.44049165e-04  5.87307443e+00  8.17462243e+00\n",
      "   1.54308662e+01  8.78883518e+04  9.49161743e+00  2.36338884e+03]\n",
      " [ 4.39768003e+00  8.38860204e-04  6.76539935e+00  1.12166572e+01\n",
      "   1.33908377e+01  8.22714662e+04  5.08461374e+00  2.37866786e+03]\n",
      " [ 4.54571278e+00  5.23071176e-04  8.03177333e+00  1.41672209e+01\n",
      "   1.37078850e+01  8.39573828e+04  8.81164396e+00  2.35674415e+03]\n",
      " [ 5.32302295e+00  5.90643712e-04  8.31536063e+00 -1.46069276e+01\n",
      "   1.47395311e+01  7.62418029e+04  7.89034867e+00  2.34457749e+03]\n",
      " [ 4.95535871e+00  3.80316158e-04  8.42556416e+00  1.32611059e+01\n",
      "   1.43202487e+01  9.63518138e+04  1.01903174e+01  2.34909706e+03]]\n",
      "X Shape = (32, 8)\n",
      "\n",
      "\n",
      "Antibody affinity values = [[0. 0. 1.]\n",
      " [1. 0. 0.]\n",
      " [0. 0. 1.]\n",
      " [0. 1. 0.]\n",
      " [0. 1. 0.]\n",
      " [0. 0. 1.]\n",
      " [0. 0. 1.]\n",
      " [0. 0. 1.]\n",
      " [1. 0. 0.]\n",
      " [0. 1. 0.]\n",
      " [0. 0. 1.]\n",
      " [1. 0. 0.]\n",
      " [0. 0. 1.]\n",
      " [1. 0. 0.]\n",
      " [1. 0. 0.]\n",
      " [0. 0. 1.]\n",
      " [0. 0. 1.]\n",
      " [0. 1. 0.]\n",
      " [1. 0. 0.]\n",
      " [0. 1. 0.]\n",
      " [1. 0. 0.]\n",
      " [1. 0. 0.]\n",
      " [0. 1. 0.]\n",
      " [1. 0. 0.]\n",
      " [1. 0. 0.]\n",
      " [0. 1. 0.]\n",
      " [1. 0. 0.]\n",
      " [0. 1. 0.]\n",
      " [0. 0. 1.]\n",
      " [0. 1. 0.]\n",
      " [1. 0. 0.]\n",
      " [0. 1. 0.]]\n",
      "y Shape = (32, 3)\n",
      "\n",
      "\n"
     ]
    }
   ],
   "source": [
    "for x, y in next(train_loader):\n",
    "\n",
    "    print(f\"{train_loader.get_feature_names()} values = {x}\")\n",
    "    print(f\"X Shape = {x.shape}\\n\\n\")\n",
    "\n",
    "    print(f\"{train_loader.get_prediction_name()} values = {y}\")\n",
    "    print(f\"y Shape = {y.shape}\\n\\n\")"
   ]
  },
  {
   "cell_type": "code",
   "execution_count": 59,
   "id": "f397514e",
   "metadata": {},
   "outputs": [
    {
     "data": {
      "text/plain": [
       "18935"
      ]
     },
     "execution_count": 59,
     "metadata": {},
     "output_type": "execute_result"
    }
   ],
   "source": [
    "len(train_loader)"
   ]
  },
  {
   "cell_type": "code",
   "execution_count": null,
   "id": "df0b6a1d",
   "metadata": {},
   "outputs": [],
   "source": []
  }
 ],
 "metadata": {
  "kernelspec": {
   "display_name": "Python 3 (ipykernel)",
   "language": "python",
   "name": "python3"
  },
  "language_info": {
   "codemirror_mode": {
    "name": "ipython",
    "version": 3
   },
   "file_extension": ".py",
   "mimetype": "text/x-python",
   "name": "python",
   "nbconvert_exporter": "python",
   "pygments_lexer": "ipython3",
   "version": "3.10.6"
  }
 },
 "nbformat": 4,
 "nbformat_minor": 5
}
