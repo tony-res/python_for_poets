{
 "cells": [
  {
   "cell_type": "markdown",
   "id": "b6771d72",
   "metadata": {},
   "source": [
    "# Python tutorial 5\n",
    "\n",
    "Let's spend another tutorial reviewing what we have learned."
   ]
  },
  {
   "cell_type": "markdown",
   "id": "9ccf0f38",
   "metadata": {},
   "source": [
    "## NumPy\n",
    "\n",
    "NumPy (Numerical Python) is the most widely-used Python library. It isn't part of the default distribution, but can easily be installed. The benefit is the speed. NumPy is much faster than using ordinary lists (orders of magnitude faster). It can also handle matricies of all sizes."
   ]
  },
  {
   "cell_type": "code",
   "execution_count": 1,
   "id": "7ae67355",
   "metadata": {},
   "outputs": [],
   "source": [
    "import numpy as np"
   ]
  },
  {
   "cell_type": "code",
   "execution_count": 2,
   "id": "fb55f61b",
   "metadata": {},
   "outputs": [
    {
     "name": "stdout",
     "output_type": "stream",
     "text": [
      "[ 3  5  7  9 11 13 15 17 19]\n"
     ]
    }
   ],
   "source": [
    "a = np.arange(3,20,2)\n",
    "print(a)"
   ]
  },
  {
   "cell_type": "code",
   "execution_count": 3,
   "id": "7533b325",
   "metadata": {},
   "outputs": [
    {
     "name": "stdout",
     "output_type": "stream",
     "text": [
      "[ 7  9 11 13 15 17 19 21 23]\n"
     ]
    }
   ],
   "source": [
    "a += 4\n",
    "print(a)"
   ]
  },
  {
   "cell_type": "code",
   "execution_count": 4,
   "id": "6c4aec65",
   "metadata": {},
   "outputs": [
    {
     "name": "stdout",
     "output_type": "stream",
     "text": [
      "[14 18 22 26 30 34 38 42 46]\n"
     ]
    }
   ],
   "source": [
    "a *= 2\n",
    "print(a)"
   ]
  },
  {
   "cell_type": "code",
   "execution_count": 5,
   "id": "8ccbfe65",
   "metadata": {},
   "outputs": [
    {
     "name": "stdout",
     "output_type": "stream",
     "text": [
      "[ 7.  9. 11. 13. 15. 17. 19. 21. 23.]\n"
     ]
    }
   ],
   "source": [
    "a = a / 2\n",
    "print(a)"
   ]
  },
  {
   "cell_type": "code",
   "execution_count": 6,
   "id": "a206ccb7",
   "metadata": {},
   "outputs": [
    {
     "data": {
      "text/plain": [
       "array([11., 13., 15., 17., 19.])"
      ]
     },
     "execution_count": 6,
     "metadata": {},
     "output_type": "execute_result"
    }
   ],
   "source": [
    "a[2:7]"
   ]
  },
  {
   "cell_type": "code",
   "execution_count": 7,
   "id": "faf1deec",
   "metadata": {},
   "outputs": [
    {
     "name": "stdout",
     "output_type": "stream",
     "text": [
      "[ 7.  9. 11. 13. 15. 17. 19. 21. 23.]\n",
      "[28. 36. 44. 52. 60. 68. 76. 84. 92.]\n",
      "[ 35.  45.  55.  65.  75.  85.  95. 105. 115.]\n"
     ]
    }
   ],
   "source": [
    "b = a * 4\n",
    "print(a)\n",
    "print(b)\n",
    "print(a + b)"
   ]
  },
  {
   "cell_type": "code",
   "execution_count": 8,
   "id": "549de95e",
   "metadata": {},
   "outputs": [
    {
     "data": {
      "text/plain": [
       "15.0"
      ]
     },
     "execution_count": 8,
     "metadata": {},
     "output_type": "execute_result"
    }
   ],
   "source": [
    "a.mean()"
   ]
  },
  {
   "cell_type": "code",
   "execution_count": 9,
   "id": "eddcc83a",
   "metadata": {},
   "outputs": [
    {
     "data": {
      "text/plain": [
       "5.163977794943222"
      ]
     },
     "execution_count": 9,
     "metadata": {},
     "output_type": "execute_result"
    }
   ],
   "source": [
    "a.std()"
   ]
  },
  {
   "cell_type": "code",
   "execution_count": 10,
   "id": "bdef2de3",
   "metadata": {},
   "outputs": [
    {
     "data": {
      "text/plain": [
       "26.666666666666668"
      ]
     },
     "execution_count": 10,
     "metadata": {},
     "output_type": "execute_result"
    }
   ],
   "source": [
    "a.var()"
   ]
  },
  {
   "cell_type": "code",
   "execution_count": 11,
   "id": "2d34dfc2",
   "metadata": {},
   "outputs": [
    {
     "data": {
      "text/plain": [
       "23.0"
      ]
     },
     "execution_count": 11,
     "metadata": {},
     "output_type": "execute_result"
    }
   ],
   "source": [
    "a.max()"
   ]
  },
  {
   "cell_type": "code",
   "execution_count": 12,
   "id": "e17b9f1e",
   "metadata": {},
   "outputs": [
    {
     "data": {
      "text/plain": [
       "135.0"
      ]
     },
     "execution_count": 12,
     "metadata": {},
     "output_type": "execute_result"
    }
   ],
   "source": [
    "a.sum()"
   ]
  },
  {
   "cell_type": "code",
   "execution_count": 13,
   "id": "d93453fe",
   "metadata": {},
   "outputs": [
    {
     "data": {
      "text/plain": [
       "21082276215.0"
      ]
     },
     "execution_count": 13,
     "metadata": {},
     "output_type": "execute_result"
    }
   ],
   "source": [
    "a.prod()"
   ]
  },
  {
   "cell_type": "code",
   "execution_count": 14,
   "id": "22c48dc5",
   "metadata": {},
   "outputs": [
    {
     "data": {
      "text/plain": [
       "7.0"
      ]
     },
     "execution_count": 14,
     "metadata": {},
     "output_type": "execute_result"
    }
   ],
   "source": [
    "a.min()"
   ]
  },
  {
   "cell_type": "code",
   "execution_count": 15,
   "id": "0c224568",
   "metadata": {},
   "outputs": [
    {
     "data": {
      "text/plain": [
       "array([2.64575131, 3.        , 3.31662479, 3.60555128, 3.87298335,\n",
       "       4.12310563, 4.35889894, 4.58257569, 4.79583152])"
      ]
     },
     "execution_count": 15,
     "metadata": {},
     "output_type": "execute_result"
    }
   ],
   "source": [
    "np.sqrt(a)"
   ]
  },
  {
   "cell_type": "code",
   "execution_count": 16,
   "id": "bce8b41d",
   "metadata": {},
   "outputs": [
    {
     "data": {
      "text/plain": [
       "array([ 0.,  1.,  8., 27., 16.,  5.])"
      ]
     },
     "execution_count": 16,
     "metadata": {},
     "output_type": "execute_result"
    }
   ],
   "source": [
    "x1 = np.arange(6)\n",
    "x2 = [1.0, 2.0, 3.0, 3.0, 2.0, 1.0]\n",
    "np.power(x1, x2)"
   ]
  },
  {
   "cell_type": "code",
   "execution_count": 17,
   "id": "308d617e",
   "metadata": {},
   "outputs": [
    {
     "name": "stdout",
     "output_type": "stream",
     "text": [
      "[16 17 18 19]\n"
     ]
    }
   ],
   "source": [
    "c = np.array(range(20))\n",
    "print(c[c > 15])"
   ]
  },
  {
   "cell_type": "markdown",
   "id": "b93dff40",
   "metadata": {},
   "source": [
    "## Special numbers\n",
    "\n",
    "$ +\\infty, \\pi, -\\infty, e, NaN $"
   ]
  },
  {
   "cell_type": "code",
   "execution_count": 18,
   "id": "c5697bd3",
   "metadata": {},
   "outputs": [
    {
     "name": "stdout",
     "output_type": "stream",
     "text": [
      "[ 1.2                nan  4.          5.         -6.345              nan\n",
      "         inf  3.14159265  2.71828183        -inf]\n"
     ]
    }
   ],
   "source": [
    "d = np.array([1.2, np.nan, 4, 5, -6.345, np.nan, np.inf, np.pi, np.e, np.NINF])\n",
    "print(d)"
   ]
  },
  {
   "cell_type": "code",
   "execution_count": 19,
   "id": "f1c3a615",
   "metadata": {},
   "outputs": [
    {
     "data": {
      "text/plain": [
       "array([False,  True, False, False, False,  True, False, False, False,\n",
       "       False])"
      ]
     },
     "execution_count": 19,
     "metadata": {},
     "output_type": "execute_result"
    }
   ],
   "source": [
    "np.isnan(d)   # Is not a number?"
   ]
  },
  {
   "cell_type": "code",
   "execution_count": 20,
   "id": "da0fd514",
   "metadata": {},
   "outputs": [
    {
     "data": {
      "text/plain": [
       "array([False, False, False, False, False, False,  True, False, False,\n",
       "        True])"
      ]
     },
     "execution_count": 20,
     "metadata": {},
     "output_type": "execute_result"
    }
   ],
   "source": [
    "np.isinf(d)   # Is infinity?"
   ]
  },
  {
   "cell_type": "code",
   "execution_count": 21,
   "id": "3040c479",
   "metadata": {},
   "outputs": [
    {
     "data": {
      "text/plain": [
       "array([ True, False,  True,  True,  True, False, False,  True,  True,\n",
       "       False])"
      ]
     },
     "execution_count": 21,
     "metadata": {},
     "output_type": "execute_result"
    }
   ],
   "source": [
    "np.isfinite(d)  # Is finite?"
   ]
  },
  {
   "cell_type": "code",
   "execution_count": 22,
   "id": "a5f54a33",
   "metadata": {},
   "outputs": [
    {
     "data": {
      "text/plain": [
       "1.1920929e-07"
      ]
     },
     "execution_count": 22,
     "metadata": {},
     "output_type": "execute_result"
    }
   ],
   "source": [
    "np.finfo(np.float32).eps"
   ]
  },
  {
   "cell_type": "code",
   "execution_count": 23,
   "id": "85bb9b22",
   "metadata": {},
   "outputs": [
    {
     "data": {
      "text/plain": [
       "2.220446049250313e-16"
      ]
     },
     "execution_count": 23,
     "metadata": {},
     "output_type": "execute_result"
    }
   ],
   "source": [
    "np.finfo(np.float64).eps"
   ]
  },
  {
   "cell_type": "markdown",
   "id": "74b02c5a",
   "metadata": {},
   "source": [
    "## Reshape arrays"
   ]
  },
  {
   "cell_type": "code",
   "execution_count": 24,
   "id": "38027d63",
   "metadata": {},
   "outputs": [
    {
     "name": "stdout",
     "output_type": "stream",
     "text": [
      "[[ 1  2  3  4  5  6  7  8  9]\n",
      " [10 11 12 13 14 15 16 17 18]]\n",
      "(2, 9)\n",
      "[ 1  2  3  4  5  6  7  8  9 10 11 12 13 14 15 16 17 18]\n",
      "(18,)\n"
     ]
    }
   ],
   "source": [
    "arr2 = np.array([[1,2,3,4,5,6,7,8,9],\n",
    "        [10,11,12,13,14,15,16,17,18]])\n",
    "\n",
    "#reshape\n",
    "print(arr2)\n",
    "print(arr2.shape)\n",
    "print(np.reshape(arr2,-1))\n",
    "print(np.reshape(arr2,-1).shape)"
   ]
  },
  {
   "cell_type": "code",
   "execution_count": 25,
   "id": "4fc60eaa",
   "metadata": {},
   "outputs": [
    {
     "name": "stdout",
     "output_type": "stream",
     "text": [
      "True\n",
      "False\n"
     ]
    }
   ],
   "source": [
    "a = np.array([0.16,0.26,0.365])\n",
    "b = np.array([0.15,0.25,0.36])\n",
    "tolerance1 = 0.1 \n",
    "tolerance2 = 0.05\n",
    "print(np.allclose(a,b,tolerance1))\n",
    "print(np.allclose(a,b,tolerance2))"
   ]
  },
  {
   "cell_type": "code",
   "execution_count": 26,
   "id": "b1a7cfb8",
   "metadata": {
    "scrolled": true
   },
   "outputs": [
    {
     "name": "stdout",
     "output_type": "stream",
     "text": [
      "[[10 13 11 15]\n",
      " [14 13 15  9]\n",
      " [13  5 13  4]]\n"
     ]
    }
   ],
   "source": [
    "# 2D array\n",
    "t = np.random.randint(1, 16, (3, 4), dtype=int)\n",
    "print(t)"
   ]
  },
  {
   "cell_type": "code",
   "execution_count": 27,
   "id": "4e8b6acd",
   "metadata": {},
   "outputs": [
    {
     "name": "stdout",
     "output_type": "stream",
     "text": [
      "[[ 3  8  4 11]\n",
      " [13 13 14  3]\n",
      " [ 7  7  7  8]]\n"
     ]
    }
   ],
   "source": [
    "# 2D array\n",
    "t = np.random.randint(1, 16, (3, 4), dtype=int)\n",
    "print(t)"
   ]
  },
  {
   "cell_type": "code",
   "execution_count": 28,
   "id": "1f4324a6",
   "metadata": {},
   "outputs": [
    {
     "name": "stdout",
     "output_type": "stream",
     "text": [
      "['-1' '-1' 'C' 'C' '3.5' 'B' '2' '3.5' 'B' '2']\n"
     ]
    }
   ],
   "source": [
    "# Randomly chose 10 samples from the array with replacement\n",
    "print(np.random.choice(['A', 'B', '2', '3.5', 'C', '-1'], size=10, replace=True))"
   ]
  },
  {
   "cell_type": "code",
   "execution_count": 29,
   "id": "2e200f5b",
   "metadata": {},
   "outputs": [
    {
     "data": {
      "text/plain": [
       "array([[0.39603358, 0.67944368, 0.29023467, 0.50361549],\n",
       "       [0.86148933, 0.91616192, 0.94736819, 0.21866725],\n",
       "       [0.49469584, 0.69590266, 0.48244177, 0.67382151],\n",
       "       [0.46753565, 0.26911621, 0.30363526, 0.05223115],\n",
       "       [0.34151187, 0.89512142, 0.61937418, 0.5589788 ]])"
      ]
     },
     "execution_count": 29,
     "metadata": {},
     "output_type": "execute_result"
    }
   ],
   "source": [
    "np.random.rand(5,4)"
   ]
  },
  {
   "cell_type": "code",
   "execution_count": 30,
   "id": "d53f889a",
   "metadata": {},
   "outputs": [
    {
     "name": "stdout",
     "output_type": "stream",
     "text": [
      "['A' 'T' 'T' 'C' 'G' 'G' 'T' 'A' 'C' 'T' 'C' 'T' 'C' 'T' 'G' 'A' 'T' 'T'\n",
      " 'C' 'A' 'T' 'G']\n"
     ]
    }
   ],
   "source": [
    "def my_split(word):\n",
    "    return [char for char in word]\n",
    "\n",
    "dna = np.array(my_split('ATTCGGTACTCTCTGATTCATG'))\n",
    "print(dna)"
   ]
  },
  {
   "cell_type": "code",
   "execution_count": 31,
   "id": "e3d2a6e7",
   "metadata": {},
   "outputs": [
    {
     "name": "stdout",
     "output_type": "stream",
     "text": [
      "['T' 'G' 'T' 'A' 'T' 'T' 'G' 'T' 'T' 'A' 'C' 'A' 'T' 'C' 'T' 'T' 'C' 'A'\n",
      " 'C' 'G' 'C' 'G']\n"
     ]
    }
   ],
   "source": [
    "np.random.shuffle(dna)\n",
    "print(dna)"
   ]
  },
  {
   "cell_type": "code",
   "execution_count": 32,
   "id": "1cac7024",
   "metadata": {},
   "outputs": [
    {
     "name": "stdout",
     "output_type": "stream",
     "text": [
      "['T' 'G' 'T' 'A' 'T' 'T' 'G' 'T' 'T' 'A' 'C' 'A' 'T' 'C' 'T' 'T' 'C' 'A'\n",
      " 'C' 'G' 'C' 'G']\n"
     ]
    }
   ],
   "source": [
    "np.random.permutation(dna)\n",
    "print(dna)"
   ]
  },
  {
   "cell_type": "code",
   "execution_count": 33,
   "id": "da7b7348",
   "metadata": {},
   "outputs": [],
   "source": [
    "poiss = np.random.poisson(5, 100000) # Poisson distribution"
   ]
  },
  {
   "cell_type": "code",
   "execution_count": 34,
   "id": "705c8c8f",
   "metadata": {},
   "outputs": [
    {
     "data": {
      "image/png": "[encoded data removed]",
      "text/plain": [
       "<Figure size 640x480 with 1 Axes>"
      ]
     },
     "metadata": {},
     "output_type": "display_data"
    }
   ],
   "source": [
    "import matplotlib.pyplot as plt   # We can use matplotlib to plot the PDFs\n",
    "\n",
    "count, bins, ignored = plt.hist(poiss, bins=15, density=True) # Plot a histogram\n",
    "plt.show()"
   ]
  },
  {
   "cell_type": "code",
   "execution_count": 35,
   "id": "c254c327",
   "metadata": {},
   "outputs": [
    {
     "data": {
      "image/png": "[encoded data removed]",
      "text/plain": [
       "<Figure size 640x480 with 1 Axes>"
      ]
     },
     "metadata": {},
     "output_type": "display_data"
    }
   ],
   "source": [
    "uni = np.random.uniform(low=-10.0, high=10.0, size=1000) # Uniform distribution\n",
    "\n",
    "count, bins, ignored = plt.hist(uni, bins=5, density=True)\n",
    "plt.show()"
   ]
  },
  {
   "cell_type": "markdown",
   "id": "784944e7",
   "metadata": {},
   "source": [
    "## Random can be made deterministic\n",
    "\n",
    "You can ensure you get the same sequence of random numbers by setting the **seed** first in your code. It will still be a random sequence, but whenever you restart the program it will yield the same random sequence.\n",
    "\n",
    "If you don't specify the seed, then the system chooses a random seed (e.g. the system clock) to give the appearance of a random sequence every time you re-run the program."
   ]
  },
  {
   "cell_type": "code",
   "execution_count": 36,
   "id": "49ebeab7",
   "metadata": {},
   "outputs": [],
   "source": [
    "np.random.seed(seed=816)  # Put me BEFORE any random functions"
   ]
  },
  {
   "cell_type": "markdown",
   "id": "624d4568",
   "metadata": {},
   "source": [
    "## Cool fact\n",
    "\n",
    "Numbers are represented in binary format on a computer (rather than base 10). This works great for whole numbers. However, fractions have a problem. Some fractions can be represented as a power of 2. For example, $ 0.25 = 2^{-2}$ and $0.125 = 2^{-3}$. However, ${0.1, 0.2, 0.3, 0.4}$ can not be represented exactly as a power of 2. Their binary representations are very, very close, but not exact. This is why you sometimes see strange results when adding a number many, many times."
   ]
  },
  {
   "cell_type": "code",
   "execution_count": 37,
   "id": "8e15e414",
   "metadata": {},
   "outputs": [
    {
     "name": "stdout",
     "output_type": "stream",
     "text": [
      "0.1 is really 0.1000000000000000055511151231257827021181583404541015625 \n",
      " on the computer because 1/10 cannot be precisely represented as a power of 2.\n",
      " i.e. There is no integer power of 2 that equals 10.\n",
      "\n",
      "\n",
      "Let's add 0.1 to itself 1000000 times and then divide by 1000000\n",
      "This average should equal 0.100, but instead it is 0.100000000001332883803328854810\n"
     ]
    }
   ],
   "source": [
    "print('0.1 is really 0.1000000000000000055511151231257827021181583404541015625 \\n'\n",
    "      ' on the computer because 1/10 cannot be precisely represented as a power of 2.\\n'\n",
    "      ' i.e. There is no integer power of 2 that equals 10.')\n",
    "\n",
    "point_one = 0.1\n",
    "s = 0.0\n",
    "\n",
    "num_times = 1000000\n",
    "\n",
    "print(f\"\\n\\nLet's add {point_one} to itself {num_times} times and then divide by {num_times}\")\n",
    "for idx in range(num_times):\n",
    "    s += point_one\n",
    "    \n",
    "print(f'This average should equal {point_one:.3f}, but instead it is {(s / num_times):.30f}')"
   ]
  },
  {
   "cell_type": "code",
   "execution_count": null,
   "id": "b0fd8a57",
   "metadata": {},
   "outputs": [],
   "source": []
  }
 ],
 "metadata": {
  "kernelspec": {
   "display_name": "Python 3",
   "language": "python",
   "name": "python3"
  },
  "language_info": {
   "codemirror_mode": {
    "name": "ipython",
    "version": 3
   },
   "file_extension": ".py",
   "mimetype": "text/x-python",
   "name": "python",
   "nbconvert_exporter": "python",
   "pygments_lexer": "ipython3",
   "version": "3.9.6"
  }
 },
 "nbformat": 4,
 "nbformat_minor": 5
}
