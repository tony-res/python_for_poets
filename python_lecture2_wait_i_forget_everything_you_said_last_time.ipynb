{
 "cells": [
  {
   "cell_type": "markdown",
   "id": "b6771d72",
   "metadata": {},
   "source": [
    "# Python tutorial 2\n",
    "\n",
    "Open-source licenses: There are many open source licenses available. Ideally, companies want to use Apache v2, MIT, or BSD licenses. GPL licenses are usually copy-left and may poison any closed sourced code we want to develop. A good explanation of these licenses can be found [here](https://snyk.io/blog/mit-apache-bsd-fairest-of-them-all/).\n",
    "\n",
    "If you need to use a GPL-licensed library, please talk to one of the digital team or your manager."
   ]
  },
  {
   "cell_type": "code",
   "execution_count": 1,
   "id": "7a34edaf",
   "metadata": {},
   "outputs": [
    {
     "name": "stdout",
     "output_type": "stream",
     "text": [
      "Number is 1 to start.\n",
      "<class 'int'>\n"
     ]
    }
   ],
   "source": [
    "a = 1\n",
    "print(f'Number is {a} to start.')\n",
    "print(type(a))"
   ]
  },
  {
   "cell_type": "code",
   "execution_count": 2,
   "id": "ed3ab481",
   "metadata": {},
   "outputs": [
    {
     "name": "stdout",
     "output_type": "stream",
     "text": [
      "Variable a is the same, but it prints out 22.\n",
      "<class 'int'>\n",
      "But a is still 1\n",
      "<class 'int'>\n"
     ]
    }
   ],
   "source": [
    "a = 1\n",
    "print(f'Variable a is the same, but it prints out {a * 22}.')\n",
    "print(type(a))\n",
    "\n",
    "print(f'But a is still {a}')\n",
    "print(type(a))"
   ]
  },
  {
   "cell_type": "code",
   "execution_count": 3,
   "id": "913adf94",
   "metadata": {},
   "outputs": [
    {
     "name": "stdout",
     "output_type": "stream",
     "text": [
      "Now the number is 4\n",
      "<class 'int'>\n"
     ]
    }
   ],
   "source": [
    "a += 3   # equivalent to a = a + 3\n",
    "print(f'Now the number is {a}')\n",
    "print(type(a))"
   ]
  },
  {
   "cell_type": "code",
   "execution_count": 4,
   "id": "aa733302",
   "metadata": {},
   "outputs": [
    {
     "name": "stdout",
     "output_type": "stream",
     "text": [
      "Now the number is -1\n",
      "<class 'int'>\n"
     ]
    }
   ],
   "source": [
    "a -= 5   # equivalent to a = a - 5\n",
    "print(f'Now the number is {a}')\n",
    "print(type(a))"
   ]
  },
  {
   "cell_type": "code",
   "execution_count": 5,
   "id": "e175c2c1",
   "metadata": {},
   "outputs": [
    {
     "name": "stdout",
     "output_type": "stream",
     "text": [
      "Now the number is -5\n",
      "<class 'int'>\n"
     ]
    }
   ],
   "source": [
    "a *= 5   # equivalent to a = a * 5\n",
    "print(f'Now the number is {a}')\n",
    "print(type(a))"
   ]
  },
  {
   "cell_type": "code",
   "execution_count": 6,
   "id": "f6408010",
   "metadata": {},
   "outputs": [
    {
     "name": "stdout",
     "output_type": "stream",
     "text": [
      "Now the number is 25\n",
      "<class 'int'>\n"
     ]
    }
   ],
   "source": [
    "a **= 2   # a to the power of 2\n",
    "print(f'Now the number is {a}')\n",
    "print(type(a))"
   ]
  },
  {
   "cell_type": "code",
   "execution_count": 7,
   "id": "e0d649f9",
   "metadata": {},
   "outputs": [
    {
     "name": "stdout",
     "output_type": "stream",
     "text": [
      "Zero padded SEQ00025 is good for filenames and labels.\n"
     ]
    }
   ],
   "source": [
    "print(f'Zero padded SEQ{a:05d} is good for filenames and labels.')"
   ]
  },
  {
   "cell_type": "markdown",
   "id": "c517f321",
   "metadata": {},
   "source": [
    "## Floats\n",
    "\n",
    "If we divide 25 by 2, then we move to a float (has a decimal)"
   ]
  },
  {
   "cell_type": "code",
   "execution_count": 8,
   "id": "d336e130",
   "metadata": {},
   "outputs": [
    {
     "name": "stdout",
     "output_type": "stream",
     "text": [
      "Now the number is 12.5\n",
      "<class 'float'>\n"
     ]
    }
   ],
   "source": [
    "a /= 2\n",
    "print(f'Now the number is {a}')\n",
    "print(type(a))"
   ]
  },
  {
   "cell_type": "code",
   "execution_count": 9,
   "id": "3b9bf7cc",
   "metadata": {},
   "outputs": [
    {
     "name": "stdout",
     "output_type": "stream",
     "text": [
      "Now the number is 12.50000\n"
     ]
    }
   ],
   "source": [
    "print(f'Now the number is {a:.5f}')   # :.5f == We always want 5 decimal places"
   ]
  },
  {
   "cell_type": "code",
   "execution_count": 10,
   "id": "c08f8e57",
   "metadata": {},
   "outputs": [
    {
     "name": "stdout",
     "output_type": "stream",
     "text": [
      "Now the number is 12,500,000.00\n"
     ]
    }
   ],
   "source": [
    "print(f'Now the number is {(a*1e6):,.2f}')  # Note the comma , to signify we want a comma separator if the number if big"
   ]
  },
  {
   "cell_type": "markdown",
   "id": "6caa36e3",
   "metadata": {},
   "source": [
    "## What if we don't want the float\n",
    "\n",
    "Then use the divisor \\\\\\ operator"
   ]
  },
  {
   "cell_type": "code",
   "execution_count": 11,
   "id": "26c66554",
   "metadata": {},
   "outputs": [
    {
     "name": "stdout",
     "output_type": "stream",
     "text": [
      "Now b is 12\n",
      "<class 'int'>\n"
     ]
    }
   ],
   "source": [
    "b = 25\n",
    "b = b // 2   # Divisor operator just takes the whole number (gets rid of remainder)\n",
    "print(f'Now b is {b}')\n",
    "print(type(b))"
   ]
  },
  {
   "cell_type": "markdown",
   "id": "7f70a560",
   "metadata": {},
   "source": [
    "## Lists and ranges"
   ]
  },
  {
   "cell_type": "code",
   "execution_count": 12,
   "id": "bf5e89c6",
   "metadata": {},
   "outputs": [
    {
     "name": "stdout",
     "output_type": "stream",
     "text": [
      "A\n",
      "C\n",
      "T\n",
      "G\n"
     ]
    }
   ],
   "source": [
    "l = ['A', 'C', 'T', 'G']\n",
    "for nucleotide in l:\n",
    "    print(nucleotide)"
   ]
  },
  {
   "cell_type": "code",
   "execution_count": 13,
   "id": "1477e309",
   "metadata": {},
   "outputs": [
    {
     "name": "stdout",
     "output_type": "stream",
     "text": [
      "10\n"
     ]
    },
    {
     "data": {
      "text/plain": [
       "'LEC'"
      ]
     },
     "execution_count": 13,
     "metadata": {},
     "output_type": "execute_result"
    }
   ],
   "source": [
    "m = 'RESILIENCE'\n",
    "print(len(m))\n",
    "m[4:10:2]"
   ]
  },
  {
   "cell_type": "code",
   "execution_count": 14,
   "id": "76b5598a",
   "metadata": {},
   "outputs": [
    {
     "name": "stdout",
     "output_type": "stream",
     "text": [
      "N\n"
     ]
    }
   ],
   "source": [
    "print(m[-3])"
   ]
  },
  {
   "cell_type": "markdown",
   "id": "f55c82ff",
   "metadata": {},
   "source": [
    "## Check for the presence of an item in a list"
   ]
  },
  {
   "cell_type": "code",
   "execution_count": 15,
   "id": "e9ee8e37",
   "metadata": {},
   "outputs": [
    {
     "data": {
      "text/plain": [
       "False"
      ]
     },
     "execution_count": 15,
     "metadata": {},
     "output_type": "execute_result"
    }
   ],
   "source": [
    "'R' in l"
   ]
  },
  {
   "cell_type": "code",
   "execution_count": 16,
   "id": "49df69b7",
   "metadata": {},
   "outputs": [
    {
     "data": {
      "text/plain": [
       "True"
      ]
     },
     "execution_count": 16,
     "metadata": {},
     "output_type": "execute_result"
    }
   ],
   "source": [
    "'A' in l"
   ]
  },
  {
   "cell_type": "markdown",
   "id": "a63bcf18",
   "metadata": {},
   "source": [
    "## Add to a list with a for/range loop"
   ]
  },
  {
   "cell_type": "code",
   "execution_count": 17,
   "id": "3b433189",
   "metadata": {},
   "outputs": [
    {
     "name": "stdout",
     "output_type": "stream",
     "text": [
      "[0, 1, 2, 3, 4, 5, 6, 7, 8, 9, 10, 11, 12]\n"
     ]
    }
   ],
   "source": [
    "l = []\n",
    "\n",
    "for i in range(13):\n",
    "    l.append(i)\n",
    "    \n",
    "print(l)"
   ]
  },
  {
   "cell_type": "code",
   "execution_count": 18,
   "id": "14df6d59",
   "metadata": {},
   "outputs": [
    {
     "name": "stdout",
     "output_type": "stream",
     "text": [
      "[3, 6, 9, 12, 15, 18, 21, 24, 27, 30, 33, 36, 39, 42, 45, 48, 51, 54]\n"
     ]
    }
   ],
   "source": [
    "l = []\n",
    "\n",
    "for i in range(3,55,3):\n",
    "    l.append(i)\n",
    "    \n",
    "print(l)"
   ]
  },
  {
   "cell_type": "code",
   "execution_count": 19,
   "id": "b6f4ce4e",
   "metadata": {},
   "outputs": [
    {
     "name": "stdout",
     "output_type": "stream",
     "text": [
      "23 mod 10 = 3\n",
      "23 mod 6 = 5\n"
     ]
    }
   ],
   "source": [
    "print(f'23 mod 10 = {23 % 10}')\n",
    "print(f'23 mod 6 = {23 % 6}')"
   ]
  },
  {
   "cell_type": "markdown",
   "id": "637740cf",
   "metadata": {},
   "source": [
    "## Mods are often used to create numbers that loop\n",
    "\n",
    "Useful in encryption (e.g. RSA)\n",
    "\n",
    "\n",
    "Encoding: $N = pq$, m = message,      $M = m \\mod N$ = Encrypted message\n",
    "\n",
    "Decoding: $d = e^{−1} \\mod (p − 1)(q − 1)$ ,   $m = M^{d} \\mod N$\n"
   ]
  },
  {
   "cell_type": "code",
   "execution_count": 20,
   "id": "c9abbf2d",
   "metadata": {},
   "outputs": [
    {
     "name": "stdout",
     "output_type": "stream",
     "text": [
      "0, 1, 2, 3, 4, 5, 6, 0, 1, 2, 3, 4, 5, 6, 0, 1, 2, 3, 4, 5, 6, 0, 1, 2, 3, 4, 5, 6, 0, 1, "
     ]
    }
   ],
   "source": [
    "for i in range(30):\n",
    "    print(f'{i % 7}', end=', ')"
   ]
  },
  {
   "cell_type": "markdown",
   "id": "ab9e3a6d",
   "metadata": {},
   "source": [
    "## While loops"
   ]
  },
  {
   "cell_type": "code",
   "execution_count": 21,
   "id": "2aec3f27",
   "metadata": {},
   "outputs": [
    {
     "name": "stdout",
     "output_type": "stream",
     "text": [
      "-2\n",
      "2\n",
      "6\n",
      "10\n",
      "14\n"
     ]
    }
   ],
   "source": [
    "i = -2\n",
    "while i < 17:\n",
    "    print(i)\n",
    "    i += 4"
   ]
  },
  {
   "cell_type": "code",
   "execution_count": 22,
   "id": "1dc83f77",
   "metadata": {},
   "outputs": [
    {
     "name": "stdout",
     "output_type": "stream",
     "text": [
      "7\n",
      "4\n",
      "1\n",
      "-2\n"
     ]
    }
   ],
   "source": [
    "i = 10\n",
    "while True:\n",
    "    i -= 3\n",
    "    print(i)\n",
    "    \n",
    "    if i <= 0:  # Note it will print and then break \n",
    "        break"
   ]
  },
  {
   "cell_type": "markdown",
   "id": "63a42571",
   "metadata": {},
   "source": [
    "## Collections library\n",
    "\n",
    "Collections is a standard python library (nothing to install!) for handling dictionaries. It's really great for sequences."
   ]
  },
  {
   "cell_type": "code",
   "execution_count": 23,
   "id": "ad94c759",
   "metadata": {},
   "outputs": [],
   "source": [
    "from collections import Counter"
   ]
  },
  {
   "cell_type": "code",
   "execution_count": 24,
   "id": "6c568fcc",
   "metadata": {},
   "outputs": [],
   "source": [
    "dna1 = ['G', 'C', 'A','T', 'T', 'G', 'C', 'A', 'C', 'A', 'G', 'G', 'G', 'A']"
   ]
  },
  {
   "cell_type": "code",
   "execution_count": 25,
   "id": "0cccebc3",
   "metadata": {},
   "outputs": [
    {
     "name": "stdout",
     "output_type": "stream",
     "text": [
      "['G', 'C', 'A', 'T', 'T', 'G', 'C', 'A', 'C', 'A', 'G', 'G', 'G', 'A']\n"
     ]
    }
   ],
   "source": [
    "print(f'{dna1}')"
   ]
  },
  {
   "cell_type": "code",
   "execution_count": 26,
   "id": "e8e968ee",
   "metadata": {},
   "outputs": [
    {
     "name": "stdout",
     "output_type": "stream",
     "text": [
      "GCATTGCACAGGGA\n"
     ]
    }
   ],
   "source": [
    "dna2 = 'GCATTGCACAGGGA'\n",
    "print(f'{dna2}')"
   ]
  },
  {
   "cell_type": "code",
   "execution_count": 27,
   "id": "e5e514f8",
   "metadata": {},
   "outputs": [
    {
     "name": "stdout",
     "output_type": "stream",
     "text": [
      "Counter({'G': 5, 'A': 4, 'C': 3, 'T': 2})\n"
     ]
    }
   ],
   "source": [
    "nucleotide_counts1 = Counter(dna1)\n",
    "print(nucleotide_counts1)"
   ]
  },
  {
   "cell_type": "code",
   "execution_count": 28,
   "id": "c8564da9",
   "metadata": {},
   "outputs": [
    {
     "name": "stdout",
     "output_type": "stream",
     "text": [
      "Counter({'G': 5, 'A': 4, 'C': 3, 'T': 2})\n"
     ]
    }
   ],
   "source": [
    "nucleotide_counts2 = Counter(dna2)\n",
    "print(nucleotide_counts2)"
   ]
  },
  {
   "cell_type": "code",
   "execution_count": 29,
   "id": "ad332b0e",
   "metadata": {},
   "outputs": [],
   "source": [
    "def translate(sequence):\n",
    "    \"\"\"Converts a nucleotide sequence into the corresponding protein sequence.\n",
    "    \n",
    "    Example:\n",
    "        >> protein_seq = translate('CGTGAGAGCATCCTAATTGAAAATTGTGAG')\n",
    "        >> print(protein_seq)\n",
    "        \n",
    "        >> RESILIENCE\n",
    "\n",
    "    Attributes:\n",
    "        sequence (str): DNA nucleotide sequence to translate into protein sequence\n",
    "\n",
    "    Returns:\n",
    "        protein           (str) : Protein sequence\n",
    "        nucleotide_counts (dict): Dictionary of nucleotide counts\n",
    "        \n",
    "    Todo:\n",
    "        * Need to make this easier to read.\n",
    "        * Need to make sure input sequence only contains 'A', 'C', 'T', 'G'\n",
    "   \n",
    "    \"\"\"\n",
    "    \n",
    "    assert isinstance(sequence, str), 'Error in input sequence. Nucleotide must be a string.'\n",
    "    \n",
    "    # TODO: Check that the sequence only contains 'ACTG'\n",
    "    \n",
    "    # FIXME: Tony needs to check and correct this section\n",
    "       \n",
    "    nirenberg_code = {\n",
    "        'ATA':'I', 'ATC':'I', 'ATT':'I', 'ATG':'M',\n",
    "        'ACA':'T', 'ACC':'T', 'ACG':'T', 'ACT':'T',\n",
    "        'AAC':'N', 'AAT':'N', 'AAA':'K', 'AAG':'K',\n",
    "        'AGC':'S', 'AGT':'S', 'AGA':'R', 'AGG':'R',                 \n",
    "        'CTA':'L', 'CTC':'L', 'CTG':'L', 'CTT':'L',\n",
    "        'CCA':'P', 'CCC':'P', 'CCG':'P', 'CCT':'P',\n",
    "        'CAC':'H', 'CAT':'H', 'CAA':'Q', 'CAG':'Q',\n",
    "        'CGA':'R', 'CGC':'R', 'CGG':'R', 'CGT':'R',\n",
    "        'GTA':'V', 'GTC':'V', 'GTG':'V', 'GTT':'V',\n",
    "        'GCA':'A', 'GCC':'A', 'GCG':'A', 'GCT':'A',\n",
    "        'GAC':'D', 'GAT':'D', 'GAA':'E', 'GAG':'E',\n",
    "        'GGA':'G', 'GGC':'G', 'GGG':'G', 'GGT':'G',\n",
    "        'TCA':'S', 'TCC':'S', 'TCG':'S', 'TCT':'S',\n",
    "        'TTC':'F', 'TTT':'F', 'TTA':'L', 'TTG':'L',\n",
    "        'TAC':'Y', 'TAT':'Y', 'TAA':'_', 'TAG':'_',\n",
    "        'TGC':'C', 'TGT':'C', 'TGA':'_', 'TGG':'W',\n",
    "    }\n",
    "    \n",
    "    protein = \"\"\n",
    "    \n",
    "    if (len(sequence) % 3) == 0:\n",
    "        for i in range(0, len(sequence), 3):\n",
    "            \n",
    "            codon = sequence[i:(i + 3)]\n",
    "            protein += nirenberg_code[codon]\n",
    "            \n",
    "    nucleotide_counts = Counter(sequence)\n",
    "            \n",
    "    return protein, nucleotide_counts"
   ]
  },
  {
   "cell_type": "code",
   "execution_count": 30,
   "id": "414e86eb",
   "metadata": {},
   "outputs": [
    {
     "name": "stdout",
     "output_type": "stream",
     "text": [
      "RESILIENCE\n",
      "Counter({'A': 10, 'G': 8, 'T': 8, 'C': 4})\n",
      "There were 10 A's and 4 C's\n"
     ]
    }
   ],
   "source": [
    "protein_seq, nucleotide_counts = translate('CGTGAGAGCATCCTAATTGAAAATTGTGAG')\n",
    "print(protein_seq)\n",
    "print(nucleotide_counts)\n",
    "\n",
    "print(f\"There were {nucleotide_counts['A']} A's and {nucleotide_counts['C']} C's\")"
   ]
  },
  {
   "cell_type": "code",
   "execution_count": null,
   "id": "b0fd8a57",
   "metadata": {},
   "outputs": [],
   "source": []
  }
 ],
 "metadata": {
  "kernelspec": {
   "display_name": "Python 3",
   "language": "python",
   "name": "python3"
  },
  "language_info": {
   "codemirror_mode": {
    "name": "ipython",
    "version": 3
   },
   "file_extension": ".py",
   "mimetype": "text/x-python",
   "name": "python",
   "nbconvert_exporter": "python",
   "pygments_lexer": "ipython3",
   "version": "3.9.6"
  }
 },
 "nbformat": 4,
 "nbformat_minor": 5
}
