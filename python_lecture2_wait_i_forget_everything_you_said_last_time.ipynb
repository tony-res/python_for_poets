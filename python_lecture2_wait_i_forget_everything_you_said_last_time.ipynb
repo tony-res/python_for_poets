{
 "cells": [
  {
   "cell_type": "markdown",
   "id": "b6771d72",
   "metadata": {},
   "source": [
    "# Python tutorial 2\n",
    "\n",
    "Open-source licenses: There are many open source licenses available. Ideally, companies want to use Apache v2, MIT, or BSD licenses. GPL licenses are usually copy-left and may poison any closed sourced code we want to develop. A good explanation of these licenses can be found [here](https://snyk.io/blog/mit-apache-bsd-fairest-of-them-all/).\n",
    "\n",
    "If you need to use a GPL-licensed library, please talk to one of the digital team or your manager."
   ]
  },
  {
   "cell_type": "code",
   "execution_count": 1,
   "id": "7a34edaf",
   "metadata": {},
   "outputs": [
    {
     "name": "stdout",
     "output_type": "stream",
     "text": [
      "Number is 1 to start.\n",
      "<class 'int'>\n"
     ]
    }
   ],
   "source": [
    "a = 1\n",
    "print(f'Number is {a} to start.')\n",
    "print(type(a))"
   ]
  },
  {
   "cell_type": "code",
   "execution_count": 2,
   "id": "ed3ab481",
   "metadata": {},
   "outputs": [
    {
     "name": "stdout",
     "output_type": "stream",
     "text": [
      "Variable a is the same, but it prints out 22.\n",
      "<class 'int'>\n",
      "But a is still 1\n",
      "<class 'int'>\n"
     ]
    }
   ],
   "source": [
    "a = 1\n",
    "print(f'Variable a is the same, but it prints out {a * 22}.')\n",
    "print(type(a))\n",
    "\n",
    "print(f'But a is still {a}')\n",
    "print(type(a))"
   ]
  },
  {
   "cell_type": "code",
   "execution_count": 3,
   "id": "913adf94",
   "metadata": {},
   "outputs": [
    {
     "name": "stdout",
     "output_type": "stream",
     "text": [
      "Now the number is 4\n",
      "<class 'int'>\n"
     ]
    }
   ],
   "source": [
    "a += 3   # equivalent to a = a + 3\n",
    "print(f'Now the number is {a}')\n",
    "print(type(a))"
   ]
  },
  {
   "cell_type": "code",
   "execution_count": 4,
   "id": "aa733302",
   "metadata": {},
   "outputs": [
    {
     "name": "stdout",
     "output_type": "stream",
     "text": [
      "Now the number is -1\n",
      "<class 'int'>\n"
     ]
    }
   ],
   "source": [
    "a -= 5   # equivalent to a = a - 5\n",
    "print(f'Now the number is {a}')\n",
    "print(type(a))"
   ]
  },
  {
   "cell_type": "code",
   "execution_count": 5,
   "id": "e175c2c1",
   "metadata": {},
   "outputs": [
    {
     "name": "stdout",
     "output_type": "stream",
     "text": [
      "Now the number is -5\n",
      "<class 'int'>\n"
     ]
    }
   ],
   "source": [
    "a *= 5   # equivalent to a = a * 5\n",
    "print(f'Now the number is {a}')\n",
    "print(type(a))"
   ]
  },
  {
   "cell_type": "code",
   "execution_count": 6,
   "id": "f6408010",
   "metadata": {},
   "outputs": [
    {
     "name": "stdout",
     "output_type": "stream",
     "text": [
      "Now the number is 25\n",
      "<class 'int'>\n"
     ]
    }
   ],
   "source": [
    "a **= 2   # a to the power of 2\n",
    "print(f'Now the number is {a}')\n",
    "print(type(a))"
   ]
  },
  {
   "cell_type": "code",
   "execution_count": 7,
   "id": "e0d649f9",
   "metadata": {},
   "outputs": [
    {
     "name": "stdout",
     "output_type": "stream",
     "text": [
      "Zero padded SEQ00025 is good for filenames and labels.\n"
     ]
    }
   ],
   "source": [
    "print(f'Zero padded SEQ{a:05d} is good for filenames and labels.')"
   ]
  },
  {
   "cell_type": "markdown",
   "id": "c517f321",
   "metadata": {},
   "source": [
    "## Floats\n",
    "\n",
    "If we divide 25 by 2, then we move to a float (has a decimal)"
   ]
  },
  {
   "cell_type": "code",
   "execution_count": 8,
   "id": "d336e130",
   "metadata": {},
   "outputs": [
    {
     "name": "stdout",
     "output_type": "stream",
     "text": [
      "Now the number is 12.5\n",
      "<class 'float'>\n"
     ]
    }
   ],
   "source": [
    "a /= 2\n",
    "print(f'Now the number is {a}')\n",
    "print(type(a))"
   ]
  },
  {
   "cell_type": "code",
   "execution_count": 9,
   "id": "3b9bf7cc",
   "metadata": {},
   "outputs": [
    {
     "name": "stdout",
     "output_type": "stream",
     "text": [
      "Now the number is 12.50000\n"
     ]
    }
   ],
   "source": [
    "print(f'Now the number is {a:.5f}')   # :.5f == We always want 5 decimal places"
   ]
  },
  {
   "cell_type": "code",
   "execution_count": 32,
   "id": "c08f8e57",
   "metadata": {},
   "outputs": [
    {
     "name": "stdout",
     "output_type": "stream",
     "text": [
      "Now the number is 12,500,000.00\n"
     ]
    }
   ],
   "source": [
    "print(f'Now the number is {(a*1e6):,.2f}')  # Note the comma , to signify we want a comma separator if the number if big"
   ]
  },
  {
   "cell_type": "markdown",
   "id": "6caa36e3",
   "metadata": {},
   "source": [
    "## What if we don't want the float\n",
    "\n",
    "Then use the divisor \\\\\\ operator"
   ]
  },
  {
   "cell_type": "code",
   "execution_count": 11,
   "id": "26c66554",
   "metadata": {},
   "outputs": [
    {
     "name": "stdout",
     "output_type": "stream",
     "text": [
      "Now b is 12\n",
      "<class 'int'>\n"
     ]
    }
   ],
   "source": [
    "b = 25\n",
    "b = b // 2   # Divisor operator just takes the whole number (gets rid of remainder)\n",
    "print(f'Now b is {b}')\n",
    "print(type(b))"
   ]
  },
  {
   "cell_type": "markdown",
   "id": "7f70a560",
   "metadata": {},
   "source": [
    "## Lists and ranges"
   ]
  },
  {
   "cell_type": "code",
   "execution_count": 12,
   "id": "bf5e89c6",
   "metadata": {},
   "outputs": [
    {
     "name": "stdout",
     "output_type": "stream",
     "text": [
      "A\n",
      "C\n",
      "T\n",
      "G\n"
     ]
    }
   ],
   "source": [
    "l = ['A', 'C', 'T', 'G']\n",
    "for nucleotide in l:\n",
    "    print(nucleotide)"
   ]
  },
  {
   "cell_type": "code",
   "execution_count": 13,
   "id": "1477e309",
   "metadata": {},
   "outputs": [
    {
     "name": "stdout",
     "output_type": "stream",
     "text": [
      "10\n"
     ]
    },
    {
     "data": {
      "text/plain": [
       "'LEC'"
      ]
     },
     "execution_count": 13,
     "metadata": {},
     "output_type": "execute_result"
    }
   ],
   "source": [
    "m = 'RESILIENCE'\n",
    "print(len(m))\n",
    "m[4:10:2]"
   ]
  },
  {
   "cell_type": "code",
   "execution_count": 14,
   "id": "76b5598a",
   "metadata": {},
   "outputs": [
    {
     "name": "stdout",
     "output_type": "stream",
     "text": [
      "N\n"
     ]
    }
   ],
   "source": [
    "print(m[-3])"
   ]
  },
  {
   "cell_type": "markdown",
   "id": "f55c82ff",
   "metadata": {},
   "source": [
    "## Check for the presence of an item in a list"
   ]
  },
  {
   "cell_type": "code",
   "execution_count": 15,
   "id": "e9ee8e37",
   "metadata": {},
   "outputs": [
    {
     "data": {
      "text/plain": [
       "False"
      ]
     },
     "execution_count": 15,
     "metadata": {},
     "output_type": "execute_result"
    }
   ],
   "source": [
    "'R' in l"
   ]
  },
  {
   "cell_type": "code",
   "execution_count": 16,
   "id": "49df69b7",
   "metadata": {},
   "outputs": [
    {
     "data": {
      "text/plain": [
       "True"
      ]
     },
     "execution_count": 16,
     "metadata": {},
     "output_type": "execute_result"
    }
   ],
   "source": [
    "'A' in l"
   ]
  },
  {
   "cell_type": "markdown",
   "id": "a63bcf18",
   "metadata": {},
   "source": [
    "## Add to a list with a for/range loop"
   ]
  },
  {
   "cell_type": "code",
   "execution_count": 17,
   "id": "3b433189",
   "metadata": {},
   "outputs": [
    {
     "name": "stdout",
     "output_type": "stream",
     "text": [
      "[0, 1, 2, 3, 4, 5, 6, 7, 8, 9, 10, 11, 12]\n"
     ]
    }
   ],
   "source": [
    "l = []\n",
    "\n",
    "for i in range(13):\n",
    "    l.append(i)\n",
    "    \n",
    "print(l)"
   ]
  },
  {
   "cell_type": "code",
   "execution_count": 18,
   "id": "14df6d59",
   "metadata": {},
   "outputs": [
    {
     "name": "stdout",
     "output_type": "stream",
     "text": [
      "[3, 6, 9, 12, 15, 18, 21, 24, 27, 30, 33, 36, 39, 42, 45, 48, 51, 54]\n"
     ]
    }
   ],
   "source": [
    "l = []\n",
    "\n",
    "for i in range(3,55,3):\n",
    "    l.append(i)\n",
    "    \n",
    "print(l)"
   ]
  },
  {
   "cell_type": "code",
   "execution_count": 19,
   "id": "b6f4ce4e",
   "metadata": {},
   "outputs": [
    {
     "name": "stdout",
     "output_type": "stream",
     "text": [
      "23 mod 10 = 3\n",
      "23 mod 6 = 5\n"
     ]
    }
   ],
   "source": [
    "print(f'23 mod 10 = {23 % 10}')\n",
    "print(f'23 mod 6 = {23 % 6}')"
   ]
  },
  {
   "cell_type": "markdown",
   "id": "637740cf",
   "metadata": {},
   "source": [
    "## Mods are often used to create numbers that loop\n",
    "\n",
    "Useful in encryption (e.g. RSA)\n",
    "\n",
    "\n",
    "Encoding: $N = pq$, m = message,      $M = m \\mod N$ = Encrypted message\n",
    "\n",
    "Decoding: $d = e^{−1} \\mod (p − 1)(q − 1)$ ,   $m = M^{d} \\mod N$\n"
   ]
  },
  {
   "cell_type": "code",
   "execution_count": 20,
   "id": "c9abbf2d",
   "metadata": {},
   "outputs": [
    {
     "name": "stdout",
     "output_type": "stream",
     "text": [
      "0, 1, 2, 3, 4, 5, 6, 0, 1, 2, 3, 4, 5, 6, 0, 1, 2, 3, 4, 5, 6, 0, 1, 2, 3, 4, 5, 6, 0, 1, "
     ]
    }
   ],
   "source": [
    "for i in range(30):\n",
    "    print(f'{i % 7}', end=', ')"
   ]
  },
  {
   "cell_type": "markdown",
   "id": "ab9e3a6d",
   "metadata": {},
   "source": [
    "## While loops"
   ]
  },
  {
   "cell_type": "code",
   "execution_count": 21,
   "id": "2aec3f27",
   "metadata": {},
   "outputs": [
    {
     "name": "stdout",
     "output_type": "stream",
     "text": [
      "-2\n",
      "2\n",
      "6\n",
      "10\n",
      "14\n"
     ]
    }
   ],
   "source": [
    "i = -2\n",
    "while i < 17:\n",
    "    print(i)\n",
    "    i += 4"
   ]
  },
  {
   "cell_type": "code",
   "execution_count": 22,
   "id": "1dc83f77",
   "metadata": {},
   "outputs": [
    {
     "name": "stdout",
     "output_type": "stream",
     "text": [
      "7\n",
      "4\n",
      "1\n",
      "-2\n"
     ]
    }
   ],
   "source": [
    "i = 10\n",
    "while True:\n",
    "    i -= 3\n",
    "    print(i)\n",
    "    \n",
    "    if i <= 0:  # Note it will print and then break \n",
    "        break"
   ]
  },
  {
   "cell_type": "markdown",
   "id": "63a42571",
   "metadata": {},
   "source": [
    "## Collections library\n",
    "\n",
    "Collections is a standard python library (nothing to install!) for handling dictionaries. It's really great for sequences."
   ]
  },
  {
   "cell_type": "code",
   "execution_count": 23,
   "id": "ad94c759",
   "metadata": {},
   "outputs": [],
   "source": [
    "from collections import Counter"
   ]
  },
  {
   "cell_type": "code",
   "execution_count": 24,
   "id": "6c568fcc",
   "metadata": {},
   "outputs": [],
   "source": [
    "dna1 = ['G', 'C', 'A','T', 'T', 'G', 'C', 'A', 'C', 'A', 'G', 'G', 'G', 'A']"
   ]
  },
  {
   "cell_type": "code",
   "execution_count": 25,
   "id": "0cccebc3",
   "metadata": {},
   "outputs": [
    {
     "name": "stdout",
     "output_type": "stream",
     "text": [
      "['G', 'C', 'A', 'T', 'T', 'G', 'C', 'A', 'C', 'A', 'G', 'G', 'G', 'A']\n"
     ]
    }
   ],
   "source": [
    "print(f'{dna1}')"
   ]
  },
  {
   "cell_type": "code",
   "execution_count": 26,
   "id": "e8e968ee",
   "metadata": {},
   "outputs": [
    {
     "name": "stdout",
     "output_type": "stream",
     "text": [
      "GCATTGCACAGGGA\n"
     ]
    }
   ],
   "source": [
    "dna2 = 'GCATTGCACAGGGA'\n",
    "print(f'{dna2}')"
   ]
  },
  {
   "cell_type": "code",
   "execution_count": 27,
   "id": "e5e514f8",
   "metadata": {},
   "outputs": [
    {
     "name": "stdout",
     "output_type": "stream",
     "text": [
      "Counter({'G': 5, 'A': 4, 'C': 3, 'T': 2})\n"
     ]
    }
   ],
   "source": [
    "nucleotide_counts1 = Counter(dna1)\n",
    "print(nucleotide_counts1)"
   ]
  },
  {
   "cell_type": "code",
   "execution_count": 28,
   "id": "c8564da9",
   "metadata": {},
   "outputs": [
    {
     "name": "stdout",
     "output_type": "stream",
     "text": [
      "Counter({'G': 5, 'A': 4, 'C': 3, 'T': 2})\n"
     ]
    }
   ],
   "source": [
    "nucleotide_counts2 = Counter(dna2)\n",
    "print(nucleotide_counts2)"
   ]
  },
  {
   "attachments": {
    "image.png": {
     "image/png": "[encoded data removed]"
    }
   },
   "cell_type": "markdown",
   "id": "3e1b0412",
   "metadata": {},
   "source": [
    "![image.png](attachment:image.png)"
   ]
  },
  {
   "cell_type": "code",
   "execution_count": 29,
   "id": "ad332b0e",
   "metadata": {},
   "outputs": [],
   "source": [
    "def translate(sequence):\n",
    "    \"\"\"Converts a nucleotide sequence into the corresponding protein sequence.\n",
    "    \n",
    "    Example:\n",
    "        >> protein_seq = translate('CGTGAGAGCATCCTAATTGAAAATTGTGAG')\n",
    "        >> print(protein_seq)\n",
    "        \n",
    "        >> RESILIENCE\n",
    "\n",
    "    Attributes:\n",
    "        sequence (str): DNA nucleotide sequence to translate into protein sequence\n",
    "\n",
    "    Returns:\n",
    "        protein           (str) : Protein sequence\n",
    "        nucleotide_counts (dict): Dictionary of nucleotide counts\n",
    "        \n",
    "    Todo:\n",
    "        * Need to make this easier to read.\n",
    "        * Need to make sure input sequence only contains 'A', 'C', 'T', 'G'\n",
    "   \n",
    "    \"\"\"\n",
    "    \n",
    "    assert isinstance(sequence, str), 'Error in input sequence. Nucleotide must be a string.'\n",
    "    \n",
    "    # TODO: Check that the sequence only contains 'ACTG'\n",
    "    \n",
    "    # FIXME: Tony needs to check and correct this section\n",
    "       \n",
    "    nirenberg_code = {\n",
    "        'ATA':'I', 'ATC':'I', 'ATT':'I', 'ATG':'M',\n",
    "        'ACA':'T', 'ACC':'T', 'ACG':'T', 'ACT':'T',\n",
    "        'AAC':'N', 'AAT':'N', 'AAA':'K', 'AAG':'K',\n",
    "        'AGC':'S', 'AGT':'S', 'AGA':'R', 'AGG':'R',                 \n",
    "        'CTA':'L', 'CTC':'L', 'CTG':'L', 'CTT':'L',\n",
    "        'CCA':'P', 'CCC':'P', 'CCG':'P', 'CCT':'P',\n",
    "        'CAC':'H', 'CAT':'H', 'CAA':'Q', 'CAG':'Q',\n",
    "        'CGA':'R', 'CGC':'R', 'CGG':'R', 'CGT':'R',\n",
    "        'GTA':'V', 'GTC':'V', 'GTG':'V', 'GTT':'V',\n",
    "        'GCA':'A', 'GCC':'A', 'GCG':'A', 'GCT':'A',\n",
    "        'GAC':'D', 'GAT':'D', 'GAA':'E', 'GAG':'E',\n",
    "        'GGA':'G', 'GGC':'G', 'GGG':'G', 'GGT':'G',\n",
    "        'TCA':'S', 'TCC':'S', 'TCG':'S', 'TCT':'S',\n",
    "        'TTC':'F', 'TTT':'F', 'TTA':'L', 'TTG':'L',\n",
    "        'TAC':'Y', 'TAT':'Y', 'TAA':'_', 'TAG':'_',\n",
    "        'TGC':'C', 'TGT':'C', 'TGA':'_', 'TGG':'W',\n",
    "    }\n",
    "    \n",
    "    protein = \"\"\n",
    "    \n",
    "    if (len(sequence) % 3) == 0:\n",
    "        for i in range(0, len(sequence), 3):\n",
    "            \n",
    "            codon = sequence[i:(i + 3)]\n",
    "            protein += nirenberg_code[codon]\n",
    "            \n",
    "    nucleotide_counts = Counter(sequence)\n",
    "            \n",
    "    return protein, nucleotide_counts"
   ]
  },
  {
   "cell_type": "code",
   "execution_count": 30,
   "id": "414e86eb",
   "metadata": {},
   "outputs": [
    {
     "name": "stdout",
     "output_type": "stream",
     "text": [
      "RESILIENCE\n",
      "Counter({'A': 10, 'G': 8, 'T': 8, 'C': 4})\n",
      "There were 10 A's and 4 C's\n"
     ]
    }
   ],
   "source": [
    "protein_seq, nucleotide_counts = translate('CGTGAGAGCATCCTAATTGAAAATTGTGAG')\n",
    "print(protein_seq)\n",
    "print(nucleotide_counts)\n",
    "\n",
    "print(f\"There were {nucleotide_counts['A']} A's and {nucleotide_counts['C']} C's\")"
   ]
  },
  {
   "cell_type": "code",
   "execution_count": 31,
   "id": "b5b680e1",
   "metadata": {},
   "outputs": [
    {
     "ename": "AssertionError",
     "evalue": "Error in input sequence. Nucleotide must be a string.",
     "output_type": "error",
     "traceback": [
      "\u001b[0;31m---------------------------------------------------------------------------\u001b[0m",
      "\u001b[0;31mAssertionError\u001b[0m                            Traceback (most recent call last)",
      "\u001b[0;32m<ipython-input-31-ee65abfa123c>\u001b[0m in \u001b[0;36m<module>\u001b[0;34m\u001b[0m\n\u001b[0;32m----> 1\u001b[0;31m \u001b[0mprotein_seq\u001b[0m\u001b[0;34m,\u001b[0m \u001b[0mnucleotide_counts\u001b[0m \u001b[0;34m=\u001b[0m \u001b[0mtranslate\u001b[0m\u001b[0;34m(\u001b[0m\u001b[0;36m22\u001b[0m\u001b[0;34m)\u001b[0m\u001b[0;34m\u001b[0m\u001b[0;34m\u001b[0m\u001b[0m\n\u001b[0m",
      "\u001b[0;32m<ipython-input-29-cfb6d3bd6128>\u001b[0m in \u001b[0;36mtranslate\u001b[0;34m(sequence)\u001b[0m\n\u001b[1;32m     21\u001b[0m     \"\"\"\n\u001b[1;32m     22\u001b[0m \u001b[0;34m\u001b[0m\u001b[0m\n\u001b[0;32m---> 23\u001b[0;31m     \u001b[0;32massert\u001b[0m \u001b[0misinstance\u001b[0m\u001b[0;34m(\u001b[0m\u001b[0msequence\u001b[0m\u001b[0;34m,\u001b[0m \u001b[0mstr\u001b[0m\u001b[0;34m)\u001b[0m\u001b[0;34m,\u001b[0m \u001b[0;34m'Error in input sequence. Nucleotide must be a string.'\u001b[0m\u001b[0;34m\u001b[0m\u001b[0;34m\u001b[0m\u001b[0m\n\u001b[0m\u001b[1;32m     24\u001b[0m \u001b[0;34m\u001b[0m\u001b[0m\n\u001b[1;32m     25\u001b[0m     \u001b[0;31m# TODO: Check that the sequence only contains 'ACTG'\u001b[0m\u001b[0;34m\u001b[0m\u001b[0;34m\u001b[0m\u001b[0;34m\u001b[0m\u001b[0m\n",
      "\u001b[0;31mAssertionError\u001b[0m: Error in input sequence. Nucleotide must be a string."
     ]
    }
   ],
   "source": [
    "protein_seq, nucleotide_counts = translate(22)"
   ]
  },
  {
   "cell_type": "markdown",
   "id": "9ccf0f38",
   "metadata": {},
   "source": [
    "## NumPy\n",
    "\n",
    "NumPy (Numerical Python) is the most widely-used Python library. It isn't part of the default distribution, but can easily be installed. The benefit is the speed. NumPy is much faster than using ordinary lists (orders of magnitude faster). It can also handle matricies of all sizes."
   ]
  },
  {
   "cell_type": "code",
   "execution_count": 33,
   "id": "7ae67355",
   "metadata": {},
   "outputs": [],
   "source": [
    "import numpy as np"
   ]
  },
  {
   "cell_type": "code",
   "execution_count": 34,
   "id": "fb55f61b",
   "metadata": {},
   "outputs": [
    {
     "name": "stdout",
     "output_type": "stream",
     "text": [
      "[ 3  5  7  9 11 13 15 17 19]\n"
     ]
    }
   ],
   "source": [
    "a = np.arange(3,20,2)\n",
    "print(a)"
   ]
  },
  {
   "cell_type": "code",
   "execution_count": 35,
   "id": "7533b325",
   "metadata": {},
   "outputs": [
    {
     "name": "stdout",
     "output_type": "stream",
     "text": [
      "[ 7  9 11 13 15 17 19 21 23]\n"
     ]
    }
   ],
   "source": [
    "a += 4\n",
    "print(a)"
   ]
  },
  {
   "cell_type": "code",
   "execution_count": 36,
   "id": "6c4aec65",
   "metadata": {},
   "outputs": [
    {
     "name": "stdout",
     "output_type": "stream",
     "text": [
      "[14 18 22 26 30 34 38 42 46]\n"
     ]
    }
   ],
   "source": [
    "a *= 2\n",
    "print(a)"
   ]
  },
  {
   "cell_type": "code",
   "execution_count": 37,
   "id": "8ccbfe65",
   "metadata": {},
   "outputs": [
    {
     "name": "stdout",
     "output_type": "stream",
     "text": [
      "[ 7.  9. 11. 13. 15. 17. 19. 21. 23.]\n"
     ]
    }
   ],
   "source": [
    "a = a / 2\n",
    "print(a)"
   ]
  },
  {
   "cell_type": "code",
   "execution_count": 38,
   "id": "a206ccb7",
   "metadata": {},
   "outputs": [
    {
     "data": {
      "text/plain": [
       "array([11., 13., 15., 17., 19.])"
      ]
     },
     "execution_count": 38,
     "metadata": {},
     "output_type": "execute_result"
    }
   ],
   "source": [
    "a[2:7]"
   ]
  },
  {
   "cell_type": "code",
   "execution_count": 39,
   "id": "faf1deec",
   "metadata": {},
   "outputs": [
    {
     "name": "stdout",
     "output_type": "stream",
     "text": [
      "[ 7.  9. 11. 13. 15. 17. 19. 21. 23.]\n",
      "[28. 36. 44. 52. 60. 68. 76. 84. 92.]\n",
      "[ 35.  45.  55.  65.  75.  85.  95. 105. 115.]\n"
     ]
    }
   ],
   "source": [
    "b = a * 4\n",
    "print(a)\n",
    "print(b)\n",
    "print(a + b)"
   ]
  },
  {
   "cell_type": "code",
   "execution_count": 40,
   "id": "549de95e",
   "metadata": {},
   "outputs": [
    {
     "data": {
      "text/plain": [
       "15.0"
      ]
     },
     "execution_count": 40,
     "metadata": {},
     "output_type": "execute_result"
    }
   ],
   "source": [
    "a.mean()"
   ]
  },
  {
   "cell_type": "code",
   "execution_count": 41,
   "id": "eddcc83a",
   "metadata": {},
   "outputs": [
    {
     "data": {
      "text/plain": [
       "5.163977794943222"
      ]
     },
     "execution_count": 41,
     "metadata": {},
     "output_type": "execute_result"
    }
   ],
   "source": [
    "a.std()"
   ]
  },
  {
   "cell_type": "code",
   "execution_count": 42,
   "id": "bdef2de3",
   "metadata": {},
   "outputs": [
    {
     "data": {
      "text/plain": [
       "26.666666666666668"
      ]
     },
     "execution_count": 42,
     "metadata": {},
     "output_type": "execute_result"
    }
   ],
   "source": [
    "a.var()"
   ]
  },
  {
   "cell_type": "code",
   "execution_count": 43,
   "id": "2d34dfc2",
   "metadata": {},
   "outputs": [
    {
     "data": {
      "text/plain": [
       "23.0"
      ]
     },
     "execution_count": 43,
     "metadata": {},
     "output_type": "execute_result"
    }
   ],
   "source": [
    "a.max()"
   ]
  },
  {
   "cell_type": "code",
   "execution_count": 44,
   "id": "e17b9f1e",
   "metadata": {},
   "outputs": [
    {
     "data": {
      "text/plain": [
       "135.0"
      ]
     },
     "execution_count": 44,
     "metadata": {},
     "output_type": "execute_result"
    }
   ],
   "source": [
    "a.sum()"
   ]
  },
  {
   "cell_type": "code",
   "execution_count": 45,
   "id": "d93453fe",
   "metadata": {},
   "outputs": [
    {
     "data": {
      "text/plain": [
       "21082276215.0"
      ]
     },
     "execution_count": 45,
     "metadata": {},
     "output_type": "execute_result"
    }
   ],
   "source": [
    "a.prod()"
   ]
  },
  {
   "cell_type": "code",
   "execution_count": 46,
   "id": "22c48dc5",
   "metadata": {},
   "outputs": [
    {
     "data": {
      "text/plain": [
       "7.0"
      ]
     },
     "execution_count": 46,
     "metadata": {},
     "output_type": "execute_result"
    }
   ],
   "source": [
    "a.min()"
   ]
  },
  {
   "cell_type": "code",
   "execution_count": 47,
   "id": "0c224568",
   "metadata": {},
   "outputs": [
    {
     "data": {
      "text/plain": [
       "array([2.64575131, 3.        , 3.31662479, 3.60555128, 3.87298335,\n",
       "       4.12310563, 4.35889894, 4.58257569, 4.79583152])"
      ]
     },
     "execution_count": 47,
     "metadata": {},
     "output_type": "execute_result"
    }
   ],
   "source": [
    "np.sqrt(a)"
   ]
  },
  {
   "cell_type": "code",
   "execution_count": 48,
   "id": "bce8b41d",
   "metadata": {},
   "outputs": [
    {
     "data": {
      "text/plain": [
       "array([ 0.,  1.,  8., 27., 16.,  5.])"
      ]
     },
     "execution_count": 48,
     "metadata": {},
     "output_type": "execute_result"
    }
   ],
   "source": [
    "x1 = np.arange(6)\n",
    "x2 = [1.0, 2.0, 3.0, 3.0, 2.0, 1.0]\n",
    "np.power(x1, x2)"
   ]
  },
  {
   "cell_type": "code",
   "execution_count": 49,
   "id": "308d617e",
   "metadata": {},
   "outputs": [
    {
     "name": "stdout",
     "output_type": "stream",
     "text": [
      "[16 17 18 19]\n"
     ]
    }
   ],
   "source": [
    "c = np.array(range(20))\n",
    "print(c[c > 15])"
   ]
  },
  {
   "cell_type": "markdown",
   "id": "b93dff40",
   "metadata": {},
   "source": [
    "## Special numbers\n",
    "\n",
    "$ +\\infty, \\pi, -\\infty, e, NaN $"
   ]
  },
  {
   "cell_type": "code",
   "execution_count": 50,
   "id": "c5697bd3",
   "metadata": {},
   "outputs": [
    {
     "name": "stdout",
     "output_type": "stream",
     "text": [
      "[ 1.2                nan  4.          5.         -6.345              nan\n",
      "         inf  3.14159265  2.71828183        -inf]\n"
     ]
    }
   ],
   "source": [
    "d = np.array([1.2, np.nan, 4, 5, -6.345, np.nan, np.inf, np.pi, np.e, np.NINF])\n",
    "print(d)"
   ]
  },
  {
   "cell_type": "code",
   "execution_count": 51,
   "id": "f1c3a615",
   "metadata": {},
   "outputs": [
    {
     "data": {
      "text/plain": [
       "array([False,  True, False, False, False,  True, False, False, False,\n",
       "       False])"
      ]
     },
     "execution_count": 51,
     "metadata": {},
     "output_type": "execute_result"
    }
   ],
   "source": [
    "np.isnan(d)   # Is not a number?"
   ]
  },
  {
   "cell_type": "code",
   "execution_count": 52,
   "id": "da0fd514",
   "metadata": {},
   "outputs": [
    {
     "data": {
      "text/plain": [
       "array([False, False, False, False, False, False,  True, False, False,\n",
       "        True])"
      ]
     },
     "execution_count": 52,
     "metadata": {},
     "output_type": "execute_result"
    }
   ],
   "source": [
    "np.isinf(d)   # Is infinity?"
   ]
  },
  {
   "cell_type": "code",
   "execution_count": 53,
   "id": "3040c479",
   "metadata": {},
   "outputs": [
    {
     "data": {
      "text/plain": [
       "array([ True, False,  True,  True,  True, False, False,  True,  True,\n",
       "       False])"
      ]
     },
     "execution_count": 53,
     "metadata": {},
     "output_type": "execute_result"
    }
   ],
   "source": [
    "np.isfinite(d)  # Is finite?"
   ]
  },
  {
   "cell_type": "code",
   "execution_count": 54,
   "id": "a5f54a33",
   "metadata": {},
   "outputs": [
    {
     "data": {
      "text/plain": [
       "1.1920929e-07"
      ]
     },
     "execution_count": 54,
     "metadata": {},
     "output_type": "execute_result"
    }
   ],
   "source": [
    "np.finfo(np.float32).eps"
   ]
  },
  {
   "cell_type": "code",
   "execution_count": 55,
   "id": "85bb9b22",
   "metadata": {},
   "outputs": [
    {
     "data": {
      "text/plain": [
       "2.220446049250313e-16"
      ]
     },
     "execution_count": 55,
     "metadata": {},
     "output_type": "execute_result"
    }
   ],
   "source": [
    "np.finfo(np.float64).eps"
   ]
  },
  {
   "cell_type": "markdown",
   "id": "74b02c5a",
   "metadata": {},
   "source": [
    "## Reshape arrays"
   ]
  },
  {
   "cell_type": "code",
   "execution_count": 56,
   "id": "38027d63",
   "metadata": {},
   "outputs": [
    {
     "name": "stdout",
     "output_type": "stream",
     "text": [
      "[[ 1  2  3  4  5  6  7  8  9]\n",
      " [10 11 12 13 14 15 16 17 18]]\n",
      "(2, 9)\n",
      "[ 1  2  3  4  5  6  7  8  9 10 11 12 13 14 15 16 17 18]\n",
      "(18,)\n"
     ]
    }
   ],
   "source": [
    "arr2 = np.array([[1,2,3,4,5,6,7,8,9],\n",
    "        [10,11,12,13,14,15,16,17,18]])\n",
    "\n",
    "#reshape\n",
    "print(arr2)\n",
    "print(arr2.shape)\n",
    "print(np.reshape(arr2,-1))\n",
    "print(np.reshape(arr2,-1).shape)"
   ]
  },
  {
   "cell_type": "code",
   "execution_count": 57,
   "id": "4fc60eaa",
   "metadata": {},
   "outputs": [
    {
     "name": "stdout",
     "output_type": "stream",
     "text": [
      "True\n",
      "False\n"
     ]
    }
   ],
   "source": [
    "a = np.array([0.16,0.26,0.365])\n",
    "b = np.array([0.15,0.25,0.36])\n",
    "tolerance1 = 0.1 \n",
    "tolerance2 = 0.05\n",
    "print(np.allclose(a,b,tolerance1))\n",
    "print(np.allclose(a,b,tolerance2))"
   ]
  },
  {
   "cell_type": "code",
   "execution_count": 58,
   "id": "b1a7cfb8",
   "metadata": {
    "scrolled": true
   },
   "outputs": [
    {
     "name": "stdout",
     "output_type": "stream",
     "text": [
      "[[10  1  1  8]\n",
      " [11 14  7  4]\n",
      " [13  1 11  9]]\n"
     ]
    }
   ],
   "source": [
    "# 2D array\n",
    "t = np.random.randint(1, 16, (3, 4), dtype=int)\n",
    "print(t)"
   ]
  },
  {
   "cell_type": "code",
   "execution_count": 59,
   "id": "4e8b6acd",
   "metadata": {},
   "outputs": [
    {
     "name": "stdout",
     "output_type": "stream",
     "text": [
      "[[15 15  8 10]\n",
      " [ 7  4 11  8]\n",
      " [ 3 15 13 14]]\n"
     ]
    }
   ],
   "source": [
    "# 2D array\n",
    "t = np.random.randint(1, 16, (3, 4), dtype=int)\n",
    "print(t)"
   ]
  },
  {
   "cell_type": "code",
   "execution_count": 60,
   "id": "1f4324a6",
   "metadata": {},
   "outputs": [
    {
     "name": "stdout",
     "output_type": "stream",
     "text": [
      "['2' 'B' 'A' '3.5' '3.5' 'C' '2' '3.5' '-1' '2']\n"
     ]
    }
   ],
   "source": [
    "# Randomly chose 10 samples from the array with replacement\n",
    "print(np.random.choice(['A', 'B', '2', '3.5', 'C', '-1'], size=10, replace=True))"
   ]
  },
  {
   "cell_type": "code",
   "execution_count": 61,
   "id": "2e200f5b",
   "metadata": {},
   "outputs": [
    {
     "data": {
      "text/plain": [
       "array([[0.41357973, 0.30471555, 0.80774878, 0.42377025],\n",
       "       [0.06489038, 0.53941555, 0.62527025, 0.30762572],\n",
       "       [0.16937036, 0.63903786, 0.76998556, 0.64071728],\n",
       "       [0.10401002, 0.60771672, 0.5824511 , 0.70596025],\n",
       "       [0.35087674, 0.55687241, 0.12549033, 0.61350349]])"
      ]
     },
     "execution_count": 61,
     "metadata": {},
     "output_type": "execute_result"
    }
   ],
   "source": [
    "np.random.rand(5,4)"
   ]
  },
  {
   "cell_type": "code",
   "execution_count": 62,
   "id": "d53f889a",
   "metadata": {},
   "outputs": [
    {
     "name": "stdout",
     "output_type": "stream",
     "text": [
      "['A' 'T' 'T' 'C' 'G' 'G' 'T' 'A' 'C' 'T' 'C' 'T' 'C' 'T' 'G' 'A' 'T' 'T'\n",
      " 'C' 'A' 'T' 'G']\n"
     ]
    }
   ],
   "source": [
    "def my_split(word):\n",
    "    return [char for char in word]\n",
    "\n",
    "dna = np.array(my_split('ATTCGGTACTCTCTGATTCATG'))\n",
    "print(dna)"
   ]
  },
  {
   "cell_type": "code",
   "execution_count": 63,
   "id": "e3d2a6e7",
   "metadata": {},
   "outputs": [
    {
     "name": "stdout",
     "output_type": "stream",
     "text": [
      "['A' 'T' 'C' 'T' 'C' 'T' 'G' 'T' 'A' 'A' 'G' 'G' 'C' 'T' 'G' 'C' 'T' 'T'\n",
      " 'C' 'T' 'A' 'T']\n"
     ]
    }
   ],
   "source": [
    "np.random.shuffle(dna)\n",
    "print(dna)"
   ]
  },
  {
   "cell_type": "code",
   "execution_count": 64,
   "id": "1cac7024",
   "metadata": {},
   "outputs": [
    {
     "name": "stdout",
     "output_type": "stream",
     "text": [
      "['A' 'T' 'C' 'T' 'C' 'T' 'G' 'T' 'A' 'A' 'G' 'G' 'C' 'T' 'G' 'C' 'T' 'T'\n",
      " 'C' 'T' 'A' 'T']\n"
     ]
    }
   ],
   "source": [
    "np.random.permutation(dna)\n",
    "print(dna)"
   ]
  },
  {
   "cell_type": "code",
   "execution_count": 65,
   "id": "da7b7348",
   "metadata": {},
   "outputs": [],
   "source": [
    "poiss = np.random.poisson(5, 100000) # Poisson distribution"
   ]
  },
  {
   "cell_type": "code",
   "execution_count": 66,
   "id": "705c8c8f",
   "metadata": {},
   "outputs": [
    {
     "data": {
      "image/png": "[encoded data removed]",
      "text/plain": [
       "<Figure size 432x288 with 1 Axes>"
      ]
     },
     "metadata": {
      "needs_background": "light"
     },
     "output_type": "display_data"
    }
   ],
   "source": [
    "import matplotlib.pyplot as plt   # We can use matplotlib to plot the PDFs\n",
    "\n",
    "count, bins, ignored = plt.hist(poiss, bins=15, density=True) # Plot a histogram\n",
    "plt.show()"
   ]
  },
  {
   "cell_type": "code",
   "execution_count": 67,
   "id": "c254c327",
   "metadata": {},
   "outputs": [
    {
     "data": {
      "image/png": "[encoded data removed]",
      "text/plain": [
       "<Figure size 432x288 with 1 Axes>"
      ]
     },
     "metadata": {
      "needs_background": "light"
     },
     "output_type": "display_data"
    }
   ],
   "source": [
    "uni = np.random.uniform(low=-10.0, high=10.0, size=1000) # Uniform distribution\n",
    "\n",
    "count, bins, ignored = plt.hist(uni, bins=5, density=True)\n",
    "plt.show()"
   ]
  },
  {
   "cell_type": "markdown",
   "id": "784944e7",
   "metadata": {},
   "source": [
    "## Random can be made deterministic\n",
    "\n",
    "You can ensure you get the same sequence of random numbers by setting the **seed** first in your code. It will still be a random sequence, but whenever you restart the program it will yield the same random sequence.\n",
    "\n",
    "If you don't specify the seed, then the system chooses a random seed (e.g. the system clock) to give the appearance of a random sequence every time you re-run the program."
   ]
  },
  {
   "cell_type": "code",
   "execution_count": 68,
   "id": "49ebeab7",
   "metadata": {},
   "outputs": [],
   "source": [
    "np.random.seed(seed=816)  # Put me BEFORE any random functions"
   ]
  },
  {
   "cell_type": "markdown",
   "id": "624d4568",
   "metadata": {},
   "source": [
    "## Cool fact\n",
    "\n",
    "Numbers are represented in binary format on a computer (rather than base 10). This works great for whole numbers. However, fractions have a problem. Some fractions can be represented as a power of 2. For example, $ 0.25 = 2^{-2}$ and $0.125 = 2^{-3}$. However, ${0.1, 0.2, 0.3, 0.4}$ can not be represented exactly as a power of 2. Their binary representations are very, very close, but not exact. This is why you sometimes see strange results when adding a number many, many times."
   ]
  },
  {
   "cell_type": "code",
   "execution_count": 77,
   "id": "8e15e414",
   "metadata": {},
   "outputs": [
    {
     "name": "stdout",
     "output_type": "stream",
     "text": [
      "0.1 is really 0.1000000000000000055511151231257827021181583404541015625 \n",
      " on the computer because 1/10 cannot be precisely represented as a power of 2.\n",
      " i.e. There is no integer power of 2 that equals 10.\n",
      "\n",
      "\n",
      "Let's add 0.1 to itself 1000000 times and then divide by 1000000\n",
      "This average should equal 0.100, but instead it is 0.100000000001332883803328854810\n"
     ]
    }
   ],
   "source": [
    "print('0.1 is really 0.1000000000000000055511151231257827021181583404541015625 \\n'\n",
    "      ' on the computer because 1/10 cannot be precisely represented as a power of 2.\\n'\n",
    "      ' i.e. There is no integer power of 2 that equals 10.')\n",
    "\n",
    "point_one = 0.1\n",
    "s = 0.0\n",
    "\n",
    "num_times = 1000000\n",
    "\n",
    "print(f\"\\n\\nLet's add {point_one} to itself {num_times} times and then divide by {num_times}\")\n",
    "for idx in range(num_times):\n",
    "    s += point_one\n",
    "    \n",
    "print(f'This average should equal {point_one:.3f}, but instead it is {(s / num_times):.30f}')"
   ]
  },
  {
   "cell_type": "code",
   "execution_count": null,
   "id": "b0fd8a57",
   "metadata": {},
   "outputs": [],
   "source": []
  }
 ],
 "metadata": {
  "kernelspec": {
   "display_name": "Python 3",
   "language": "python",
   "name": "python3"
  },
  "language_info": {
   "codemirror_mode": {
    "name": "ipython",
    "version": 3
   },
   "file_extension": ".py",
   "mimetype": "text/x-python",
   "name": "python",
   "nbconvert_exporter": "python",
   "pygments_lexer": "ipython3",
   "version": "3.8.10"
  }
 },
 "nbformat": 4,
 "nbformat_minor": 5
}
