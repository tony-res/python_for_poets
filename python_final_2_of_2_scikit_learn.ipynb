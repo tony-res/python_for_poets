{
 "cells": [
  {
   "cell_type": "markdown",
   "id": "f69689d1",
   "metadata": {},
   "source": [
    "# Data Science 101\n",
    "## [Classifier Models](https://scikit-learn.org/stable/modules/tree.html#classification)\n",
    "\n",
    "We'll use [scikit-learn](https://scikit-learn.org/stable/) to create a model that classifies some data (just created randomly) into 3 classes. This will be a good mockup of our cGMP datasets for the biosciences.\n",
    "\n",
    "A classifier model separates 2 or more classes. For example, the blue and red lines below separate the filled circles from the empty circles. Each line would be a unique classifier (some are better than others as you can see).\n",
    "\n",
    "![classifier image](https://upload.wikimedia.org/wikipedia/commons/thumb/2/20/Svm_separating_hyperplanes.png/1024px-Svm_separating_hyperplanes.png)"
   ]
  },
  {
   "cell_type": "markdown",
   "id": "759456f8",
   "metadata": {},
   "source": [
    "## Training a machine learning model to predict the class of a sample\n",
    "\n",
    "We'll use [scikit-learn](https://scikit-learn.org) (aka sklearn) and [Dask](https://www.dask.org/) to build and train our classifier model.\n",
    "\n",
    "### Scikit-learn - The Data Scientists pocket knife\n",
    "\n",
    "There are essentially 4 steps to building a model with scikit-learn:\n",
    "1. Build the dataloader & get the train/test/validation splits\n",
    "2. Construct the model\n",
    "3. Train the model on the train split\n",
    "4. Evaluate the model predictions on the test split\n",
    "\n",
    "### Dask - Scale our data loader to a planetary level!\n",
    "\n",
    "Here we'll use Dask as the dataloader. Recall from the first notebook (*python_final_1_of_2_scikit_learn.ipynb*) that a data loader is a generator that loads data only when it is needed. This allows us to use datasets that are far too large to fit into the computer's memory. It can also allow us to use streaming data that comes in continuously from a source (*e.g.* instruments in the lab that are constantly measuring things).\n",
    "\n",
    "In the first notebook we created a dataloader from scratch. However, typically you would use something like Dask to do this because we don't want to re-invent the wheel. (Note, there are other Python libraries that do out-of-memory and streaming/incremental modeling).\n"
   ]
  },
  {
   "cell_type": "markdown",
   "id": "09ec4e13",
   "metadata": {},
   "source": [
    "### Validation versus Test Data Splits\n",
    "\n",
    "There are 2 datasets that are typically \"held back\" from training: the test dataset and the validation dataset.\n",
    "\n",
    "\"Held back\" means that this data is never seen by the model during training. Before we begin training we split the data (randomly) into train, test, and validation shards. Only the training shard is used for training. This is the only way to provide an unbiased estimate of the model's performance. Remember, we are fitting the model to the training dataset so it stands to reason that the model will perform very well on the training dataset. \n",
    "\n",
    "The model is never trained on the validation nor test shards. The validation dataset is used to give an unbiased estimate of the performance of the final tuned model when comparing or selecting between final models. The test dataset is used at the very end (once you select the best model) to give an unbiased estimate of how your best model will perform with new data."
   ]
  },
  {
   "cell_type": "markdown",
   "id": "e001d1ef",
   "metadata": {},
   "source": [
    "## Let's create a new classifier dataset and save it to a CSV file\n",
    "\n",
    "We'll use the [Iris](https://archive.ics.uci.edu/ml/datasets/iris) dataset which is a classic classifier dataset to predict the type of flower from its petal measurements. The dataset fits into memory, but we're going to pretend that it doesn't and load it with Dask. This will exactly match the realworld case when we have GB to TB sized CSV files."
   ]
  },
  {
   "cell_type": "code",
   "execution_count": 1,
   "id": "b6906521",
   "metadata": {},
   "outputs": [],
   "source": [
    "import pandas as pd"
   ]
  },
  {
   "cell_type": "code",
   "execution_count": 2,
   "id": "9ff34e94",
   "metadata": {},
   "outputs": [],
   "source": [
    "csv_filename = \"iris_classification_dataset.csv\"\n",
    "target_label = \"Flower class\""
   ]
  },
  {
   "cell_type": "code",
   "execution_count": 3,
   "id": "2a912978",
   "metadata": {},
   "outputs": [],
   "source": [
    "from sklearn import datasets\n",
    "\n",
    "data = datasets.load_iris()\n",
    "df = pd.DataFrame(data=data[\"data\"], columns=data[\"feature_names\"])\n",
    "df[target_label] = data[\"target\"]\n",
    "df.to_csv(csv_filename, sep=\",\", index=False)"
   ]
  },
  {
   "cell_type": "markdown",
   "id": "97d59fc3",
   "metadata": {},
   "source": [
    "## Now we have our CSV. Next step is using Dask to load it.\n",
    "\n",
    "Note we're using Dask to replace the standard Pandas library. Think of Dask as Pandas on steroids."
   ]
  },
  {
   "cell_type": "code",
   "execution_count": 4,
   "id": "f046efc2",
   "metadata": {},
   "outputs": [],
   "source": [
    "import dask.dataframe as dd\n",
    "from dask_ml.model_selection import train_test_split"
   ]
  },
  {
   "cell_type": "markdown",
   "id": "6b631504",
   "metadata": {},
   "source": [
    "## Construct the model code\n"
   ]
  },
  {
   "cell_type": "code",
   "execution_count": 5,
   "id": "900c1ee0",
   "metadata": {},
   "outputs": [],
   "source": [
    "ddf = dd.read_csv(csv_filename, blocksize=\"16MB\")"
   ]
  },
  {
   "cell_type": "code",
   "execution_count": 6,
   "id": "f3b974f1",
   "metadata": {
    "scrolled": true
   },
   "outputs": [
    {
     "data": {
      "text/html": [
       "<div><strong>Dask DataFrame Structure:</strong></div>\n",
       "<div>\n",
       "<style scoped>\n",
       "    .dataframe tbody tr th:only-of-type {\n",
       "        vertical-align: middle;\n",
       "    }\n",
       "\n",
       "    .dataframe tbody tr th {\n",
       "        vertical-align: top;\n",
       "    }\n",
       "\n",
       "    .dataframe thead th {\n",
       "        text-align: right;\n",
       "    }\n",
       "</style>\n",
       "<table border=\"1\" class=\"dataframe\">\n",
       "  <thead>\n",
       "    <tr style=\"text-align: right;\">\n",
       "      <th></th>\n",
       "      <th>sepal length (cm)</th>\n",
       "      <th>sepal width (cm)</th>\n",
       "      <th>petal length (cm)</th>\n",
       "      <th>petal width (cm)</th>\n",
       "      <th>Flower class</th>\n",
       "    </tr>\n",
       "    <tr>\n",
       "      <th>npartitions=1</th>\n",
       "      <th></th>\n",
       "      <th></th>\n",
       "      <th></th>\n",
       "      <th></th>\n",
       "      <th></th>\n",
       "    </tr>\n",
       "  </thead>\n",
       "  <tbody>\n",
       "    <tr>\n",
       "      <th></th>\n",
       "      <td>float64</td>\n",
       "      <td>float64</td>\n",
       "      <td>float64</td>\n",
       "      <td>float64</td>\n",
       "      <td>int64</td>\n",
       "    </tr>\n",
       "    <tr>\n",
       "      <th></th>\n",
       "      <td>...</td>\n",
       "      <td>...</td>\n",
       "      <td>...</td>\n",
       "      <td>...</td>\n",
       "      <td>...</td>\n",
       "    </tr>\n",
       "  </tbody>\n",
       "</table>\n",
       "</div>\n",
       "<div>Dask Name: read-csv, 1 tasks</div>"
      ],
      "text/plain": [
       "Dask DataFrame Structure:\n",
       "              sepal length (cm) sepal width (cm) petal length (cm) petal width (cm) Flower class\n",
       "npartitions=1                                                                                   \n",
       "                        float64          float64           float64          float64        int64\n",
       "                            ...              ...               ...              ...          ...\n",
       "Dask Name: read-csv, 1 tasks"
      ]
     },
     "execution_count": 6,
     "metadata": {},
     "output_type": "execute_result"
    }
   ],
   "source": [
    "ddf"
   ]
  },
  {
   "cell_type": "code",
   "execution_count": 7,
   "id": "3651abe5",
   "metadata": {},
   "outputs": [
    {
     "data": {
      "text/html": [
       "<div>\n",
       "<style scoped>\n",
       "    .dataframe tbody tr th:only-of-type {\n",
       "        vertical-align: middle;\n",
       "    }\n",
       "\n",
       "    .dataframe tbody tr th {\n",
       "        vertical-align: top;\n",
       "    }\n",
       "\n",
       "    .dataframe thead th {\n",
       "        text-align: right;\n",
       "    }\n",
       "</style>\n",
       "<table border=\"1\" class=\"dataframe\">\n",
       "  <thead>\n",
       "    <tr style=\"text-align: right;\">\n",
       "      <th></th>\n",
       "      <th>sepal length (cm)</th>\n",
       "      <th>sepal width (cm)</th>\n",
       "      <th>petal length (cm)</th>\n",
       "      <th>petal width (cm)</th>\n",
       "      <th>Flower class</th>\n",
       "    </tr>\n",
       "  </thead>\n",
       "  <tbody>\n",
       "    <tr>\n",
       "      <th>0</th>\n",
       "      <td>5.1</td>\n",
       "      <td>3.5</td>\n",
       "      <td>1.4</td>\n",
       "      <td>0.2</td>\n",
       "      <td>0</td>\n",
       "    </tr>\n",
       "    <tr>\n",
       "      <th>1</th>\n",
       "      <td>4.9</td>\n",
       "      <td>3.0</td>\n",
       "      <td>1.4</td>\n",
       "      <td>0.2</td>\n",
       "      <td>0</td>\n",
       "    </tr>\n",
       "    <tr>\n",
       "      <th>2</th>\n",
       "      <td>4.7</td>\n",
       "      <td>3.2</td>\n",
       "      <td>1.3</td>\n",
       "      <td>0.2</td>\n",
       "      <td>0</td>\n",
       "    </tr>\n",
       "    <tr>\n",
       "      <th>3</th>\n",
       "      <td>4.6</td>\n",
       "      <td>3.1</td>\n",
       "      <td>1.5</td>\n",
       "      <td>0.2</td>\n",
       "      <td>0</td>\n",
       "    </tr>\n",
       "    <tr>\n",
       "      <th>4</th>\n",
       "      <td>5.0</td>\n",
       "      <td>3.6</td>\n",
       "      <td>1.4</td>\n",
       "      <td>0.2</td>\n",
       "      <td>0</td>\n",
       "    </tr>\n",
       "  </tbody>\n",
       "</table>\n",
       "</div>"
      ],
      "text/plain": [
       "   sepal length (cm)  sepal width (cm)  petal length (cm)  petal width (cm)  \\\n",
       "0                5.1               3.5                1.4               0.2   \n",
       "1                4.9               3.0                1.4               0.2   \n",
       "2                4.7               3.2                1.3               0.2   \n",
       "3                4.6               3.1                1.5               0.2   \n",
       "4                5.0               3.6                1.4               0.2   \n",
       "\n",
       "   Flower class  \n",
       "0             0  \n",
       "1             0  \n",
       "2             0  \n",
       "3             0  \n",
       "4             0  "
      ]
     },
     "execution_count": 7,
     "metadata": {},
     "output_type": "execute_result"
    }
   ],
   "source": [
    "ddf.head()"
   ]
  },
  {
   "cell_type": "code",
   "execution_count": 8,
   "id": "a0ee8b8c",
   "metadata": {},
   "outputs": [],
   "source": [
    "y = ddf[target_label]\n",
    "X = ddf[ddf.columns.difference([target_label])]\n",
    "\n",
    "X_train, X_remain, y_train, y_remain = train_test_split(\n",
    "    X, y, test_size=0.3, shuffle=True, random_state=816\n",
    ")\n",
    "\n",
    "X_validate, X_test, y_validate, y_test = train_test_split(\n",
    "    X_remain, y_remain, test_size=0.5, shuffle=True, random_state=816\n",
    ")"
   ]
  },
  {
   "cell_type": "code",
   "execution_count": 9,
   "id": "f6ffa9fa",
   "metadata": {
    "scrolled": true
   },
   "outputs": [
    {
     "data": {
      "text/plain": [
       "5      0\n",
       "89     1\n",
       "140    2\n",
       "127    2\n",
       "22     0\n",
       "Name: Flower class, dtype: int64"
      ]
     },
     "execution_count": 9,
     "metadata": {},
     "output_type": "execute_result"
    }
   ],
   "source": [
    "y_train.head()"
   ]
  },
  {
   "cell_type": "code",
   "execution_count": 10,
   "id": "9ce84184",
   "metadata": {},
   "outputs": [
    {
     "data": {
      "text/html": [
       "<div>\n",
       "<style scoped>\n",
       "    .dataframe tbody tr th:only-of-type {\n",
       "        vertical-align: middle;\n",
       "    }\n",
       "\n",
       "    .dataframe tbody tr th {\n",
       "        vertical-align: top;\n",
       "    }\n",
       "\n",
       "    .dataframe thead th {\n",
       "        text-align: right;\n",
       "    }\n",
       "</style>\n",
       "<table border=\"1\" class=\"dataframe\">\n",
       "  <thead>\n",
       "    <tr style=\"text-align: right;\">\n",
       "      <th></th>\n",
       "      <th>petal length (cm)</th>\n",
       "      <th>petal width (cm)</th>\n",
       "      <th>sepal length (cm)</th>\n",
       "      <th>sepal width (cm)</th>\n",
       "    </tr>\n",
       "  </thead>\n",
       "  <tbody>\n",
       "    <tr>\n",
       "      <th>5</th>\n",
       "      <td>1.7</td>\n",
       "      <td>0.4</td>\n",
       "      <td>5.4</td>\n",
       "      <td>3.9</td>\n",
       "    </tr>\n",
       "    <tr>\n",
       "      <th>89</th>\n",
       "      <td>4.0</td>\n",
       "      <td>1.3</td>\n",
       "      <td>5.5</td>\n",
       "      <td>2.5</td>\n",
       "    </tr>\n",
       "    <tr>\n",
       "      <th>140</th>\n",
       "      <td>5.6</td>\n",
       "      <td>2.4</td>\n",
       "      <td>6.7</td>\n",
       "      <td>3.1</td>\n",
       "    </tr>\n",
       "    <tr>\n",
       "      <th>127</th>\n",
       "      <td>4.9</td>\n",
       "      <td>1.8</td>\n",
       "      <td>6.1</td>\n",
       "      <td>3.0</td>\n",
       "    </tr>\n",
       "    <tr>\n",
       "      <th>22</th>\n",
       "      <td>1.0</td>\n",
       "      <td>0.2</td>\n",
       "      <td>4.6</td>\n",
       "      <td>3.6</td>\n",
       "    </tr>\n",
       "  </tbody>\n",
       "</table>\n",
       "</div>"
      ],
      "text/plain": [
       "     petal length (cm)  petal width (cm)  sepal length (cm)  sepal width (cm)\n",
       "5                  1.7               0.4                5.4               3.9\n",
       "89                 4.0               1.3                5.5               2.5\n",
       "140                5.6               2.4                6.7               3.1\n",
       "127                4.9               1.8                6.1               3.0\n",
       "22                 1.0               0.2                4.6               3.6"
      ]
     },
     "execution_count": 10,
     "metadata": {},
     "output_type": "execute_result"
    }
   ],
   "source": [
    "X_train.head()"
   ]
  },
  {
   "cell_type": "code",
   "execution_count": 11,
   "id": "82b00403",
   "metadata": {},
   "outputs": [],
   "source": [
    "from tqdm.notebook import tqdm  # This gives us the nice progress bar!"
   ]
  },
  {
   "cell_type": "markdown",
   "id": "1f25e591",
   "metadata": {},
   "source": [
    "## Time for the classifier model!\n",
    "\n",
    "We're using the stochastic gradient descent classifier from scikit-learn. Note not all scikit-learn models will work with Dask. You'll need to find scikit-learn models that support the `partial_fit()` function. This function allows us to train one batch at a time."
   ]
  },
  {
   "cell_type": "code",
   "execution_count": 12,
   "id": "0af61576",
   "metadata": {},
   "outputs": [],
   "source": [
    "from sklearn.linear_model import SGDClassifier\n",
    "from dask_ml.wrappers import Incremental"
   ]
  },
  {
   "cell_type": "code",
   "execution_count": 13,
   "id": "88931b66",
   "metadata": {},
   "outputs": [],
   "source": [
    "classifier_model = SGDClassifier(loss=\"log_loss\")  # Log loss is for classification models (use MSE for regression models)"
   ]
  },
  {
   "cell_type": "markdown",
   "id": "e7e6b359",
   "metadata": {},
   "source": [
    "## Incremental/batch/stream learning\n",
    "\n",
    "So far everything has looked like our usual scikit-learn training. Here's where we tweak it a bit to allow for incremental learning. This might also be called batch learning or stream learning or online learning. It can handle datasets that are read in a batch at a time. This is wonderful when you are using really big datasets and datasets that are streaming from a source (like an IOT device)."
   ]
  },
  {
   "cell_type": "code",
   "execution_count": 14,
   "id": "5aed1405",
   "metadata": {},
   "outputs": [],
   "source": [
    "classifier_increment = Incremental(classifier_model, scoring=\"accuracy\") "
   ]
  },
  {
   "cell_type": "code",
   "execution_count": 15,
   "id": "f0791743",
   "metadata": {},
   "outputs": [],
   "source": [
    "NUMBER_OF_EPOCHS = 1000  # An epoch is just one pass through the dataset. We train for multiple epochs when we do SGD"
   ]
  },
  {
   "cell_type": "code",
   "execution_count": 16,
   "id": "cea9b30e",
   "metadata": {},
   "outputs": [
    {
     "name": "stdout",
     "output_type": "stream",
     "text": [
      "We have the following classes in our dataset:\n",
      "0    0\n",
      "1    1\n",
      "2    2\n",
      "Name: Flower class, dtype: int64\n"
     ]
    }
   ],
   "source": [
    "classes = y_train.unique().compute()   # Note we need the .compute() at the end when using Dask (this is different than Pandas)\n",
    "print(f\"We have the following classes in our dataset:\\n{classes}\")"
   ]
  },
  {
   "cell_type": "code",
   "execution_count": 17,
   "id": "0a0e1c42",
   "metadata": {},
   "outputs": [
    {
     "data": {
      "application/vnd.jupyter.widget-view+json": {
       "model_id": "b708e52a7e644f13b9084bb3cc160305",
       "version_major": 2,
       "version_minor": 0
      },
      "text/plain": [
       "  0%|          | 0/1000 [00:00<?, ?it/s]"
      ]
     },
     "metadata": {},
     "output_type": "display_data"
    }
   ],
   "source": [
    "for _ in (pbar := tqdm(range(NUMBER_OF_EPOCHS))):\n",
    "    \n",
    "    # We're training for one batch at a time\n",
    "    classifier_increment.partial_fit(X_train, y_train, classes=classes)\n",
    "    \n",
    "    pbar.set_description(f\"Accuracy = {classifier_increment.score(X_train, y_train):.3f}\")"
   ]
  },
  {
   "cell_type": "markdown",
   "id": "a8a96873",
   "metadata": {},
   "source": [
    "## Check how well we did\n",
    "\n",
    "During training we printed out the accuracy on the training dataset.\n",
    "\n",
    "We use the test dataset to test how well the model performs to data that it hasn't seen before. This gives us an unbiased (hopefully) estimate of the true model performance for future data. This is what you would report as the final model accuracy."
   ]
  },
  {
   "cell_type": "code",
   "execution_count": 18,
   "id": "a7e61d04",
   "metadata": {},
   "outputs": [
    {
     "name": "stdout",
     "output_type": "stream",
     "text": [
      "The final model has an accuracy of 95.7%\n"
     ]
    }
   ],
   "source": [
    "print(f\"The final model has an accuracy of {100*classifier_increment.score(X_test, y_test):.1f}%\")"
   ]
  },
  {
   "cell_type": "markdown",
   "id": "d2df8fb0",
   "metadata": {},
   "source": [
    "## Let's make some predictions of our test dataset"
   ]
  },
  {
   "cell_type": "code",
   "execution_count": 19,
   "id": "ff448a43",
   "metadata": {},
   "outputs": [
    {
     "data": {
      "text/html": [
       "<table>\n",
       "    <tr>\n",
       "        <td>\n",
       "            <table>\n",
       "                <thead>\n",
       "                    <tr>\n",
       "                        <td> </td>\n",
       "                        <th> Array </th>\n",
       "                        <th> Chunk </th>\n",
       "                    </tr>\n",
       "                </thead>\n",
       "                <tbody>\n",
       "                    \n",
       "                    <tr>\n",
       "                        <th> Bytes </th>\n",
       "                        <td> unknown </td>\n",
       "                        <td> unknown </td>\n",
       "                    </tr>\n",
       "                    \n",
       "                    <tr>\n",
       "                        <th> Shape </th>\n",
       "                        <td> (nan,) </td>\n",
       "                        <td> (nan,) </td>\n",
       "                    </tr>\n",
       "                    <tr>\n",
       "                        <th> Count </th>\n",
       "                        <td> 7 Tasks </td>\n",
       "                        <td> 1 Chunks </td>\n",
       "                    </tr>\n",
       "                    <tr>\n",
       "                    <th> Type </th>\n",
       "                    <td> int64 </td>\n",
       "                    <td> numpy.ndarray </td>\n",
       "                    </tr>\n",
       "                </tbody>\n",
       "            </table>\n",
       "        </td>\n",
       "        <td>\n",
       "        \n",
       "        </td>\n",
       "    </tr>\n",
       "</table>"
      ],
      "text/plain": [
       "dask.array<_predict, shape=(nan,), dtype=int64, chunksize=(nan,), chunktype=numpy.ndarray>"
      ]
     },
     "execution_count": 19,
     "metadata": {},
     "output_type": "execute_result"
    }
   ],
   "source": [
    "classifier_increment.predict(X_test)"
   ]
  },
  {
   "cell_type": "code",
   "execution_count": 20,
   "id": "aaecbf26",
   "metadata": {},
   "outputs": [
    {
     "data": {
      "text/html": [
       "<div>\n",
       "<style scoped>\n",
       "    .dataframe tbody tr th:only-of-type {\n",
       "        vertical-align: middle;\n",
       "    }\n",
       "\n",
       "    .dataframe tbody tr th {\n",
       "        vertical-align: top;\n",
       "    }\n",
       "\n",
       "    .dataframe thead th {\n",
       "        text-align: right;\n",
       "    }\n",
       "</style>\n",
       "<table border=\"1\" class=\"dataframe\">\n",
       "  <thead>\n",
       "    <tr style=\"text-align: right;\">\n",
       "      <th></th>\n",
       "      <th>Truth</th>\n",
       "      <th>Prediction</th>\n",
       "    </tr>\n",
       "  </thead>\n",
       "  <tbody>\n",
       "    <tr>\n",
       "      <th>11</th>\n",
       "      <td>0</td>\n",
       "      <td>0</td>\n",
       "    </tr>\n",
       "    <tr>\n",
       "      <th>130</th>\n",
       "      <td>2</td>\n",
       "      <td>2</td>\n",
       "    </tr>\n",
       "    <tr>\n",
       "      <th>28</th>\n",
       "      <td>0</td>\n",
       "      <td>0</td>\n",
       "    </tr>\n",
       "    <tr>\n",
       "      <th>21</th>\n",
       "      <td>0</td>\n",
       "      <td>0</td>\n",
       "    </tr>\n",
       "    <tr>\n",
       "      <th>125</th>\n",
       "      <td>2</td>\n",
       "      <td>2</td>\n",
       "    </tr>\n",
       "    <tr>\n",
       "      <th>37</th>\n",
       "      <td>0</td>\n",
       "      <td>0</td>\n",
       "    </tr>\n",
       "    <tr>\n",
       "      <th>84</th>\n",
       "      <td>1</td>\n",
       "      <td>1</td>\n",
       "    </tr>\n",
       "    <tr>\n",
       "      <th>9</th>\n",
       "      <td>0</td>\n",
       "      <td>0</td>\n",
       "    </tr>\n",
       "    <tr>\n",
       "      <th>19</th>\n",
       "      <td>0</td>\n",
       "      <td>0</td>\n",
       "    </tr>\n",
       "    <tr>\n",
       "      <th>33</th>\n",
       "      <td>0</td>\n",
       "      <td>0</td>\n",
       "    </tr>\n",
       "    <tr>\n",
       "      <th>148</th>\n",
       "      <td>2</td>\n",
       "      <td>2</td>\n",
       "    </tr>\n",
       "    <tr>\n",
       "      <th>142</th>\n",
       "      <td>2</td>\n",
       "      <td>2</td>\n",
       "    </tr>\n",
       "    <tr>\n",
       "      <th>104</th>\n",
       "      <td>2</td>\n",
       "      <td>2</td>\n",
       "    </tr>\n",
       "    <tr>\n",
       "      <th>4</th>\n",
       "      <td>0</td>\n",
       "      <td>0</td>\n",
       "    </tr>\n",
       "    <tr>\n",
       "      <th>123</th>\n",
       "      <td>2</td>\n",
       "      <td>1</td>\n",
       "    </tr>\n",
       "    <tr>\n",
       "      <th>74</th>\n",
       "      <td>1</td>\n",
       "      <td>1</td>\n",
       "    </tr>\n",
       "    <tr>\n",
       "      <th>0</th>\n",
       "      <td>0</td>\n",
       "      <td>0</td>\n",
       "    </tr>\n",
       "    <tr>\n",
       "      <th>94</th>\n",
       "      <td>1</td>\n",
       "      <td>1</td>\n",
       "    </tr>\n",
       "    <tr>\n",
       "      <th>3</th>\n",
       "      <td>0</td>\n",
       "      <td>0</td>\n",
       "    </tr>\n",
       "    <tr>\n",
       "      <th>16</th>\n",
       "      <td>0</td>\n",
       "      <td>0</td>\n",
       "    </tr>\n",
       "    <tr>\n",
       "      <th>67</th>\n",
       "      <td>1</td>\n",
       "      <td>1</td>\n",
       "    </tr>\n",
       "    <tr>\n",
       "      <th>12</th>\n",
       "      <td>0</td>\n",
       "      <td>0</td>\n",
       "    </tr>\n",
       "    <tr>\n",
       "      <th>52</th>\n",
       "      <td>1</td>\n",
       "      <td>1</td>\n",
       "    </tr>\n",
       "  </tbody>\n",
       "</table>\n",
       "</div>"
      ],
      "text/plain": [
       "     Truth  Prediction\n",
       "11       0           0\n",
       "130      2           2\n",
       "28       0           0\n",
       "21       0           0\n",
       "125      2           2\n",
       "37       0           0\n",
       "84       1           1\n",
       "9        0           0\n",
       "19       0           0\n",
       "33       0           0\n",
       "148      2           2\n",
       "142      2           2\n",
       "104      2           2\n",
       "4        0           0\n",
       "123      2           1\n",
       "74       1           1\n",
       "0        0           0\n",
       "94       1           1\n",
       "3        0           0\n",
       "16       0           0\n",
       "67       1           1\n",
       "12       0           0\n",
       "52       1           1"
      ]
     },
     "execution_count": 20,
     "metadata": {},
     "output_type": "execute_result"
    }
   ],
   "source": [
    "df = pd.DataFrame()\n",
    "\n",
    "df[\"Truth\"] = y_test.compute()\n",
    "df[\"Prediction\"] =  classifier_increment.predict(X_test).compute()  # Note the compute()\n",
    "\n",
    "df"
   ]
  },
  {
   "cell_type": "code",
   "execution_count": 21,
   "id": "011e0993",
   "metadata": {},
   "outputs": [],
   "source": [
    "def map_values(x:int):\n",
    "    \"\"\"Map the class value to the class name\n",
    "    \n",
    "    Args:\n",
    "        x(int): Class value\n",
    "    \"\"\"\n",
    "    if x == 0:\n",
    "        return \"Iris Setosa\"\n",
    "    elif x == 1:\n",
    "        return \"Iris Virginica\"\n",
    "    elif x == 2:\n",
    "        return \"Iris Versicolour\"\n",
    "    else:\n",
    "        return \"Error - Class not known\""
   ]
  },
  {
   "cell_type": "code",
   "execution_count": 22,
   "id": "fb913734",
   "metadata": {},
   "outputs": [
    {
     "data": {
      "text/html": [
       "<div>\n",
       "<style scoped>\n",
       "    .dataframe tbody tr th:only-of-type {\n",
       "        vertical-align: middle;\n",
       "    }\n",
       "\n",
       "    .dataframe tbody tr th {\n",
       "        vertical-align: top;\n",
       "    }\n",
       "\n",
       "    .dataframe thead th {\n",
       "        text-align: right;\n",
       "    }\n",
       "</style>\n",
       "<table border=\"1\" class=\"dataframe\">\n",
       "  <thead>\n",
       "    <tr style=\"text-align: right;\">\n",
       "      <th></th>\n",
       "      <th>Truth</th>\n",
       "      <th>Prediction</th>\n",
       "      <th>Match?</th>\n",
       "    </tr>\n",
       "  </thead>\n",
       "  <tbody>\n",
       "    <tr>\n",
       "      <th>11</th>\n",
       "      <td>Iris Setosa</td>\n",
       "      <td>Iris Setosa</td>\n",
       "      <td>True</td>\n",
       "    </tr>\n",
       "    <tr>\n",
       "      <th>130</th>\n",
       "      <td>Iris Versicolour</td>\n",
       "      <td>Iris Versicolour</td>\n",
       "      <td>True</td>\n",
       "    </tr>\n",
       "    <tr>\n",
       "      <th>28</th>\n",
       "      <td>Iris Setosa</td>\n",
       "      <td>Iris Setosa</td>\n",
       "      <td>True</td>\n",
       "    </tr>\n",
       "    <tr>\n",
       "      <th>21</th>\n",
       "      <td>Iris Setosa</td>\n",
       "      <td>Iris Setosa</td>\n",
       "      <td>True</td>\n",
       "    </tr>\n",
       "    <tr>\n",
       "      <th>125</th>\n",
       "      <td>Iris Versicolour</td>\n",
       "      <td>Iris Versicolour</td>\n",
       "      <td>True</td>\n",
       "    </tr>\n",
       "    <tr>\n",
       "      <th>37</th>\n",
       "      <td>Iris Setosa</td>\n",
       "      <td>Iris Setosa</td>\n",
       "      <td>True</td>\n",
       "    </tr>\n",
       "    <tr>\n",
       "      <th>84</th>\n",
       "      <td>Iris Virginica</td>\n",
       "      <td>Iris Virginica</td>\n",
       "      <td>True</td>\n",
       "    </tr>\n",
       "    <tr>\n",
       "      <th>9</th>\n",
       "      <td>Iris Setosa</td>\n",
       "      <td>Iris Setosa</td>\n",
       "      <td>True</td>\n",
       "    </tr>\n",
       "    <tr>\n",
       "      <th>19</th>\n",
       "      <td>Iris Setosa</td>\n",
       "      <td>Iris Setosa</td>\n",
       "      <td>True</td>\n",
       "    </tr>\n",
       "    <tr>\n",
       "      <th>33</th>\n",
       "      <td>Iris Setosa</td>\n",
       "      <td>Iris Setosa</td>\n",
       "      <td>True</td>\n",
       "    </tr>\n",
       "    <tr>\n",
       "      <th>148</th>\n",
       "      <td>Iris Versicolour</td>\n",
       "      <td>Iris Versicolour</td>\n",
       "      <td>True</td>\n",
       "    </tr>\n",
       "    <tr>\n",
       "      <th>142</th>\n",
       "      <td>Iris Versicolour</td>\n",
       "      <td>Iris Versicolour</td>\n",
       "      <td>True</td>\n",
       "    </tr>\n",
       "    <tr>\n",
       "      <th>104</th>\n",
       "      <td>Iris Versicolour</td>\n",
       "      <td>Iris Versicolour</td>\n",
       "      <td>True</td>\n",
       "    </tr>\n",
       "    <tr>\n",
       "      <th>4</th>\n",
       "      <td>Iris Setosa</td>\n",
       "      <td>Iris Setosa</td>\n",
       "      <td>True</td>\n",
       "    </tr>\n",
       "    <tr>\n",
       "      <th>123</th>\n",
       "      <td>Iris Versicolour</td>\n",
       "      <td>Iris Virginica</td>\n",
       "      <td>False</td>\n",
       "    </tr>\n",
       "    <tr>\n",
       "      <th>74</th>\n",
       "      <td>Iris Virginica</td>\n",
       "      <td>Iris Virginica</td>\n",
       "      <td>True</td>\n",
       "    </tr>\n",
       "    <tr>\n",
       "      <th>0</th>\n",
       "      <td>Iris Setosa</td>\n",
       "      <td>Iris Setosa</td>\n",
       "      <td>True</td>\n",
       "    </tr>\n",
       "    <tr>\n",
       "      <th>94</th>\n",
       "      <td>Iris Virginica</td>\n",
       "      <td>Iris Virginica</td>\n",
       "      <td>True</td>\n",
       "    </tr>\n",
       "    <tr>\n",
       "      <th>3</th>\n",
       "      <td>Iris Setosa</td>\n",
       "      <td>Iris Setosa</td>\n",
       "      <td>True</td>\n",
       "    </tr>\n",
       "    <tr>\n",
       "      <th>16</th>\n",
       "      <td>Iris Setosa</td>\n",
       "      <td>Iris Setosa</td>\n",
       "      <td>True</td>\n",
       "    </tr>\n",
       "    <tr>\n",
       "      <th>67</th>\n",
       "      <td>Iris Virginica</td>\n",
       "      <td>Iris Virginica</td>\n",
       "      <td>True</td>\n",
       "    </tr>\n",
       "    <tr>\n",
       "      <th>12</th>\n",
       "      <td>Iris Setosa</td>\n",
       "      <td>Iris Setosa</td>\n",
       "      <td>True</td>\n",
       "    </tr>\n",
       "    <tr>\n",
       "      <th>52</th>\n",
       "      <td>Iris Virginica</td>\n",
       "      <td>Iris Virginica</td>\n",
       "      <td>True</td>\n",
       "    </tr>\n",
       "  </tbody>\n",
       "</table>\n",
       "</div>"
      ],
      "text/plain": [
       "                Truth        Prediction  Match?\n",
       "11        Iris Setosa       Iris Setosa    True\n",
       "130  Iris Versicolour  Iris Versicolour    True\n",
       "28        Iris Setosa       Iris Setosa    True\n",
       "21        Iris Setosa       Iris Setosa    True\n",
       "125  Iris Versicolour  Iris Versicolour    True\n",
       "37        Iris Setosa       Iris Setosa    True\n",
       "84     Iris Virginica    Iris Virginica    True\n",
       "9         Iris Setosa       Iris Setosa    True\n",
       "19        Iris Setosa       Iris Setosa    True\n",
       "33        Iris Setosa       Iris Setosa    True\n",
       "148  Iris Versicolour  Iris Versicolour    True\n",
       "142  Iris Versicolour  Iris Versicolour    True\n",
       "104  Iris Versicolour  Iris Versicolour    True\n",
       "4         Iris Setosa       Iris Setosa    True\n",
       "123  Iris Versicolour    Iris Virginica   False\n",
       "74     Iris Virginica    Iris Virginica    True\n",
       "0         Iris Setosa       Iris Setosa    True\n",
       "94     Iris Virginica    Iris Virginica    True\n",
       "3         Iris Setosa       Iris Setosa    True\n",
       "16        Iris Setosa       Iris Setosa    True\n",
       "67     Iris Virginica    Iris Virginica    True\n",
       "12        Iris Setosa       Iris Setosa    True\n",
       "52     Iris Virginica    Iris Virginica    True"
      ]
     },
     "execution_count": 22,
     "metadata": {},
     "output_type": "execute_result"
    }
   ],
   "source": [
    "df[\"Truth\"] = y_test.compute()\n",
    "df[\"Prediction\"] =  classifier_increment.predict(X_test).compute()  # Note the compute()\n",
    "\n",
    "\n",
    "df[\"Truth\"] = df[\"Truth\"].map(map_values)\n",
    "df[\"Prediction\"] = df[\"Prediction\"].map(map_values)\n",
    "\n",
    "df[\"Match?\"] = (df[\"Truth\"] == df[\"Prediction\"])\n",
    "\n",
    "df"
   ]
  },
  {
   "cell_type": "markdown",
   "id": "0c6aed9d",
   "metadata": {},
   "source": [
    "## We won't have time to go over the validation dataset but it's a good topic for another time"
   ]
  },
  {
   "cell_type": "code",
   "execution_count": 23,
   "id": "3296ec9d",
   "metadata": {},
   "outputs": [
    {
     "data": {
      "text/plain": [
       "1.0"
      ]
     },
     "execution_count": 23,
     "metadata": {},
     "output_type": "execute_result"
    }
   ],
   "source": [
    "classifier_increment.score(X_validate, y_validate)"
   ]
  },
  {
   "cell_type": "code",
   "execution_count": null,
   "id": "63b602c8",
   "metadata": {},
   "outputs": [],
   "source": []
  }
 ],
 "metadata": {
  "kernelspec": {
   "display_name": "Python 3 (ipykernel)",
   "language": "python",
   "name": "python3"
  },
  "language_info": {
   "codemirror_mode": {
    "name": "ipython",
    "version": 3
   },
   "file_extension": ".py",
   "mimetype": "text/x-python",
   "name": "python",
   "nbconvert_exporter": "python",
   "pygments_lexer": "ipython3",
   "version": "3.10.6"
  }
 },
 "nbformat": 4,
 "nbformat_minor": 5
}
